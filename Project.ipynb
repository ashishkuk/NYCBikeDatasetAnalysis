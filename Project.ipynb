{
  "cells": [
    {
      "cell_type": "markdown",
      "metadata": {
        "id": "HIgaZLa_vBB0"
      },
      "source": [
        "# **42577 - Project assignment**\n",
        "\n",
        "*Authors*: s233791, s232743, s193936, s204255\n",
        "\n",
        "*Date*: 06-11-2023\n",
        "\n",
        "*Description*: In a world facing unprecedented challenges like climate change, pandemics, social inequality, and biodiversity decline, the need for sustainable urban mobility solutions has never been greater. This project focuses on applying data science to optimize the operations of Citi Bike, one of the largest station-based bike-sharing systems in the United States.\n",
        "\n",
        "### The project consist of four sections:\n",
        "\n",
        "*   Data analysis and visualization\n",
        "*   Prediction Challenge\n",
        "*   Exploratory Component\n",
        "*   Conclusions"
      ]
    },
    {
      "cell_type": "markdown",
      "metadata": {
        "id": "wqWL25EbvPdR"
      },
      "source": [
        "## Data analysis and visualization"
      ]
    },
    {
      "cell_type": "code",
      "execution_count": 2,
      "metadata": {
        "id": "u4QH3-poJODR"
      },
      "outputs": [],
      "source": [
        "# Import packages\n",
        "import pandas as pd\n",
        "import matplotlib.pyplot as plt\n",
        "import numpy as np\n",
        "from scipy import stats\n",
        "from sklearn.cluster import DBSCAN\n",
        "from sklearn.metrics import pairwise_distances\n",
        "import random\n",
        "from matplotlib import colors as mcolors\n",
        "from sklearn.cluster import KMeans\n",
        "from sklearn.linear_model import LogisticRegression\n",
        "%matplotlib inline"
      ]
    },
    {
      "cell_type": "code",
      "execution_count": 5,
      "metadata": {
        "id": "KcKhOKICNx99"
      },
      "outputs": [],
      "source": [
        "# We start by loading the dataset specifying the index column, and the type of each column and the datetime columns\n",
        "df = pd.read_csv('    /path/to/data/Trips_2018.csv      ', index_col=0,\n",
        "                 dtype={\"tripduration\": \"int32\", \"start_station_id\" : \"category\", \"start_station_latitude\" : \"float64\",\n",
        "                        \"start_station_longitude\": \"float64\", \"end_station_id\": \"category\", \"end_station_latitude\": \"float64\",\n",
        "                        \"end_station_longitude\": \"float64\", \"bikeid\": \"category\", \"usertype\": \"string\", \"birth_year\": \"int64\", \"gender\": \"int64\"},\n",
        "                 parse_dates=[\"starttime\", \"stoptime\"])"
      ]
    },
    {
      "cell_type": "code",
      "execution_count": 6,
      "metadata": {
        "colab": {
          "base_uri": "https://localhost:8080/"
        },
        "id": "DFrbz_oBRfjB",
        "outputId": "9a22daf6-e6c7-4a0d-d94a-6e392e3dfcd1"
      },
      "outputs": [
        {
          "name": "stdout",
          "output_type": "stream",
          "text": [
            "|    |   tripduration | starttime                  | stoptime                   |   start_station_id |   start_station_latitude |   start_station_longitude |   end_station_id |   end_station_latitude |   end_station_longitude |   bikeid | usertype   |   birth_year |   gender |\n",
            "|---:|---------------:|:---------------------------|:---------------------------|-------------------:|-------------------------:|--------------------------:|-----------------:|-----------------------:|------------------------:|---------:|:-----------|-------------:|---------:|\n",
            "|  0 |            970 | 2018-01-01 13:50:57.434000 | 2018-01-01 14:07:08.186000 |                 72 |                  40.7673 |                  -73.9939 |              505 |                40.749  |                -73.9885 |    31956 | Subscriber |         1992 |        1 |\n",
            "|  1 |            723 | 2018-01-01 15:33:30.182000 | 2018-01-01 15:45:33.341000 |                 72 |                  40.7673 |                  -73.9939 |             3255 |                40.7506 |                -73.9947 |    32536 | Subscriber |         1969 |        1 |\n",
            "|  2 |            496 | 2018-01-01 15:39:18.337000 | 2018-01-01 15:47:35.172000 |                 72 |                  40.7673 |                  -73.9939 |              525 |                40.7559 |                -74.0021 |    16069 | Subscriber |         1956 |        1 |\n",
            "|  3 |            306 | 2018-01-01 15:40:13.372000 | 2018-01-01 15:45:20.191000 |                 72 |                  40.7673 |                  -73.9939 |              447 |                40.7637 |                -73.9852 |    31781 | Subscriber |         1974 |        1 |\n",
            "|  4 |            306 | 2018-01-01 18:14:51.568000 | 2018-01-01 18:19:57.642000 |                 72 |                  40.7673 |                  -73.9939 |             3356 |                40.7747 |                -73.9847 |    30319 | Subscriber |         1992 |        1 |\n",
            "|  5 |           1602 | 2018-01-01 21:31:54.192000 | 2018-01-01 21:58:36.353000 |                 72 |                  40.7673 |                  -73.9939 |              482 |                40.7394 |                -73.9993 |    30106 | Subscriber |         1968 |        1 |\n",
            "|  6 |            722 | 2018-01-02 07:54:53.646000 | 2018-01-02 08:06:55.872000 |                 72 |                  40.7673 |                  -73.9939 |              228 |                40.7546 |                -73.9719 |    32059 | Subscriber |         1978 |        1 |\n",
            "|  7 |            434 | 2018-01-02 08:06:14.331000 | 2018-01-02 08:13:28.767000 |                 72 |                  40.7673 |                  -73.9939 |              173 |                40.7607 |                -73.9845 |    30525 | Subscriber |         1983 |        1 |\n",
            "|  8 |            366 | 2018-01-02 08:10:15.255000 | 2018-01-02 08:16:21.896000 |                 72 |                  40.7673 |                  -73.9939 |              479 |                40.7602 |                -73.9913 |    27439 | Subscriber |         1974 |        1 |\n",
            "|  9 |            324 | 2018-01-02 08:13:30.896000 | 2018-01-02 08:18:55.120000 |                 72 |                  40.7673 |                  -73.9939 |              450 |                40.7623 |                -73.9879 |    30892 | Subscriber |         1947 |        1 |\n",
            "Dimension of dataframe:  (17548339, 13)\n"
          ]
        }
      ],
      "source": [
        "# We print the first 10 rows of the dataset\n",
        "print(df.head(10).to_markdown(tablefmt=\"pipe\"))\n",
        "\n",
        "# We print the size of the dataframe\n",
        "print(\"Dimension of dataframe: \", df.shape)"
      ]
    },
    {
      "cell_type": "markdown",
      "metadata": {
        "id": "SORC9Yg9Mfoa"
      },
      "source": [
        "### Data preparation\n",
        "\n",
        " The data is cleaned up. This includes remove incomplete rows with missing values, identify and remove outliers. Firstly, all the datapoints with NaN values are removed."
      ]
    },
    {
      "cell_type": "code",
      "execution_count": 7,
      "metadata": {
        "id": "sOQoKfLpBg8_"
      },
      "outputs": [],
      "source": [
        "# Save current shape\n",
        "shape_before = df.shape"
      ]
    },
    {
      "cell_type": "code",
      "execution_count": 8,
      "metadata": {
        "colab": {
          "base_uri": "https://localhost:8080/"
        },
        "id": "JBRKwJ01j8IL",
        "outputId": "baf6bfc8-b54a-40c8-a344-817aed48cd45"
      },
      "outputs": [
        {
          "name": "stdout",
          "output_type": "stream",
          "text": [
            "Gender types:  [1 0 2]\n",
            "Gender 0:  1482365\n",
            "Gender 1:  11960854\n",
            "Gender 2:  4091343\n",
            "Unique years of the starttimes:  [2018]\n",
            "Unique usertypes: ['Subscriber', 'Customer']\n",
            "\n",
            "Shape before cleaning data \t:\tdf.shape = (17548339, 13)\n",
            "Shape after cleaning data  \t:\tdf.shape = (17534562, 13) \n",
            "\n",
            "13777  rows have been romoved. Cleaning includes removal of NaNs, birth year before 1918, impossible trips\n"
          ]
        }
      ],
      "source": [
        "# We remove all data with NaN values\n",
        "df.dropna(inplace=True)\n",
        "\n",
        "# Eliminate impossible trips (<1 min; >6hrs)\n",
        "df = df[(df['tripduration'] > 60) ]\n",
        "\n",
        "# We remove users with birth year before 1918.\n",
        "df = df[(df['birth_year'] > 1918)]\n",
        "\n",
        "# We note that there are three differents types of gender. Here 0=unknown; 1=male; 2=female.\n",
        "print(\"Gender types: \",df['gender'].unique())\n",
        "print(\"Gender 0: \",len(df[df[\"gender\"]==0]))\n",
        "print(\"Gender 1: \",len(df[df[\"gender\"]==1]))\n",
        "print(\"Gender 2: \",len(df[df[\"gender\"]==2]))\n",
        "\n",
        "# We check that all starttimes are within the year 2018\n",
        "print(\"Unique years of the starttimes: \", df['starttime'].dt.year.unique())\n",
        "\n",
        "# Check types of users. Customer = 24-hour pass or 3-day pass user; Subscriber = Annual Member\n",
        "print(\"Unique usertypes:\", list(df['usertype'].unique()))\n",
        "\n",
        "print(f'\\nShape before cleaning data \\t:\\tdf.shape = {shape_before}')\n",
        "print(f'Shape after cleaning data  \\t:\\tdf.shape = {df.shape} \\n')\n",
        "\n",
        "print(shape_before[0]-df.shape[0],\" rows have been romoved. Cleaning includes removal of NaNs, birth year before 1918, impossible trips\")\n"
      ]
    },
    {
      "cell_type": "markdown",
      "metadata": {
        "id": "0GQYGaWpM399"
      },
      "source": [
        "The dataset needs to be analysed for inconsistent data. Each station must have one and only one location."
      ]
    },
    {
      "cell_type": "code",
      "execution_count": 15,
      "metadata": {
        "colab": {
          "base_uri": "https://localhost:8080/",
          "height": 261
        },
        "id": "rPS8DN3L0OZs",
        "outputId": "3b6bb68f-7478-4aaf-de9e-7d5ff57cc768"
      },
      "outputs": [
        {
          "name": "stdout",
          "output_type": "stream",
          "text": [
            "['72.0', '79.0', '82.0', '83.0', '119.0', ..., '3716.0', '3718.0', '3719.0', '3721.0', '3720.0']\n",
            "Length: 818\n",
            "Categories (818, object): ['119.0', '120.0', '127.0', '128.0', ..., '3718.0', '3719.0', '3720.0',\n",
            "                           '3721.0']\n",
            "There are 819 unique station locations in the dataset\n",
            "Stations with inconsistent coordinates: ['530.0']\n",
            "          start_station_longitude  start_station_latitude\n",
            "425248                 -73.990541               40.771522\n",
            "16532140               -73.990460               40.771497\n",
            "(42891, 13)\n",
            "(2542, 13)\n"
          ]
        },
        {
          "data": {
            "application/vnd.google.colaboratory.intrinsic+json": {
              "type": "string"
            },
            "text/plain": [
              "'\\nAfter research, it has been discovered that (-73.990541, 40.771522) and \\n(-73.990460, 40.771497) are almost identical. To correct this error in the dataset\\nthe station_id must have one and only one set of coordinates. Since there are more \\ntrips, which starts from (-73.990541, 40.771522) than (-73.990460, 40.771497),\\nwe choose the first set of coordinates to be the actual ones. Therefore we have to\\ncorrect (-73.990460, 40.771497) -> (-73.990541, 40.771522) for all trips (both \\nas start and stop).\\n'"
            ]
          },
          "execution_count": 15,
          "metadata": {},
          "output_type": "execute_result"
        }
      ],
      "source": [
        "# We start by figuring out how many unique stations are in the data set\n",
        "print(df[\"start_station_id\"].unique()) # There are 818 different station IDs\n",
        "\n",
        "# We extract the unique location values for all the stations\n",
        "uni_sta = df[['start_station_id', 'start_station_latitude', 'start_station_longitude']].drop_duplicates()\n",
        "\n",
        "# We start by figuring out how many unique stations are in the data set\n",
        "print(f\"There are {uni_sta.shape[0]} unique station locations in the dataset\") # One station must have two locations\n",
        "\n",
        "# We find out which stations have multiple locations\n",
        "\n",
        "# Group the data by 'start_station_id'\n",
        "groups = df.groupby('start_station_id')\n",
        "\n",
        "# Iterate through each group and check for inconsistencies\n",
        "inconsistent_stations = []\n",
        "for station_id, group in groups:\n",
        "    unique_coordinates = group[['start_station_longitude', 'start_station_latitude']].drop_duplicates()\n",
        "    if len(unique_coordinates) > 1:\n",
        "        inconsistent_stations.append(station_id)\n",
        "\n",
        "print(\"Stations with inconsistent coordinates:\", inconsistent_stations)\n",
        "station = df[df[\"start_station_id\"] == \"530.0\"]\n",
        "\n",
        "print(station[['start_station_longitude', 'start_station_latitude']].drop_duplicates())\n",
        "\n",
        "\n",
        "coordinates_530 = df[df[\"start_station_id\"] == \"530.0\"][\"start_station_latitude\"].unique()\n",
        "\n",
        "print(df[(df[\"start_station_id\"] == \"530.0\")&(df[\"start_station_latitude\"] == coordinates_530[0])].shape)\n",
        "print(df[(df[\"start_station_id\"] == \"530.0\")&(df[\"start_station_latitude\"] == coordinates_530[1])].shape)\n",
        "\n",
        "'''\n",
        "After research, it has been discovered that (-73.990541, 40.771522) and\n",
        "(-73.990460, 40.771497) are almost identical. To correct this error in the dataset\n",
        "the station_id must have one and only one set of coordinates. Since there are more\n",
        "trips, which starts from (-73.990541, 40.771522) than (-73.990460, 40.771497),\n",
        "we choose the first set of coordinates to be the actual ones. Therefore we have to\n",
        "correct (-73.990460, 40.771497) -> (-73.990541, 40.771522) for all trips (both\n",
        "as start and stop).\n",
        "'''"
      ]
    },
    {
      "cell_type": "code",
      "execution_count": null,
      "metadata": {
        "colab": {
          "base_uri": "https://localhost:8080/",
          "height": 371
        },
        "id": "cQnT3T9PqThq",
        "outputId": "f8bd0330-19e7-4dda-c1c9-6618d7ef4e04"
      },
      "outputs": [
        {
          "data": {
            "text/plain": [
              "(40.64653836709648, 46.506364054011385)"
            ]
          },
          "execution_count": 9,
          "metadata": {},
          "output_type": "execute_result"
        },
        {
          "data": {
            "image/png": "[encoded data removed]",
            "text/plain": [
              "<Figure size 1600x600 with 1 Axes>"
            ]
          },
          "metadata": {},
          "output_type": "display_data"
        }
      ],
      "source": [
        "# We start by plotting the data\n",
        "plt.figure(figsize=(16, 6))\n",
        "plt.scatter(uni_sta['start_station_longitude'], uni_sta['start_station_latitude'], s=5)\n",
        "\n",
        "plt.xlim((min(uni_sta['start_station_longitude']), max(uni_sta['start_station_longitude'])+0.1))\n",
        "plt.ylim((min(uni_sta['start_station_latitude']), max(uni_sta['start_station_latitude'])+1))"
      ]
    },
    {
      "cell_type": "code",
      "execution_count": null,
      "metadata": {
        "colab": {
          "base_uri": "https://localhost:8080/",
          "height": 431
        },
        "id": "O3QPJTTRre2b",
        "outputId": "35b78652-e84b-48e9-bcb1-1584011bd313"
      },
      "outputs": [
        {
          "name": "stdout",
          "output_type": "stream",
          "text": [
            "['3488.0', '3650.0']\n",
            "Categories (818, object): ['119.0', '120.0', '127.0', '128.0', ..., '3718.0', '3719.0', '3720.0',\n",
            "                           '3721.0']\n",
            "0.00043% of the rows have start_station_id equal to 3488 or 3650.\n"
          ]
        },
        {
          "data": {
            "text/plain": [
              "(40.636538367096485, 40.82439443791581)"
            ]
          },
          "execution_count": 10,
          "metadata": {},
          "output_type": "execute_result"
        },
        {
          "data": {
            "image/png": "[encoded data removed]",
            "text/plain": [
              "<Figure size 1600x600 with 1 Axes>"
            ]
          },
          "metadata": {},
          "output_type": "display_data"
        }
      ],
      "source": [
        "# We see from the plot that there are few stations that lie far away from the rest. We find out what stations it is\n",
        "df_outlier = uni_sta[uni_sta[\"start_station_longitude\"] > -73.7]\n",
        "print(df_outlier[\"start_station_id\"].unique()) # there are two such stations with ID 3488 and 3650\n",
        "\n",
        "# Check how many percent of the total rides are made up for by these two station\n",
        "filtered_rows = df[(df['start_station_id'] == \"3488.0\") | (df['start_station_id'] == \"3650.0\")]\n",
        "percentage = (len(filtered_rows) / len(df)) * 100\n",
        "print(f\"{percentage:.5f}% of the rows have start_station_id equal to 3488 or 3650.\") # only\n",
        "\n",
        "# Since they only make up 0.00043% of the trips, we decide to remove them from the dataset\n",
        "uni_sta_excl = uni_sta[(uni_sta[\"start_station_longitude\"] < -73.7)]\n",
        "\n",
        "# We plot the stations again\n",
        "plt.figure(figsize=(16, 6))\n",
        "plt.scatter(uni_sta_excl['start_station_longitude'], uni_sta_excl['start_station_latitude'], s=10)\n",
        "\n",
        "plt.xlim((min(uni_sta_excl['start_station_longitude']) - 0.01, max(uni_sta_excl['start_station_longitude']) + 0.01))\n",
        "plt.ylim((min(uni_sta_excl['start_station_latitude']) -0.01 , max(uni_sta_excl['start_station_latitude']) + 0.01))\n"
      ]
    },
    {
      "cell_type": "markdown",
      "metadata": {
        "id": "RxnhrqJs7YYM"
      },
      "source": [
        "Now we want to cluster the stations specially using either density-based clustering or K-means clustering. To evaluate the clustering performance of each method with different parameters, we use the distrotion measure."
      ]
    },
    {
      "cell_type": "code",
      "execution_count": null,
      "metadata": {
        "colab": {
          "base_uri": "https://localhost:8080/"
        },
        "id": "QmasTV8L7YPU",
        "outputId": "70e9d243-535c-488e-9e56-d04fea0d55c8"
      },
      "outputs": [
        {
          "name": "stdout",
          "output_type": "stream",
          "text": [
            "Best min_samples: 6\n",
            "Best eps: 0.004\n",
            "Best Distortion: 6.866704156518974\n"
          ]
        }
      ],
      "source": [
        "# Code to check best combination for dbscan that gives the best distortion value\n",
        "\n",
        "def test_dbscan(data, min_clusters, max_clusters, min_samples, max_samples, eps_min, eps_max, eps_step):\n",
        "  # Here we test the dbscan algorithm\n",
        "  best_eps = None\n",
        "  best_min_samples = None\n",
        "  best_distortion = float('inf')\n",
        "\n",
        "  # Define the range of min_samples and eps values to search\n",
        "  min_samples_range = range(min_samples, max_samples)  # Adjust as needed\n",
        "  eps_range = np.arange(eps_min, eps_max, eps_step)  # Adjust as needed\n",
        "\n",
        "  for min_samples in min_samples_range:\n",
        "    for eps in eps_range:\n",
        "      dbscan = DBSCAN(eps=eps, min_samples=min_samples)\n",
        "      cluster_labels = dbscan.fit_predict(x)\n",
        "      num_clusters = len(set(cluster_labels)) - 1  # Exclude noise (-1 label)\n",
        "\n",
        "      if num_clusters >= min_clusters and num_clusters <= max_clusters:\n",
        "          cluster_centers = [x[cluster_labels == i].mean(axis=0) for i in range(num_clusters)]\n",
        "          distances = pairwise_distances(x, cluster_centers)\n",
        "          distortion = sum(distances.min(axis=1))\n",
        "\n",
        "          if distortion < best_distortion:\n",
        "              best_distortion = distortion\n",
        "              best_eps = eps\n",
        "              best_min_samples = min_samples\n",
        "\n",
        "  print(\"Best min_samples:\", best_min_samples)\n",
        "  print(\"Best eps:\", best_eps)\n",
        "  print(\"Best Distortion:\", best_distortion)\n",
        "\n",
        "x=uni_sta_excl[['start_station_longitude', 'start_station_latitude']]\n",
        "test_dbscan(x, 20, 30, 1, 50, 0.001, 0.05, 0.001)"
      ]
    },
    {
      "cell_type": "code",
      "execution_count": null,
      "metadata": {
        "colab": {
          "base_uri": "https://localhost:8080/",
          "height": 564
        },
        "id": "Uvx0aQ6UQI7d",
        "outputId": "5d907e64-9fb8-4af8-b47b-a167fc59c373"
      },
      "outputs": [
        {
          "data": {
            "image/png": "[encoded data removed]",
            "text/plain": [
              "<Figure size 800x600 with 1 Axes>"
            ]
          },
          "metadata": {},
          "output_type": "display_data"
        }
      ],
      "source": [
        "# Code to make plot over min_sample based on fixed eps\n",
        "\n",
        "def plot_min_sample_distortion(data, sample_min, sample_max, eps_value):\n",
        "  # Define a range of min_samples values to test\n",
        "  min_samples_range = range(sample_min,sample_max)\n",
        "\n",
        "  # Lists to store Distortion Scores for each min_samples value\n",
        "  distortion_scores = []\n",
        "\n",
        "  for min_samples in min_samples_range:\n",
        "      # Create and fit the DBSCAN model with the current min_samples value\n",
        "      dbscan = DBSCAN(eps=eps_value, min_samples=min_samples)\n",
        "      cluster_labels = dbscan.fit_predict(data)\n",
        "\n",
        "      # Calculate cluster centers\n",
        "      cluster_centers = [data[cluster_labels == i].mean(axis=0) for i in range(len(set(cluster_labels)) - 1)]\n",
        "\n",
        "      # Calculate the pairwise distances\n",
        "      distances = sum([sum(np.linalg.norm(data[cluster_labels == i] - center, axis=1)) for i, center in enumerate(cluster_centers)])\n",
        "\n",
        "      # Calculate the Distortion Score and store it\n",
        "      distortion_scores.append(distances)\n",
        "\n",
        "  # Plot the Distortion Scores vs. min_samples\n",
        "  plt.figure(figsize=(8, 6))\n",
        "  plt.plot(min_samples_range, distortion_scores, marker='o')\n",
        "  plt.title('Distortion Score vs. min_samples for DBSCAN')\n",
        "  plt.xlabel('min_samples')\n",
        "  plt.ylabel('Distortion Score')\n",
        "  plt.grid(True)\n",
        "  plt.show()\n",
        "\n",
        "plot_min_sample_distortion(x, 2, 11, 0.004)\n"
      ]
    },
    {
      "cell_type": "code",
      "execution_count": null,
      "metadata": {
        "colab": {
          "base_uri": "https://localhost:8080/",
          "height": 564
        },
        "id": "MFZlFk0lb_uL",
        "outputId": "b0bb43f7-6c3f-4eb6-853e-95de850cfd8f"
      },
      "outputs": [
        {
          "data": {
            "image/png": "[encoded data removed]",
            "text/plain": [
              "<Figure size 800x600 with 1 Axes>"
            ]
          },
          "metadata": {},
          "output_type": "display_data"
        }
      ],
      "source": [
        "def plot_k_distortion(data, k_min, k_max, step):\n",
        "  # Define a range of min_samples values to test\n",
        "  k_range = range(k_min, k_max, step)\n",
        "\n",
        "  # Lists to store Distortion Scores for each min_samples value\n",
        "  distortion_scores = []\n",
        "\n",
        "  for k in k_range:\n",
        "      # Create and fit the DBSCAN model with the current min_samples value\n",
        "      kmeans = KMeans(k, n_init = 10)\n",
        "      cluster_labels = kmeans.fit_predict(data)\n",
        "\n",
        "      # Calculate cluster centers\n",
        "      cluster_centers = [data[cluster_labels == i].mean(axis=0) for i in range(len(set(cluster_labels)) - 1)]\n",
        "\n",
        "      # Calculate the pairwise distances\n",
        "      distances = sum([sum(np.linalg.norm(data[cluster_labels == i] - center, axis=1)) for i, center in enumerate(cluster_centers)])\n",
        "\n",
        "      # Calculate the Distortion Score and store it\n",
        "      distortion_scores.append(distances)\n",
        "\n",
        "  # Plot the Distortion Scores vs. min_samples\n",
        "  plt.figure(figsize=(8, 6))\n",
        "  plt.plot(k_range, distortion_scores, marker='o')\n",
        "  plt.title('Distortion Score vs. K for K-Means')\n",
        "  plt.xlabel('K')\n",
        "  plt.ylabel('Distortion Score')\n",
        "  plt.grid(True)\n",
        "  plt.show()\n",
        "  del kmeans\n",
        "\n",
        "plot_k_distortion(x, 20, 800, 10)\n",
        "\n"
      ]
    },
    {
      "cell_type": "markdown",
      "metadata": {
        "id": "OMCYIggK_hZa"
      },
      "source": [
        "This is here we write why we use the density-based clustering. We want over 20 clusters and we want a distortion score of less than 6.87 to use K-means rather than dbscan."
      ]
    },
    {
      "cell_type": "code",
      "execution_count": null,
      "metadata": {
        "colab": {
          "base_uri": "https://localhost:8080/",
          "height": 35
        },
        "id": "moYVfB57ua1N",
        "outputId": "04c34756-fdfd-43ff-919d-9a93c83d26e5"
      },
      "outputs": [
        {
          "data": {
            "application/vnd.google.colaboratory.intrinsic+json": {
              "type": "string"
            },
            "text/plain": [
              "'\\nkmeans = KMeans(20)\\nkmeans.fit(x)\\n'"
            ]
          },
          "execution_count": 14,
          "metadata": {},
          "output_type": "execute_result"
        }
      ],
      "source": [
        "\n",
        "# We now try to cluster the data using DBScan\n",
        "\n",
        "# We create the DBScan instance\n",
        "dbs=DBSCAN(min_samples=6, eps=0.004)\n",
        "\n",
        "# We fit the model\n",
        "x=uni_sta_excl[['start_station_longitude', 'start_station_latitude']]\n",
        "dbs.fit(x)\n",
        "\n",
        "\"\"\"\n",
        "kmeans = KMeans(20)\n",
        "kmeans.fit(x)\n",
        "\"\"\""
      ]
    },
    {
      "cell_type": "code",
      "execution_count": null,
      "metadata": {
        "colab": {
          "base_uri": "https://localhost:8080/",
          "height": 597
        },
        "id": "QwcBHplMu9Y0",
        "outputId": "51c0776b-a0ba-410a-b406-6077697fced6"
      },
      "outputs": [
        {
          "name": "stdout",
          "output_type": "stream",
          "text": [
            "28 clusters were identified\n"
          ]
        },
        {
          "data": {
            "image/png": "[encoded data removed]",
            "text/plain": [
              "<Figure size 1800x1200 with 1 Axes>"
            ]
          },
          "metadata": {},
          "output_type": "display_data"
        }
      ],
      "source": [
        "def plot_clusters(model, data):\n",
        "  num_colors=len(set(model.labels_))\n",
        "  colors=list(mcolors.CSS4_COLORS.keys())  #found this by searching \"python color list\"\n",
        "  cluster_colors=random.choices(colors, k=num_colors)\n",
        "\n",
        "  x_=[]\n",
        "  y_=[]\n",
        "  c_=[]\n",
        "  for label, x, y  in zip(model.labels_, data['start_station_longitude'], data['start_station_latitude']):\n",
        "      if label!=-1:\n",
        "          x_.append(x)\n",
        "          y_.append(y)\n",
        "          c_.append(cluster_colors[label])\n",
        "  plt.figure(figsize=(18, 12))\n",
        "  plt.scatter(x_,y_,s=10,c=c_)\n",
        "\n",
        "  # Setting the same axis, just for reading the results\n",
        "  plt.xlim((min(data['start_station_longitude']) - 0.01, max(data['start_station_longitude']) + 0.01))\n",
        "  plt.ylim((min(data['start_station_latitude']) - 0.01, max(data['start_station_latitude']) + 0.01))\n",
        "\n",
        "  num_clusters = len(set(model.labels_)) - (1 if -1 in model.labels_ else 0)\n",
        "  print(f\"{num_clusters} clusters were identified\")\n",
        "\n",
        "x=uni_sta_excl[['start_station_longitude', 'start_station_latitude']]\n",
        "plot_clusters(dbs, x)\n",
        "#plot_clusters(kmeans, x)\n"
      ]
    },
    {
      "cell_type": "markdown",
      "metadata": {
        "id": "zaxOuAfrNcFh"
      },
      "source": [
        "The following sections is dedicated to predicting the demand of bysicle rides over a periode of 24h. Therefore, the clusteres are sorted by size with the function below."
      ]
    },
    {
      "cell_type": "code",
      "execution_count": null,
      "metadata": {
        "colab": {
          "base_uri": "https://localhost:8080/",
          "height": 52
        },
        "id": "cvPjDS-F_nI-",
        "outputId": "c7c5ea76-2b8f-48d2-d392-5c6c843e287f"
      },
      "outputs": [
        {
          "data": {
            "application/vnd.google.colaboratory.intrinsic+json": {
              "type": "string"
            },
            "text/plain": [
              "\"\\ncluster_lab = kmeans.fit_predict(df[['start_station_longitude', 'start_station_latitude']])\\ndf['belong_to_cluster'] = cluster_lab\\ndf.head()\\ncluster_counts = df['belong_to_cluster'].value_counts()\\n\""
            ]
          },
          "execution_count": 16,
          "metadata": {},
          "output_type": "execute_result"
        }
      ],
      "source": [
        "def get_cluster_labels(df, model, start_station = True, chunk_size=20000):\n",
        "  cluster_labels_start = []\n",
        "  cluster_labels_end = []\n",
        "  num_rows = len(df)\n",
        "  for start in range(0, num_rows, chunk_size):\n",
        "    end = min(start + chunk_size, num_rows)\n",
        "    chunk = df.iloc[start:end]\n",
        "    labels_start = model.fit_predict(chunk[['start_station_longitude', 'start_station_latitude']])\n",
        "    labels_end = model.fit_predict(chunk[['end_station_longitude', 'end_station_latitude']])\n",
        "    cluster_labels_start.extend(labels_start)\n",
        "    cluster_labels_end.extend(labels_end)\n",
        "  return cluster_labels_start, cluster_labels_end\n",
        "\n",
        "labels_start, labels_end = get_cluster_labels(df, dbs)\n",
        "del dbs\n",
        "df[\"start_at_cluster\"] = labels_start\n",
        "df[\"end_at_cluster\"] = labels_end\n",
        "\n",
        "#cluster_counts_end = df['end_at_cluster'].value_counts()\n",
        "\n",
        "#print(cluster_counts_end)\n",
        "\n",
        "\"\"\"\n",
        "cluster_lab = kmeans.fit_predict(df[['start_station_longitude', 'start_station_latitude']])\n",
        "df['belong_to_cluster'] = cluster_lab\n",
        "df.head()\n",
        "cluster_counts = df['belong_to_cluster'].value_counts()\n",
        "\"\"\"\n"
      ]
    },
    {
      "cell_type": "code",
      "execution_count": null,
      "metadata": {
        "colab": {
          "base_uri": "https://localhost:8080/"
        },
        "id": "fBZaLWwrq_kd",
        "outputId": "1d8f914b-3fe3-45c9-888b-dd2d97139d3c"
      },
      "outputs": [
        {
          "name": "stdout",
          "output_type": "stream",
          "text": [
            " 0     6502247\n",
            " 1     3607155\n",
            " 2     2071640\n",
            " 3     1464741\n",
            " 4     1098008\n",
            " 5      791449\n",
            " 6      559701\n",
            " 7      374393\n",
            " 8      272793\n",
            " 9      225624\n",
            " 10     132221\n",
            " 11     114879\n",
            " 12      87401\n",
            " 13      49429\n",
            " 14      41816\n",
            " 15      26664\n",
            " 17      23352\n",
            " 16      21770\n",
            " 20      15401\n",
            " 18      11130\n",
            "-1        9163\n",
            " 19       8209\n",
            " 22       4667\n",
            " 21       4195\n",
            " 31       2984\n",
            " 23       2884\n",
            " 24       1858\n",
            " 25       1440\n",
            " 34       1377\n",
            " 26       1281\n",
            " 30        883\n",
            " 27        584\n",
            " 28        408\n",
            " 29        344\n",
            " 32        245\n",
            " 33        214\n",
            "Name: start_at_cluster, dtype: int64\n"
          ]
        }
      ],
      "source": [
        "cluster_counts_start = df['start_at_cluster'].value_counts()\n",
        "print(cluster_counts_start)"
      ]
    },
    {
      "cell_type": "markdown",
      "metadata": {
        "id": "dfUk_fJSNhnY"
      },
      "source": [
        "The clustering returns 33 clusters where 9163 stations are not in any cluster. The biggest cluster contains 6502247 stations. This is the cluster that is used for the prediction of ride demands."
      ]
    },
    {
      "cell_type": "code",
      "execution_count": null,
      "metadata": {
        "id": "0dXKjsQlK-zu"
      },
      "outputs": [],
      "source": [
        "# We save the dataframe with the cluster labels, so we do not have to run our code again every time\n",
        "df.to_csv('data_with_clusters.csv', index=False)"
      ]
    },
    {
      "cell_type": "code",
      "execution_count": null,
      "metadata": {
        "colab": {
          "base_uri": "https://localhost:8080/",
          "height": 235
        },
        "id": "SBRrDam1EtqA",
        "outputId": "e01a5ca2-ef07-42e7-f24f-56ae7a973f37"
      },
      "outputs": [
        {
          "ename": "ParserError",
          "evalue": "ignored",
          "output_type": "error",
          "traceback": [
            "\u001b[0;31m---------------------------------------------------------------------------\u001b[0m",
            "\u001b[0;31mParserError\u001b[0m                               Traceback (most recent call last)",
            "\u001b[0;32m<ipython-input-19-44bddcc317f5>\u001b[0m in \u001b[0;36m<cell line: 1>\u001b[0;34m()\u001b[0m\n\u001b[0;32m----> 1\u001b[0;31m \u001b[0mdf\u001b[0m \u001b[0;34m=\u001b[0m \u001b[0mpd\u001b[0m\u001b[0;34m.\u001b[0m\u001b[0mread_csv\u001b[0m\u001b[0;34m(\u001b[0m\u001b[0;34m\"data_with_clusters.csv\"\u001b[0m\u001b[0;34m)\u001b[0m\u001b[0;34m\u001b[0m\u001b[0;34m\u001b[0m\u001b[0m\n\u001b[0m",
            "\u001b[0;32m/usr/local/lib/python3.10/dist-packages/pandas/util/_decorators.py\u001b[0m in \u001b[0;36mwrapper\u001b[0;34m(*args, **kwargs)\u001b[0m\n\u001b[1;32m    209\u001b[0m                 \u001b[0;32melse\u001b[0m\u001b[0;34m:\u001b[0m\u001b[0;34m\u001b[0m\u001b[0;34m\u001b[0m\u001b[0m\n\u001b[1;32m    210\u001b[0m                     \u001b[0mkwargs\u001b[0m\u001b[0;34m[\u001b[0m\u001b[0mnew_arg_name\u001b[0m\u001b[0;34m]\u001b[0m \u001b[0;34m=\u001b[0m \u001b[0mnew_arg_value\u001b[0m\u001b[0;34m\u001b[0m\u001b[0;34m\u001b[0m\u001b[0m\n\u001b[0;32m--> 211\u001b[0;31m             \u001b[0;32mreturn\u001b[0m \u001b[0mfunc\u001b[0m\u001b[0;34m(\u001b[0m\u001b[0;34m*\u001b[0m\u001b[0margs\u001b[0m\u001b[0;34m,\u001b[0m \u001b[0;34m**\u001b[0m\u001b[0mkwargs\u001b[0m\u001b[0;34m)\u001b[0m\u001b[0;34m\u001b[0m\u001b[0;34m\u001b[0m\u001b[0m\n\u001b[0m\u001b[1;32m    212\u001b[0m \u001b[0;34m\u001b[0m\u001b[0m\n\u001b[1;32m    213\u001b[0m         \u001b[0;32mreturn\u001b[0m \u001b[0mcast\u001b[0m\u001b[0;34m(\u001b[0m\u001b[0mF\u001b[0m\u001b[0;34m,\u001b[0m \u001b[0mwrapper\u001b[0m\u001b[0;34m)\u001b[0m\u001b[0;34m\u001b[0m\u001b[0;34m\u001b[0m\u001b[0m\n",
            "\u001b[0;32m/usr/local/lib/python3.10/dist-packages/pandas/util/_decorators.py\u001b[0m in \u001b[0;36mwrapper\u001b[0;34m(*args, **kwargs)\u001b[0m\n\u001b[1;32m    329\u001b[0m                     \u001b[0mstacklevel\u001b[0m\u001b[0;34m=\u001b[0m\u001b[0mfind_stack_level\u001b[0m\u001b[0;34m(\u001b[0m\u001b[0;34m)\u001b[0m\u001b[0;34m,\u001b[0m\u001b[0;34m\u001b[0m\u001b[0;34m\u001b[0m\u001b[0m\n\u001b[1;32m    330\u001b[0m                 )\n\u001b[0;32m--> 331\u001b[0;31m             \u001b[0;32mreturn\u001b[0m \u001b[0mfunc\u001b[0m\u001b[0;34m(\u001b[0m\u001b[0;34m*\u001b[0m\u001b[0margs\u001b[0m\u001b[0;34m,\u001b[0m \u001b[0;34m**\u001b[0m\u001b[0mkwargs\u001b[0m\u001b[0;34m)\u001b[0m\u001b[0;34m\u001b[0m\u001b[0;34m\u001b[0m\u001b[0m\n\u001b[0m\u001b[1;32m    332\u001b[0m \u001b[0;34m\u001b[0m\u001b[0m\n\u001b[1;32m    333\u001b[0m         \u001b[0;31m# error: \"Callable[[VarArg(Any), KwArg(Any)], Any]\" has no\u001b[0m\u001b[0;34m\u001b[0m\u001b[0;34m\u001b[0m\u001b[0m\n",
            "\u001b[0;32m/usr/local/lib/python3.10/dist-packages/pandas/io/parsers/readers.py\u001b[0m in \u001b[0;36mread_csv\u001b[0;34m(filepath_or_buffer, sep, delimiter, header, names, index_col, usecols, squeeze, prefix, mangle_dupe_cols, dtype, engine, converters, true_values, false_values, skipinitialspace, skiprows, skipfooter, nrows, na_values, keep_default_na, na_filter, verbose, skip_blank_lines, parse_dates, infer_datetime_format, keep_date_col, date_parser, dayfirst, cache_dates, iterator, chunksize, compression, thousands, decimal, lineterminator, quotechar, quoting, doublequote, escapechar, comment, encoding, encoding_errors, dialect, error_bad_lines, warn_bad_lines, on_bad_lines, delim_whitespace, low_memory, memory_map, float_precision, storage_options)\u001b[0m\n\u001b[1;32m    948\u001b[0m     \u001b[0mkwds\u001b[0m\u001b[0;34m.\u001b[0m\u001b[0mupdate\u001b[0m\u001b[0;34m(\u001b[0m\u001b[0mkwds_defaults\u001b[0m\u001b[0;34m)\u001b[0m\u001b[0;34m\u001b[0m\u001b[0;34m\u001b[0m\u001b[0m\n\u001b[1;32m    949\u001b[0m \u001b[0;34m\u001b[0m\u001b[0m\n\u001b[0;32m--> 950\u001b[0;31m     \u001b[0;32mreturn\u001b[0m \u001b[0m_read\u001b[0m\u001b[0;34m(\u001b[0m\u001b[0mfilepath_or_buffer\u001b[0m\u001b[0;34m,\u001b[0m \u001b[0mkwds\u001b[0m\u001b[0;34m)\u001b[0m\u001b[0;34m\u001b[0m\u001b[0;34m\u001b[0m\u001b[0m\n\u001b[0m\u001b[1;32m    951\u001b[0m \u001b[0;34m\u001b[0m\u001b[0m\n\u001b[1;32m    952\u001b[0m \u001b[0;34m\u001b[0m\u001b[0m\n",
            "\u001b[0;32m/usr/local/lib/python3.10/dist-packages/pandas/io/parsers/readers.py\u001b[0m in \u001b[0;36m_read\u001b[0;34m(filepath_or_buffer, kwds)\u001b[0m\n\u001b[1;32m    609\u001b[0m \u001b[0;34m\u001b[0m\u001b[0m\n\u001b[1;32m    610\u001b[0m     \u001b[0;32mwith\u001b[0m \u001b[0mparser\u001b[0m\u001b[0;34m:\u001b[0m\u001b[0;34m\u001b[0m\u001b[0;34m\u001b[0m\u001b[0m\n\u001b[0;32m--> 611\u001b[0;31m         \u001b[0;32mreturn\u001b[0m \u001b[0mparser\u001b[0m\u001b[0;34m.\u001b[0m\u001b[0mread\u001b[0m\u001b[0;34m(\u001b[0m\u001b[0mnrows\u001b[0m\u001b[0;34m)\u001b[0m\u001b[0;34m\u001b[0m\u001b[0;34m\u001b[0m\u001b[0m\n\u001b[0m\u001b[1;32m    612\u001b[0m \u001b[0;34m\u001b[0m\u001b[0m\n\u001b[1;32m    613\u001b[0m \u001b[0;34m\u001b[0m\u001b[0m\n",
            "\u001b[0;32m/usr/local/lib/python3.10/dist-packages/pandas/io/parsers/readers.py\u001b[0m in \u001b[0;36mread\u001b[0;34m(self, nrows)\u001b[0m\n\u001b[1;32m   1776\u001b[0m                     \u001b[0mcolumns\u001b[0m\u001b[0;34m,\u001b[0m\u001b[0;34m\u001b[0m\u001b[0;34m\u001b[0m\u001b[0m\n\u001b[1;32m   1777\u001b[0m                     \u001b[0mcol_dict\u001b[0m\u001b[0;34m,\u001b[0m\u001b[0;34m\u001b[0m\u001b[0;34m\u001b[0m\u001b[0m\n\u001b[0;32m-> 1778\u001b[0;31m                 \u001b[0;34m)\u001b[0m \u001b[0;34m=\u001b[0m \u001b[0mself\u001b[0m\u001b[0;34m.\u001b[0m\u001b[0m_engine\u001b[0m\u001b[0;34m.\u001b[0m\u001b[0mread\u001b[0m\u001b[0;34m(\u001b[0m  \u001b[0;31m# type: ignore[attr-defined]\u001b[0m\u001b[0;34m\u001b[0m\u001b[0;34m\u001b[0m\u001b[0m\n\u001b[0m\u001b[1;32m   1779\u001b[0m                     \u001b[0mnrows\u001b[0m\u001b[0;34m\u001b[0m\u001b[0;34m\u001b[0m\u001b[0m\n\u001b[1;32m   1780\u001b[0m                 )\n",
            "\u001b[0;32m/usr/local/lib/python3.10/dist-packages/pandas/io/parsers/c_parser_wrapper.py\u001b[0m in \u001b[0;36mread\u001b[0;34m(self, nrows)\u001b[0m\n\u001b[1;32m    228\u001b[0m         \u001b[0;32mtry\u001b[0m\u001b[0;34m:\u001b[0m\u001b[0;34m\u001b[0m\u001b[0;34m\u001b[0m\u001b[0m\n\u001b[1;32m    229\u001b[0m             \u001b[0;32mif\u001b[0m \u001b[0mself\u001b[0m\u001b[0;34m.\u001b[0m\u001b[0mlow_memory\u001b[0m\u001b[0;34m:\u001b[0m\u001b[0;34m\u001b[0m\u001b[0;34m\u001b[0m\u001b[0m\n\u001b[0;32m--> 230\u001b[0;31m                 \u001b[0mchunks\u001b[0m \u001b[0;34m=\u001b[0m \u001b[0mself\u001b[0m\u001b[0;34m.\u001b[0m\u001b[0m_reader\u001b[0m\u001b[0;34m.\u001b[0m\u001b[0mread_low_memory\u001b[0m\u001b[0;34m(\u001b[0m\u001b[0mnrows\u001b[0m\u001b[0;34m)\u001b[0m\u001b[0;34m\u001b[0m\u001b[0;34m\u001b[0m\u001b[0m\n\u001b[0m\u001b[1;32m    231\u001b[0m                 \u001b[0;31m# destructive to chunks\u001b[0m\u001b[0;34m\u001b[0m\u001b[0;34m\u001b[0m\u001b[0m\n\u001b[1;32m    232\u001b[0m                 \u001b[0mdata\u001b[0m \u001b[0;34m=\u001b[0m \u001b[0m_concatenate_chunks\u001b[0m\u001b[0;34m(\u001b[0m\u001b[0mchunks\u001b[0m\u001b[0;34m)\u001b[0m\u001b[0;34m\u001b[0m\u001b[0;34m\u001b[0m\u001b[0m\n",
            "\u001b[0;32m/usr/local/lib/python3.10/dist-packages/pandas/_libs/parsers.pyx\u001b[0m in \u001b[0;36mpandas._libs.parsers.TextReader.read_low_memory\u001b[0;34m()\u001b[0m\n",
            "\u001b[0;32m/usr/local/lib/python3.10/dist-packages/pandas/_libs/parsers.pyx\u001b[0m in \u001b[0;36mpandas._libs.parsers.TextReader._read_rows\u001b[0;34m()\u001b[0m\n",
            "\u001b[0;32m/usr/local/lib/python3.10/dist-packages/pandas/_libs/parsers.pyx\u001b[0m in \u001b[0;36mpandas._libs.parsers.TextReader._tokenize_rows\u001b[0;34m()\u001b[0m\n",
            "\u001b[0;32m/usr/local/lib/python3.10/dist-packages/pandas/_libs/parsers.pyx\u001b[0m in \u001b[0;36mpandas._libs.parsers.raise_parser_error\u001b[0;34m()\u001b[0m\n",
            "\u001b[0;31mParserError\u001b[0m: Error tokenizing data. C error: Calling read(nbytes) on source failed. Try engine='python'."
          ]
        }
      ],
      "source": [
        "# Import the data_with_clusters.csv file\n",
        "#df = pd.read_csv(\"data_with_clusters.csv\")"
      ]
    },
    {
      "cell_type": "code",
      "execution_count": null,
      "metadata": {
        "id": "Hi3zo9HFMs3f"
      },
      "outputs": [],
      "source": [
        "# Extract just the data from the first cluster\n",
        "df_c_1 = df.loc[(df[\"start_at_cluster\"] == 0)].copy()"
      ]
    },
    {
      "cell_type": "code",
      "execution_count": null,
      "metadata": {
        "id": "UBFZzNtZM4T_"
      },
      "outputs": [],
      "source": [
        "\n",
        "\n",
        "def get_hourly_rides(df_in):\n",
        "  date_range = pd.date_range(start='2018-01-01 00:00:00', end='2018-12-31 23:00:00', freq='H')\n",
        "  df_out = pd.DataFrame({'datetime': date_range})\n",
        "  rides_per_hour = df_in.groupby(df_in['starttime'].dt.floor('H')).size().reset_index(name='ride_count')\n",
        "  rides_per_hour['ride_count'] = rides_per_hour['ride_count'].astype(int)\n",
        "  df_out = df_out.merge(rides_per_hour, how='left', left_on='datetime', right_on='starttime')[['datetime', 'ride_count']]\n",
        "  df_out['ride_count'] = df_out['ride_count'].fillna(0)\n",
        "  return df_out\n",
        "\n",
        "df_c_1_h = get_hourly_rides(df_c_1)"
      ]
    },
    {
      "cell_type": "code",
      "execution_count": null,
      "metadata": {
        "id": "t3LtaFpHRII1"
      },
      "outputs": [],
      "source": [
        "df_c_1_h.set_index('datetime', inplace=True)\n",
        "reshaped_df = df_c_1_h.pivot_table(index=df_c_1_h.index.date, columns=df_c_1_h.index.hour, values='ride_count')\n",
        "reshaped_df.reset_index(inplace=True)\n",
        "reshaped_df.columns = ['date'] + [f'hour_{hour}' for hour in range(1, 25)]"
      ]
    },
    {
      "cell_type": "code",
      "execution_count": null,
      "metadata": {
        "id": "PKmVyh1DTEvD"
      },
      "outputs": [],
      "source": [
        "reshaped_df.set_index('date', inplace=True)\n",
        "reshaped_df.index = pd.to_datetime(reshaped_df.index)"
      ]
    },
    {
      "cell_type": "code",
      "execution_count": null,
      "metadata": {
        "colab": {
          "base_uri": "https://localhost:8080/",
          "height": 373
        },
        "id": "dNmB8AnUt-yF",
        "outputId": "7fdd9c24-c34b-4eea-f9d0-b9d62aa4e6ae"
      },
      "outputs": [
        {
          "data": {
            "text/html": [
              "\n",
              "  <div id=\"df-e6744e40-4527-4753-8688-944d798ebe89\" class=\"colab-df-container\">\n",
              "    <div>\n",
              "<style scoped>\n",
              "    .dataframe tbody tr th:only-of-type {\n",
              "        vertical-align: middle;\n",
              "    }\n",
              "\n",
              "    .dataframe tbody tr th {\n",
              "        vertical-align: top;\n",
              "    }\n",
              "\n",
              "    .dataframe thead th {\n",
              "        text-align: right;\n",
              "    }\n",
              "</style>\n",
              "<table border=\"1\" class=\"dataframe\">\n",
              "  <thead>\n",
              "    <tr style=\"text-align: right;\">\n",
              "      <th></th>\n",
              "      <th>hour_1</th>\n",
              "      <th>hour_2</th>\n",
              "      <th>hour_3</th>\n",
              "      <th>hour_4</th>\n",
              "      <th>hour_5</th>\n",
              "      <th>hour_6</th>\n",
              "      <th>hour_7</th>\n",
              "      <th>hour_8</th>\n",
              "      <th>hour_9</th>\n",
              "      <th>hour_10</th>\n",
              "      <th>...</th>\n",
              "      <th>hour_15</th>\n",
              "      <th>hour_16</th>\n",
              "      <th>hour_17</th>\n",
              "      <th>hour_18</th>\n",
              "      <th>hour_19</th>\n",
              "      <th>hour_20</th>\n",
              "      <th>hour_21</th>\n",
              "      <th>hour_22</th>\n",
              "      <th>hour_23</th>\n",
              "      <th>hour_24</th>\n",
              "    </tr>\n",
              "    <tr>\n",
              "      <th>date</th>\n",
              "      <th></th>\n",
              "      <th></th>\n",
              "      <th></th>\n",
              "      <th></th>\n",
              "      <th></th>\n",
              "      <th></th>\n",
              "      <th></th>\n",
              "      <th></th>\n",
              "      <th></th>\n",
              "      <th></th>\n",
              "      <th></th>\n",
              "      <th></th>\n",
              "      <th></th>\n",
              "      <th></th>\n",
              "      <th></th>\n",
              "      <th></th>\n",
              "      <th></th>\n",
              "      <th></th>\n",
              "      <th></th>\n",
              "      <th></th>\n",
              "      <th></th>\n",
              "    </tr>\n",
              "  </thead>\n",
              "  <tbody>\n",
              "    <tr>\n",
              "      <th>2018-01-01</th>\n",
              "      <td>11.0</td>\n",
              "      <td>6.0</td>\n",
              "      <td>9.0</td>\n",
              "      <td>2.0</td>\n",
              "      <td>3.0</td>\n",
              "      <td>2.0</td>\n",
              "      <td>3.0</td>\n",
              "      <td>5.0</td>\n",
              "      <td>8.0</td>\n",
              "      <td>16.0</td>\n",
              "      <td>...</td>\n",
              "      <td>39.0</td>\n",
              "      <td>36.0</td>\n",
              "      <td>38.0</td>\n",
              "      <td>30.0</td>\n",
              "      <td>34.0</td>\n",
              "      <td>22.0</td>\n",
              "      <td>20.0</td>\n",
              "      <td>14.0</td>\n",
              "      <td>12.0</td>\n",
              "      <td>6.0</td>\n",
              "    </tr>\n",
              "    <tr>\n",
              "      <th>2018-01-02</th>\n",
              "      <td>3.0</td>\n",
              "      <td>1.0</td>\n",
              "      <td>2.0</td>\n",
              "      <td>0.0</td>\n",
              "      <td>4.0</td>\n",
              "      <td>18.0</td>\n",
              "      <td>52.0</td>\n",
              "      <td>106.0</td>\n",
              "      <td>139.0</td>\n",
              "      <td>87.0</td>\n",
              "      <td>...</td>\n",
              "      <td>79.0</td>\n",
              "      <td>74.0</td>\n",
              "      <td>107.0</td>\n",
              "      <td>141.0</td>\n",
              "      <td>139.0</td>\n",
              "      <td>92.0</td>\n",
              "      <td>74.0</td>\n",
              "      <td>33.0</td>\n",
              "      <td>24.0</td>\n",
              "      <td>12.0</td>\n",
              "    </tr>\n",
              "    <tr>\n",
              "      <th>2018-01-03</th>\n",
              "      <td>3.0</td>\n",
              "      <td>3.0</td>\n",
              "      <td>6.0</td>\n",
              "      <td>4.0</td>\n",
              "      <td>11.0</td>\n",
              "      <td>17.0</td>\n",
              "      <td>81.0</td>\n",
              "      <td>139.0</td>\n",
              "      <td>228.0</td>\n",
              "      <td>137.0</td>\n",
              "      <td>...</td>\n",
              "      <td>112.0</td>\n",
              "      <td>87.0</td>\n",
              "      <td>142.0</td>\n",
              "      <td>191.0</td>\n",
              "      <td>212.0</td>\n",
              "      <td>136.0</td>\n",
              "      <td>105.0</td>\n",
              "      <td>60.0</td>\n",
              "      <td>51.0</td>\n",
              "      <td>15.0</td>\n",
              "    </tr>\n",
              "    <tr>\n",
              "      <th>2018-01-04</th>\n",
              "      <td>8.0</td>\n",
              "      <td>8.0</td>\n",
              "      <td>2.0</td>\n",
              "      <td>1.0</td>\n",
              "      <td>5.0</td>\n",
              "      <td>11.0</td>\n",
              "      <td>18.0</td>\n",
              "      <td>17.0</td>\n",
              "      <td>24.0</td>\n",
              "      <td>17.0</td>\n",
              "      <td>...</td>\n",
              "      <td>2.0</td>\n",
              "      <td>2.0</td>\n",
              "      <td>8.0</td>\n",
              "      <td>9.0</td>\n",
              "      <td>12.0</td>\n",
              "      <td>2.0</td>\n",
              "      <td>14.0</td>\n",
              "      <td>6.0</td>\n",
              "      <td>8.0</td>\n",
              "      <td>6.0</td>\n",
              "    </tr>\n",
              "    <tr>\n",
              "      <th>2018-01-05</th>\n",
              "      <td>2.0</td>\n",
              "      <td>1.0</td>\n",
              "      <td>1.0</td>\n",
              "      <td>1.0</td>\n",
              "      <td>1.0</td>\n",
              "      <td>3.0</td>\n",
              "      <td>8.0</td>\n",
              "      <td>25.0</td>\n",
              "      <td>48.0</td>\n",
              "      <td>41.0</td>\n",
              "      <td>...</td>\n",
              "      <td>21.0</td>\n",
              "      <td>30.0</td>\n",
              "      <td>31.0</td>\n",
              "      <td>36.0</td>\n",
              "      <td>34.0</td>\n",
              "      <td>27.0</td>\n",
              "      <td>13.0</td>\n",
              "      <td>10.0</td>\n",
              "      <td>7.0</td>\n",
              "      <td>6.0</td>\n",
              "    </tr>\n",
              "  </tbody>\n",
              "</table>\n",
              "<p>5 rows × 24 columns</p>\n",
              "</div>\n",
              "    <div class=\"colab-df-buttons\">\n",
              "\n",
              "  <div class=\"colab-df-container\">\n",
              "    <button class=\"colab-df-convert\" onclick=\"convertToInteractive('df-e6744e40-4527-4753-8688-944d798ebe89')\"\n",
              "            title=\"Convert this dataframe to an interactive table.\"\n",
              "            style=\"display:none;\">\n",
              "\n",
              "  <svg xmlns=\"http://www.w3.org/2000/svg\" height=\"24px\" viewBox=\"0 -960 960 960\">\n",
              "    <path d=\"M120-120v-720h720v720H120Zm60-500h600v-160H180v160Zm220 220h160v-160H400v160Zm0 220h160v-160H400v160ZM180-400h160v-160H180v160Zm440 0h160v-160H620v160ZM180-180h160v-160H180v160Zm440 0h160v-160H620v160Z\"/>\n",
              "  </svg>\n",
              "    </button>\n",
              "\n",
              "  <style>\n",
              "    .colab-df-container {\n",
              "      display:flex;\n",
              "      gap: 12px;\n",
              "    }\n",
              "\n",
              "    .colab-df-convert {\n",
              "      background-color: #E8F0FE;\n",
              "      border: none;\n",
              "      border-radius: 50%;\n",
              "      cursor: pointer;\n",
              "      display: none;\n",
              "      fill: #1967D2;\n",
              "      height: 32px;\n",
              "      padding: 0 0 0 0;\n",
              "      width: 32px;\n",
              "    }\n",
              "\n",
              "    .colab-df-convert:hover {\n",
              "      background-color: #E2EBFA;\n",
              "      box-shadow: 0px 1px 2px rgba(60, 64, 67, 0.3), 0px 1px 3px 1px rgba(60, 64, 67, 0.15);\n",
              "      fill: #174EA6;\n",
              "    }\n",
              "\n",
              "    .colab-df-buttons div {\n",
              "      margin-bottom: 4px;\n",
              "    }\n",
              "\n",
              "    [theme=dark] .colab-df-convert {\n",
              "      background-color: #3B4455;\n",
              "      fill: #D2E3FC;\n",
              "    }\n",
              "\n",
              "    [theme=dark] .colab-df-convert:hover {\n",
              "      background-color: #434B5C;\n",
              "      box-shadow: 0px 1px 3px 1px rgba(0, 0, 0, 0.15);\n",
              "      filter: drop-shadow(0px 1px 2px rgba(0, 0, 0, 0.3));\n",
              "      fill: #FFFFFF;\n",
              "    }\n",
              "  </style>\n",
              "\n",
              "    <script>\n",
              "      const buttonEl =\n",
              "        document.querySelector('#df-e6744e40-4527-4753-8688-944d798ebe89 button.colab-df-convert');\n",
              "      buttonEl.style.display =\n",
              "        google.colab.kernel.accessAllowed ? 'block' : 'none';\n",
              "\n",
              "      async function convertToInteractive(key) {\n",
              "        const element = document.querySelector('#df-e6744e40-4527-4753-8688-944d798ebe89');\n",
              "        const dataTable =\n",
              "          await google.colab.kernel.invokeFunction('convertToInteractive',\n",
              "                                                    [key], {});\n",
              "        if (!dataTable) return;\n",
              "\n",
              "        const docLinkHtml = 'Like what you see? Visit the ' +\n",
              "          '<a target=\"_blank\" href=https://colab.research.google.com/notebooks/data_table.ipynb>data table notebook</a>'\n",
              "          + ' to learn more about interactive tables.';\n",
              "        element.innerHTML = '';\n",
              "        dataTable['output_type'] = 'display_data';\n",
              "        await google.colab.output.renderOutput(dataTable, element);\n",
              "        const docLink = document.createElement('div');\n",
              "        docLink.innerHTML = docLinkHtml;\n",
              "        element.appendChild(docLink);\n",
              "      }\n",
              "    </script>\n",
              "  </div>\n",
              "\n",
              "\n",
              "<div id=\"df-1eccc321-f95a-4a9d-8658-536707ec84e3\">\n",
              "  <button class=\"colab-df-quickchart\" onclick=\"quickchart('df-1eccc321-f95a-4a9d-8658-536707ec84e3')\"\n",
              "            title=\"Suggest charts.\"\n",
              "            style=\"display:none;\">\n",
              "\n",
              "<svg xmlns=\"http://www.w3.org/2000/svg\" height=\"24px\"viewBox=\"0 0 24 24\"\n",
              "     width=\"24px\">\n",
              "    <g>\n",
              "        <path d=\"M19 3H5c-1.1 0-2 .9-2 2v14c0 1.1.9 2 2 2h14c1.1 0 2-.9 2-2V5c0-1.1-.9-2-2-2zM9 17H7v-7h2v7zm4 0h-2V7h2v10zm4 0h-2v-4h2v4z\"/>\n",
              "    </g>\n",
              "</svg>\n",
              "  </button>\n",
              "\n",
              "<style>\n",
              "  .colab-df-quickchart {\n",
              "      --bg-color: #E8F0FE;\n",
              "      --fill-color: #1967D2;\n",
              "      --hover-bg-color: #E2EBFA;\n",
              "      --hover-fill-color: #174EA6;\n",
              "      --disabled-fill-color: #AAA;\n",
              "      --disabled-bg-color: #DDD;\n",
              "  }\n",
              "\n",
              "  [theme=dark] .colab-df-quickchart {\n",
              "      --bg-color: #3B4455;\n",
              "      --fill-color: #D2E3FC;\n",
              "      --hover-bg-color: #434B5C;\n",
              "      --hover-fill-color: #FFFFFF;\n",
              "      --disabled-bg-color: #3B4455;\n",
              "      --disabled-fill-color: #666;\n",
              "  }\n",
              "\n",
              "  .colab-df-quickchart {\n",
              "    background-color: var(--bg-color);\n",
              "    border: none;\n",
              "    border-radius: 50%;\n",
              "    cursor: pointer;\n",
              "    display: none;\n",
              "    fill: var(--fill-color);\n",
              "    height: 32px;\n",
              "    padding: 0;\n",
              "    width: 32px;\n",
              "  }\n",
              "\n",
              "  .colab-df-quickchart:hover {\n",
              "    background-color: var(--hover-bg-color);\n",
              "    box-shadow: 0 1px 2px rgba(60, 64, 67, 0.3), 0 1px 3px 1px rgba(60, 64, 67, 0.15);\n",
              "    fill: var(--button-hover-fill-color);\n",
              "  }\n",
              "\n",
              "  .colab-df-quickchart-complete:disabled,\n",
              "  .colab-df-quickchart-complete:disabled:hover {\n",
              "    background-color: var(--disabled-bg-color);\n",
              "    fill: var(--disabled-fill-color);\n",
              "    box-shadow: none;\n",
              "  }\n",
              "\n",
              "  .colab-df-spinner {\n",
              "    border: 2px solid var(--fill-color);\n",
              "    border-color: transparent;\n",
              "    border-bottom-color: var(--fill-color);\n",
              "    animation:\n",
              "      spin 1s steps(1) infinite;\n",
              "  }\n",
              "\n",
              "  @keyframes spin {\n",
              "    0% {\n",
              "      border-color: transparent;\n",
              "      border-bottom-color: var(--fill-color);\n",
              "      border-left-color: var(--fill-color);\n",
              "    }\n",
              "    20% {\n",
              "      border-color: transparent;\n",
              "      border-left-color: var(--fill-color);\n",
              "      border-top-color: var(--fill-color);\n",
              "    }\n",
              "    30% {\n",
              "      border-color: transparent;\n",
              "      border-left-color: var(--fill-color);\n",
              "      border-top-color: var(--fill-color);\n",
              "      border-right-color: var(--fill-color);\n",
              "    }\n",
              "    40% {\n",
              "      border-color: transparent;\n",
              "      border-right-color: var(--fill-color);\n",
              "      border-top-color: var(--fill-color);\n",
              "    }\n",
              "    60% {\n",
              "      border-color: transparent;\n",
              "      border-right-color: var(--fill-color);\n",
              "    }\n",
              "    80% {\n",
              "      border-color: transparent;\n",
              "      border-right-color: var(--fill-color);\n",
              "      border-bottom-color: var(--fill-color);\n",
              "    }\n",
              "    90% {\n",
              "      border-color: transparent;\n",
              "      border-bottom-color: var(--fill-color);\n",
              "    }\n",
              "  }\n",
              "</style>\n",
              "\n",
              "  <script>\n",
              "    async function quickchart(key) {\n",
              "      const quickchartButtonEl =\n",
              "        document.querySelector('#' + key + ' button');\n",
              "      quickchartButtonEl.disabled = true;  // To prevent multiple clicks.\n",
              "      quickchartButtonEl.classList.add('colab-df-spinner');\n",
              "      try {\n",
              "        const charts = await google.colab.kernel.invokeFunction(\n",
              "            'suggestCharts', [key], {});\n",
              "      } catch (error) {\n",
              "        console.error('Error during call to suggestCharts:', error);\n",
              "      }\n",
              "      quickchartButtonEl.classList.remove('colab-df-spinner');\n",
              "      quickchartButtonEl.classList.add('colab-df-quickchart-complete');\n",
              "    }\n",
              "    (() => {\n",
              "      let quickchartButtonEl =\n",
              "        document.querySelector('#df-1eccc321-f95a-4a9d-8658-536707ec84e3 button');\n",
              "      quickchartButtonEl.style.display =\n",
              "        google.colab.kernel.accessAllowed ? 'block' : 'none';\n",
              "    })();\n",
              "  </script>\n",
              "</div>\n",
              "    </div>\n",
              "  </div>\n"
            ],
            "text/plain": [
              "            hour_1  hour_2  hour_3  hour_4  hour_5  hour_6  hour_7  hour_8  \\\n",
              "date                                                                         \n",
              "2018-01-01    11.0     6.0     9.0     2.0     3.0     2.0     3.0     5.0   \n",
              "2018-01-02     3.0     1.0     2.0     0.0     4.0    18.0    52.0   106.0   \n",
              "2018-01-03     3.0     3.0     6.0     4.0    11.0    17.0    81.0   139.0   \n",
              "2018-01-04     8.0     8.0     2.0     1.0     5.0    11.0    18.0    17.0   \n",
              "2018-01-05     2.0     1.0     1.0     1.0     1.0     3.0     8.0    25.0   \n",
              "\n",
              "            hour_9  hour_10  ...  hour_15  hour_16  hour_17  hour_18  hour_19  \\\n",
              "date                         ...                                                \n",
              "2018-01-01     8.0     16.0  ...     39.0     36.0     38.0     30.0     34.0   \n",
              "2018-01-02   139.0     87.0  ...     79.0     74.0    107.0    141.0    139.0   \n",
              "2018-01-03   228.0    137.0  ...    112.0     87.0    142.0    191.0    212.0   \n",
              "2018-01-04    24.0     17.0  ...      2.0      2.0      8.0      9.0     12.0   \n",
              "2018-01-05    48.0     41.0  ...     21.0     30.0     31.0     36.0     34.0   \n",
              "\n",
              "            hour_20  hour_21  hour_22  hour_23  hour_24  \n",
              "date                                                     \n",
              "2018-01-01     22.0     20.0     14.0     12.0      6.0  \n",
              "2018-01-02     92.0     74.0     33.0     24.0     12.0  \n",
              "2018-01-03    136.0    105.0     60.0     51.0     15.0  \n",
              "2018-01-04      2.0     14.0      6.0      8.0      6.0  \n",
              "2018-01-05     27.0     13.0     10.0      7.0      6.0  \n",
              "\n",
              "[5 rows x 24 columns]"
            ]
          },
          "execution_count": 230,
          "metadata": {},
          "output_type": "execute_result"
        }
      ],
      "source": [
        "reshaped_df.head()"
      ]
    },
    {
      "cell_type": "code",
      "execution_count": null,
      "metadata": {
        "id": "XqI6xpRLcNkn"
      },
      "outputs": [],
      "source": [
        "def next_day_of_week(current_day):\n",
        "    # Define a list of days of the week\n",
        "    days_of_week = [\"Monday\", \"Tuesday\", \"Wednesday\", \"Thursday\", \"Friday\", \"Saturday\", \"Sunday\"]\n",
        "    # Calculate the next day by adding 1 and wrapping around to 0 for Sunday\n",
        "    next_day_index = (current_day + 1) % 7\n",
        "    # Return the next day\n",
        "    return days_of_week[next_day_index]\n",
        "\n",
        "def is_next_day_weekend(day_number):\n",
        "    return 1 if (day_number + 1) % 7 in {5, 6} else 0\n",
        "\n",
        "def get_season(month):\n",
        "    if 3 <= month <= 5:\n",
        "        return \"Spring\"\n",
        "    elif 6 <= month <= 8:\n",
        "        return \"Summer\"\n",
        "    elif 9 <= month <= 11:\n",
        "        return \"Fall\"\n",
        "    else:\n",
        "        return \"Winter\"\n",
        "\n",
        "def get_rain(rain):\n",
        "  if rain == 0:\n",
        "    return 0\n",
        "  else:\n",
        "    return 1\n",
        "\n",
        "def get_snow(snow):\n",
        "  if snow == 0:\n",
        "    return 0\n",
        "  else:\n",
        "    return 1"
      ]
    },
    {
      "cell_type": "code",
      "execution_count": null,
      "metadata": {
        "colab": {
          "base_uri": "https://localhost:8080/"
        },
        "id": "HX1PH1rR2Ogn",
        "outputId": "cb018e6f-e7a8-4b8c-ca23-6c0587ba99a2"
      },
      "outputs": [
        {
          "name": "stderr",
          "output_type": "stream",
          "text": [
            "<ipython-input-232-c76b0d685f27>:2: UserWarning: Parsing dates in DD/MM/YYYY format when dayfirst=False (the default) was specified. This may lead to inconsistently parsed dates! Specify a format to ensure consistent parsing.\n",
            "  df_weather = pd.read_csv('/content/drive/MyDrive/BA/Weather_data1.csv', header = 0, sep=';', parse_dates = [\"Date\"])\n"
          ]
        }
      ],
      "source": [
        "# Insert\n",
        "df_weather = pd.read_csv('/content/drive/MyDrive/BA/Weather_data1.csv', header = 0, sep=';', parse_dates = [\"Date\"])\n",
        "df_weather.set_index('Date', inplace=True)\n",
        "reshaped_df = reshaped_df.join(df_weather, how = \"inner\")\n",
        "\n",
        "# Move the column 1 row up\n",
        "reshaped_df['rain_next_day'] = reshaped_df['Precip'].shift(-1)\n",
        "reshaped_df['snow_next_day'] = reshaped_df['Snow'].shift(-1)\n",
        "# Set the last row's value to 0\n",
        "reshaped_df.at[reshaped_df.index[-1], 'rain_next_day'] = 0\n",
        "reshaped_df.at[reshaped_df.index[-1], 'snow_next_day'] = 0"
      ]
    },
    {
      "cell_type": "code",
      "execution_count": null,
      "metadata": {
        "colab": {
          "base_uri": "https://localhost:8080/",
          "height": 342
        },
        "id": "ZzNPqP_C8NUj",
        "outputId": "e5d922fd-63e1-4325-e434-2596cda85d07"
      },
      "outputs": [
        {
          "data": {
            "text/html": [
              "\n",
              "  <div id=\"df-d0f25db1-0cbf-498c-85ac-8d99879e3576\" class=\"colab-df-container\">\n",
              "    <div>\n",
              "<style scoped>\n",
              "    .dataframe tbody tr th:only-of-type {\n",
              "        vertical-align: middle;\n",
              "    }\n",
              "\n",
              "    .dataframe tbody tr th {\n",
              "        vertical-align: top;\n",
              "    }\n",
              "\n",
              "    .dataframe thead th {\n",
              "        text-align: right;\n",
              "    }\n",
              "</style>\n",
              "<table border=\"1\" class=\"dataframe\">\n",
              "  <thead>\n",
              "    <tr style=\"text-align: right;\">\n",
              "      <th></th>\n",
              "      <th>hour_1</th>\n",
              "      <th>hour_2</th>\n",
              "      <th>hour_3</th>\n",
              "      <th>hour_4</th>\n",
              "      <th>hour_5</th>\n",
              "      <th>hour_6</th>\n",
              "      <th>hour_7</th>\n",
              "      <th>hour_8</th>\n",
              "      <th>hour_9</th>\n",
              "      <th>hour_10</th>\n",
              "      <th>...</th>\n",
              "      <th>hour_20</th>\n",
              "      <th>hour_21</th>\n",
              "      <th>hour_22</th>\n",
              "      <th>hour_23</th>\n",
              "      <th>hour_24</th>\n",
              "      <th>High</th>\n",
              "      <th>Low</th>\n",
              "      <th>Precip</th>\n",
              "      <th>Snow</th>\n",
              "      <th>rain_next_day</th>\n",
              "    </tr>\n",
              "  </thead>\n",
              "  <tbody>\n",
              "    <tr>\n",
              "      <th>2018-01-01</th>\n",
              "      <td>11.0</td>\n",
              "      <td>6.0</td>\n",
              "      <td>9.0</td>\n",
              "      <td>2.0</td>\n",
              "      <td>3.0</td>\n",
              "      <td>2.0</td>\n",
              "      <td>3.0</td>\n",
              "      <td>5.0</td>\n",
              "      <td>8.0</td>\n",
              "      <td>16.0</td>\n",
              "      <td>...</td>\n",
              "      <td>22.0</td>\n",
              "      <td>20.0</td>\n",
              "      <td>14.0</td>\n",
              "      <td>12.0</td>\n",
              "      <td>6.0</td>\n",
              "      <td>19</td>\n",
              "      <td>7</td>\n",
              "      <td>0.00</td>\n",
              "      <td>0.0</td>\n",
              "      <td>0.05</td>\n",
              "    </tr>\n",
              "    <tr>\n",
              "      <th>2018-01-02</th>\n",
              "      <td>3.0</td>\n",
              "      <td>1.0</td>\n",
              "      <td>2.0</td>\n",
              "      <td>0.0</td>\n",
              "      <td>4.0</td>\n",
              "      <td>18.0</td>\n",
              "      <td>52.0</td>\n",
              "      <td>106.0</td>\n",
              "      <td>139.0</td>\n",
              "      <td>87.0</td>\n",
              "      <td>...</td>\n",
              "      <td>92.0</td>\n",
              "      <td>74.0</td>\n",
              "      <td>33.0</td>\n",
              "      <td>24.0</td>\n",
              "      <td>12.0</td>\n",
              "      <td>45</td>\n",
              "      <td>32</td>\n",
              "      <td>0.05</td>\n",
              "      <td>0.0</td>\n",
              "      <td>0.38</td>\n",
              "    </tr>\n",
              "    <tr>\n",
              "      <th>2018-01-03</th>\n",
              "      <td>3.0</td>\n",
              "      <td>3.0</td>\n",
              "      <td>6.0</td>\n",
              "      <td>4.0</td>\n",
              "      <td>11.0</td>\n",
              "      <td>17.0</td>\n",
              "      <td>81.0</td>\n",
              "      <td>139.0</td>\n",
              "      <td>228.0</td>\n",
              "      <td>137.0</td>\n",
              "      <td>...</td>\n",
              "      <td>136.0</td>\n",
              "      <td>105.0</td>\n",
              "      <td>60.0</td>\n",
              "      <td>51.0</td>\n",
              "      <td>15.0</td>\n",
              "      <td>60</td>\n",
              "      <td>44</td>\n",
              "      <td>0.38</td>\n",
              "      <td>0.0</td>\n",
              "      <td>0.00</td>\n",
              "    </tr>\n",
              "    <tr>\n",
              "      <th>2018-01-04</th>\n",
              "      <td>8.0</td>\n",
              "      <td>8.0</td>\n",
              "      <td>2.0</td>\n",
              "      <td>1.0</td>\n",
              "      <td>5.0</td>\n",
              "      <td>11.0</td>\n",
              "      <td>18.0</td>\n",
              "      <td>17.0</td>\n",
              "      <td>24.0</td>\n",
              "      <td>17.0</td>\n",
              "      <td>...</td>\n",
              "      <td>2.0</td>\n",
              "      <td>14.0</td>\n",
              "      <td>6.0</td>\n",
              "      <td>8.0</td>\n",
              "      <td>6.0</td>\n",
              "      <td>60</td>\n",
              "      <td>43</td>\n",
              "      <td>0.00</td>\n",
              "      <td>0.0</td>\n",
              "      <td>0.00</td>\n",
              "    </tr>\n",
              "    <tr>\n",
              "      <th>2018-01-05</th>\n",
              "      <td>2.0</td>\n",
              "      <td>1.0</td>\n",
              "      <td>1.0</td>\n",
              "      <td>1.0</td>\n",
              "      <td>1.0</td>\n",
              "      <td>3.0</td>\n",
              "      <td>8.0</td>\n",
              "      <td>25.0</td>\n",
              "      <td>48.0</td>\n",
              "      <td>41.0</td>\n",
              "      <td>...</td>\n",
              "      <td>27.0</td>\n",
              "      <td>13.0</td>\n",
              "      <td>10.0</td>\n",
              "      <td>7.0</td>\n",
              "      <td>6.0</td>\n",
              "      <td>80</td>\n",
              "      <td>48</td>\n",
              "      <td>0.00</td>\n",
              "      <td>0.0</td>\n",
              "      <td>0.27</td>\n",
              "    </tr>\n",
              "  </tbody>\n",
              "</table>\n",
              "<p>5 rows × 29 columns</p>\n",
              "</div>\n",
              "    <div class=\"colab-df-buttons\">\n",
              "\n",
              "  <div class=\"colab-df-container\">\n",
              "    <button class=\"colab-df-convert\" onclick=\"convertToInteractive('df-d0f25db1-0cbf-498c-85ac-8d99879e3576')\"\n",
              "            title=\"Convert this dataframe to an interactive table.\"\n",
              "            style=\"display:none;\">\n",
              "\n",
              "  <svg xmlns=\"http://www.w3.org/2000/svg\" height=\"24px\" viewBox=\"0 -960 960 960\">\n",
              "    <path d=\"M120-120v-720h720v720H120Zm60-500h600v-160H180v160Zm220 220h160v-160H400v160Zm0 220h160v-160H400v160ZM180-400h160v-160H180v160Zm440 0h160v-160H620v160ZM180-180h160v-160H180v160Zm440 0h160v-160H620v160Z\"/>\n",
              "  </svg>\n",
              "    </button>\n",
              "\n",
              "  <style>\n",
              "    .colab-df-container {\n",
              "      display:flex;\n",
              "      gap: 12px;\n",
              "    }\n",
              "\n",
              "    .colab-df-convert {\n",
              "      background-color: #E8F0FE;\n",
              "      border: none;\n",
              "      border-radius: 50%;\n",
              "      cursor: pointer;\n",
              "      display: none;\n",
              "      fill: #1967D2;\n",
              "      height: 32px;\n",
              "      padding: 0 0 0 0;\n",
              "      width: 32px;\n",
              "    }\n",
              "\n",
              "    .colab-df-convert:hover {\n",
              "      background-color: #E2EBFA;\n",
              "      box-shadow: 0px 1px 2px rgba(60, 64, 67, 0.3), 0px 1px 3px 1px rgba(60, 64, 67, 0.15);\n",
              "      fill: #174EA6;\n",
              "    }\n",
              "\n",
              "    .colab-df-buttons div {\n",
              "      margin-bottom: 4px;\n",
              "    }\n",
              "\n",
              "    [theme=dark] .colab-df-convert {\n",
              "      background-color: #3B4455;\n",
              "      fill: #D2E3FC;\n",
              "    }\n",
              "\n",
              "    [theme=dark] .colab-df-convert:hover {\n",
              "      background-color: #434B5C;\n",
              "      box-shadow: 0px 1px 3px 1px rgba(0, 0, 0, 0.15);\n",
              "      filter: drop-shadow(0px 1px 2px rgba(0, 0, 0, 0.3));\n",
              "      fill: #FFFFFF;\n",
              "    }\n",
              "  </style>\n",
              "\n",
              "    <script>\n",
              "      const buttonEl =\n",
              "        document.querySelector('#df-d0f25db1-0cbf-498c-85ac-8d99879e3576 button.colab-df-convert');\n",
              "      buttonEl.style.display =\n",
              "        google.colab.kernel.accessAllowed ? 'block' : 'none';\n",
              "\n",
              "      async function convertToInteractive(key) {\n",
              "        const element = document.querySelector('#df-d0f25db1-0cbf-498c-85ac-8d99879e3576');\n",
              "        const dataTable =\n",
              "          await google.colab.kernel.invokeFunction('convertToInteractive',\n",
              "                                                    [key], {});\n",
              "        if (!dataTable) return;\n",
              "\n",
              "        const docLinkHtml = 'Like what you see? Visit the ' +\n",
              "          '<a target=\"_blank\" href=https://colab.research.google.com/notebooks/data_table.ipynb>data table notebook</a>'\n",
              "          + ' to learn more about interactive tables.';\n",
              "        element.innerHTML = '';\n",
              "        dataTable['output_type'] = 'display_data';\n",
              "        await google.colab.output.renderOutput(dataTable, element);\n",
              "        const docLink = document.createElement('div');\n",
              "        docLink.innerHTML = docLinkHtml;\n",
              "        element.appendChild(docLink);\n",
              "      }\n",
              "    </script>\n",
              "  </div>\n",
              "\n",
              "\n",
              "<div id=\"df-0172ddfe-a13d-420b-a793-c4ab2765f370\">\n",
              "  <button class=\"colab-df-quickchart\" onclick=\"quickchart('df-0172ddfe-a13d-420b-a793-c4ab2765f370')\"\n",
              "            title=\"Suggest charts.\"\n",
              "            style=\"display:none;\">\n",
              "\n",
              "<svg xmlns=\"http://www.w3.org/2000/svg\" height=\"24px\"viewBox=\"0 0 24 24\"\n",
              "     width=\"24px\">\n",
              "    <g>\n",
              "        <path d=\"M19 3H5c-1.1 0-2 .9-2 2v14c0 1.1.9 2 2 2h14c1.1 0 2-.9 2-2V5c0-1.1-.9-2-2-2zM9 17H7v-7h2v7zm4 0h-2V7h2v10zm4 0h-2v-4h2v4z\"/>\n",
              "    </g>\n",
              "</svg>\n",
              "  </button>\n",
              "\n",
              "<style>\n",
              "  .colab-df-quickchart {\n",
              "      --bg-color: #E8F0FE;\n",
              "      --fill-color: #1967D2;\n",
              "      --hover-bg-color: #E2EBFA;\n",
              "      --hover-fill-color: #174EA6;\n",
              "      --disabled-fill-color: #AAA;\n",
              "      --disabled-bg-color: #DDD;\n",
              "  }\n",
              "\n",
              "  [theme=dark] .colab-df-quickchart {\n",
              "      --bg-color: #3B4455;\n",
              "      --fill-color: #D2E3FC;\n",
              "      --hover-bg-color: #434B5C;\n",
              "      --hover-fill-color: #FFFFFF;\n",
              "      --disabled-bg-color: #3B4455;\n",
              "      --disabled-fill-color: #666;\n",
              "  }\n",
              "\n",
              "  .colab-df-quickchart {\n",
              "    background-color: var(--bg-color);\n",
              "    border: none;\n",
              "    border-radius: 50%;\n",
              "    cursor: pointer;\n",
              "    display: none;\n",
              "    fill: var(--fill-color);\n",
              "    height: 32px;\n",
              "    padding: 0;\n",
              "    width: 32px;\n",
              "  }\n",
              "\n",
              "  .colab-df-quickchart:hover {\n",
              "    background-color: var(--hover-bg-color);\n",
              "    box-shadow: 0 1px 2px rgba(60, 64, 67, 0.3), 0 1px 3px 1px rgba(60, 64, 67, 0.15);\n",
              "    fill: var(--button-hover-fill-color);\n",
              "  }\n",
              "\n",
              "  .colab-df-quickchart-complete:disabled,\n",
              "  .colab-df-quickchart-complete:disabled:hover {\n",
              "    background-color: var(--disabled-bg-color);\n",
              "    fill: var(--disabled-fill-color);\n",
              "    box-shadow: none;\n",
              "  }\n",
              "\n",
              "  .colab-df-spinner {\n",
              "    border: 2px solid var(--fill-color);\n",
              "    border-color: transparent;\n",
              "    border-bottom-color: var(--fill-color);\n",
              "    animation:\n",
              "      spin 1s steps(1) infinite;\n",
              "  }\n",
              "\n",
              "  @keyframes spin {\n",
              "    0% {\n",
              "      border-color: transparent;\n",
              "      border-bottom-color: var(--fill-color);\n",
              "      border-left-color: var(--fill-color);\n",
              "    }\n",
              "    20% {\n",
              "      border-color: transparent;\n",
              "      border-left-color: var(--fill-color);\n",
              "      border-top-color: var(--fill-color);\n",
              "    }\n",
              "    30% {\n",
              "      border-color: transparent;\n",
              "      border-left-color: var(--fill-color);\n",
              "      border-top-color: var(--fill-color);\n",
              "      border-right-color: var(--fill-color);\n",
              "    }\n",
              "    40% {\n",
              "      border-color: transparent;\n",
              "      border-right-color: var(--fill-color);\n",
              "      border-top-color: var(--fill-color);\n",
              "    }\n",
              "    60% {\n",
              "      border-color: transparent;\n",
              "      border-right-color: var(--fill-color);\n",
              "    }\n",
              "    80% {\n",
              "      border-color: transparent;\n",
              "      border-right-color: var(--fill-color);\n",
              "      border-bottom-color: var(--fill-color);\n",
              "    }\n",
              "    90% {\n",
              "      border-color: transparent;\n",
              "      border-bottom-color: var(--fill-color);\n",
              "    }\n",
              "  }\n",
              "</style>\n",
              "\n",
              "  <script>\n",
              "    async function quickchart(key) {\n",
              "      const quickchartButtonEl =\n",
              "        document.querySelector('#' + key + ' button');\n",
              "      quickchartButtonEl.disabled = true;  // To prevent multiple clicks.\n",
              "      quickchartButtonEl.classList.add('colab-df-spinner');\n",
              "      try {\n",
              "        const charts = await google.colab.kernel.invokeFunction(\n",
              "            'suggestCharts', [key], {});\n",
              "      } catch (error) {\n",
              "        console.error('Error during call to suggestCharts:', error);\n",
              "      }\n",
              "      quickchartButtonEl.classList.remove('colab-df-spinner');\n",
              "      quickchartButtonEl.classList.add('colab-df-quickchart-complete');\n",
              "    }\n",
              "    (() => {\n",
              "      let quickchartButtonEl =\n",
              "        document.querySelector('#df-0172ddfe-a13d-420b-a793-c4ab2765f370 button');\n",
              "      quickchartButtonEl.style.display =\n",
              "        google.colab.kernel.accessAllowed ? 'block' : 'none';\n",
              "    })();\n",
              "  </script>\n",
              "</div>\n",
              "    </div>\n",
              "  </div>\n"
            ],
            "text/plain": [
              "            hour_1  hour_2  hour_3  hour_4  hour_5  hour_6  hour_7  hour_8  \\\n",
              "2018-01-01    11.0     6.0     9.0     2.0     3.0     2.0     3.0     5.0   \n",
              "2018-01-02     3.0     1.0     2.0     0.0     4.0    18.0    52.0   106.0   \n",
              "2018-01-03     3.0     3.0     6.0     4.0    11.0    17.0    81.0   139.0   \n",
              "2018-01-04     8.0     8.0     2.0     1.0     5.0    11.0    18.0    17.0   \n",
              "2018-01-05     2.0     1.0     1.0     1.0     1.0     3.0     8.0    25.0   \n",
              "\n",
              "            hour_9  hour_10  ...  hour_20  hour_21  hour_22  hour_23  hour_24  \\\n",
              "2018-01-01     8.0     16.0  ...     22.0     20.0     14.0     12.0      6.0   \n",
              "2018-01-02   139.0     87.0  ...     92.0     74.0     33.0     24.0     12.0   \n",
              "2018-01-03   228.0    137.0  ...    136.0    105.0     60.0     51.0     15.0   \n",
              "2018-01-04    24.0     17.0  ...      2.0     14.0      6.0      8.0      6.0   \n",
              "2018-01-05    48.0     41.0  ...     27.0     13.0     10.0      7.0      6.0   \n",
              "\n",
              "            High  Low  Precip  Snow  rain_next_day  \n",
              "2018-01-01    19    7    0.00   0.0           0.05  \n",
              "2018-01-02    45   32    0.05   0.0           0.38  \n",
              "2018-01-03    60   44    0.38   0.0           0.00  \n",
              "2018-01-04    60   43    0.00   0.0           0.00  \n",
              "2018-01-05    80   48    0.00   0.0           0.27  \n",
              "\n",
              "[5 rows x 29 columns]"
            ]
          },
          "execution_count": 201,
          "metadata": {},
          "output_type": "execute_result"
        }
      ],
      "source": [
        "reshaped_df.head()"
      ]
    },
    {
      "cell_type": "code",
      "execution_count": null,
      "metadata": {
        "colab": {
          "base_uri": "https://localhost:8080/"
        },
        "id": "aout5hpnSLOq",
        "outputId": "6156bb00-c95e-443c-fe04-9465f2cb853e"
      },
      "outputs": [
        {
          "data": {
            "text/plain": [
              "Index(['hour_1', 'hour_2', 'hour_3', 'hour_4', 'hour_5', 'hour_6', 'hour_7',\n",
              "       'hour_8', 'hour_9', 'hour_10', 'hour_11', 'hour_12', 'hour_13',\n",
              "       'hour_14', 'hour_15', 'hour_16', 'hour_17', 'hour_18', 'hour_19',\n",
              "       'hour_20', 'hour_21', 'hour_22', 'hour_23', 'hour_24', 'rain', 'snow',\n",
              "       'weekend', 'week_day_Friday', 'week_day_Monday', 'week_day_Saturday',\n",
              "       'week_day_Sunday', 'week_day_Thursday', 'week_day_Tuesday',\n",
              "       'week_day_Wednesday', 'season_Fall', 'season_Spring', 'season_Summer',\n",
              "       'season_Winter'],\n",
              "      dtype='object')"
            ]
          },
          "execution_count": 233,
          "metadata": {},
          "output_type": "execute_result"
        }
      ],
      "source": [
        "reshaped_df[\"weekday\"] = reshaped_df.index.weekday\n",
        "reshaped_df[\"month\"] = reshaped_df.index.month\n",
        "reshaped_df.loc[:, \"rain\"] = reshaped_df[\"rain_next_day\"].apply(get_rain)\n",
        "reshaped_df.loc[:, \"snow\"] = reshaped_df[\"snow_next_day\"].apply(get_rain)\n",
        "reshaped_df.loc[:,'week_day'] = reshaped_df[\"weekday\"].apply(next_day_of_week)\n",
        "reshaped_df.loc[:,'weekend'] = reshaped_df[\"weekday\"].apply(is_next_day_weekend)\n",
        "reshaped_df.loc[:,'season'] = reshaped_df[\"month\"].apply(get_season)\n",
        "reshaped_df=pd.get_dummies(reshaped_df, columns=['week_day', \"season\"])\n",
        "reshaped_df = reshaped_df.drop([\"weekday\", \"month\", \"High\", \"Low\", \"Precip\", \"Snow\", \"rain_next_day\", \"snow_next_day\"], axis = 1)\n",
        "reshaped_df.columns"
      ]
    },
    {
      "cell_type": "code",
      "execution_count": null,
      "metadata": {
        "colab": {
          "base_uri": "https://localhost:8080/"
        },
        "id": "7__iMwP4SmgG",
        "outputId": "fff1d88f-a447-4b34-9a6d-3581be537b55"
      },
      "outputs": [
        {
          "data": {
            "text/plain": [
              "(365, 37)"
            ]
          },
          "execution_count": 215,
          "metadata": {},
          "output_type": "execute_result"
        }
      ],
      "source": [
        "reshaped_df.shape"
      ]
    },
    {
      "cell_type": "code",
      "execution_count": null,
      "metadata": {
        "id": "D9eXlNLFTOG5"
      },
      "outputs": [],
      "source": [
        "# We split the data into training and test data\n",
        "oct_nov_dec_mask =  (reshaped_df.index.month == 10) | (reshaped_df.index.month == 11) | (reshaped_df.index.month == 12)\n",
        "train_set = reshaped_df[~oct_nov_dec_mask]\n",
        "oct_mask = (reshaped_df.index.month == 10)\n",
        "val_set = reshaped_df[oct_mask]\n",
        "now_dec_mask = (reshaped_df.index.month == 11) | (reshaped_df.index.month == 12)\n",
        "test_set = reshaped_df[now_dec_mask]"
      ]
    },
    {
      "cell_type": "code",
      "execution_count": null,
      "metadata": {
        "id": "DARMXIK2zoPi"
      },
      "outputs": [],
      "source": [
        "from sklearn.model_selection import train_test_split\n",
        "\n",
        "# We take some part of the data\n",
        "oct_nov_dec_mask =  (reshaped_df.index.month == 10) | (reshaped_df.index.month == 11) | (reshaped_df.index.month == 12)\n",
        "data = reshaped_df[~oct_nov_dec_mask]\n",
        "train_set, val_set = train_test_split(data, test_size=0.2, random_state=42, shuffle = False)\n"
      ]
    },
    {
      "cell_type": "code",
      "execution_count": null,
      "metadata": {
        "id": "bR3Krui6Trks"
      },
      "outputs": [],
      "source": [
        "# We split the data\n",
        "X_train = train_set[:-1]\n",
        "y_train = train_set.iloc[1:,:24]\n",
        "X_val = val_set[:-1]\n",
        "y_val = val_set.iloc[1:,:24]\n",
        "X_test = test_set[:-1]\n",
        "y_test = test_set.iloc[1:,:24]\n",
        "\n",
        "# We standardize X data\n",
        "X_mean = X_train.mean(axis=0)\n",
        "X_std = X_train.std(axis=0)\n",
        "X_train_sd = (X_train - X_mean) / X_std\n",
        "X_val_sd = (X_val - X_mean) / X_std\n",
        "X_test_sd = (X_test - X_mean) / X_std\n",
        "\n",
        "# We standardize the y data\n",
        "y_mean = y_train.mean(axis=0)\n",
        "y_std = y_train.std(axis=0)\n",
        "y_train_sd = (y_train - y_mean) / y_std\n",
        "y_val_sd = (y_val - y_mean) / y_std\n",
        "\n"
      ]
    },
    {
      "cell_type": "code",
      "execution_count": null,
      "metadata": {
        "colab": {
          "base_uri": "https://localhost:8080/"
        },
        "id": "VyRvdP-sqju_",
        "outputId": "db4cd260-1665-4b12-ae19-676e52feee3f"
      },
      "outputs": [
        {
          "data": {
            "text/plain": [
              "(60, 24)"
            ]
          },
          "execution_count": 34,
          "metadata": {},
          "output_type": "execute_result"
        }
      ],
      "source": [
        "y_val.shape"
      ]
    },
    {
      "cell_type": "code",
      "execution_count": null,
      "metadata": {
        "id": "Bs2qAkmhU2lx"
      },
      "outputs": [],
      "source": [
        "from keras.models import Sequential\n",
        "from keras.layers import Dense, Dropout\n",
        "from keras.callbacks import EarlyStopping\n",
        "from keras.regularizers import l1, l2\n",
        "import keras\n",
        "\"\"\"\n",
        "def build_model(hp):\n",
        "  # We implement our neural network\n",
        "  model = Sequential()\n",
        "  model.add(\n",
        "      Dense(\n",
        "        units=hp.Int(\"units\", min_value=32, max_value=512, step=32), input_dim=38, activation='relu', kernel_regularizer=l2(0.05)))\n",
        "  model.add(Dropout(rate=0.1))\n",
        "  #model.add(Dense(64, activation='relu',kernel_regularizer=l2(0.05)))\n",
        "  #model.add(Dropout(rate=0.3))\n",
        "  #model.add(Dense(64, activation='relu',kernel_regularizer=l2(0.05)))\n",
        "  #model.add(Dropout(rate=0.3))\n",
        "  model.add(Dense(24, activation=\"linear\"))\n",
        "  model.compile(loss='mean_squared_error', optimizer='adam', metrics = [\"mean_squared_error\"])\n",
        "  early_stopping = EarlyStopping(monitor='val_loss', patience=5, verbose=1, restore_best_weights=True)\n",
        "  history = model.fit(X_train_sd, y_train_sd, epochs=2000, batch_size=365, validation_data=(X_val_sd,y_val_sd), callbacks=[early_stopping])\n",
        "\"\"\"\n",
        "def build_model(hp):\n",
        "    model = Sequential()\n",
        "    # Tune the number of layers.\n",
        "    for i in range(hp.Int(\"num_layers\", 1, 3)):\n",
        "        model.add(\n",
        "            Dense(\n",
        "              # Tune number of units separately.\n",
        "              units=hp.Int(f\"units_{i}\", min_value=32, max_value=512, step=32),\n",
        "              activation=hp.Choice(\"activation\", [\"relu\", \"tanh\"]),  kernel_regularizer = l2(hp.Float(\"kernal_regularizer\", min_value = 1e-4, max_value = 0.2, sampling = \"log\"))\n",
        "          )\n",
        "        )\n",
        "        if hp.Boolean(\"dropout\"):\n",
        "          model.add(Dropout(rate=0.25))\n",
        "    model.add(Dense(24, activation=\"linear\"))\n",
        "    learning_rate = hp.Float(\"lr\", min_value=1e-4, max_value=1e-2, sampling=\"log\")\n",
        "    model.compile(\n",
        "        optimizer = keras.optimizers.Adam(learning_rate=learning_rate),\n",
        "        loss=\"mean_squared_error\",\n",
        "        metrics=[\"mean_squared_error\"],\n",
        "    )\n",
        "    return model\n"
      ]
    },
    {
      "cell_type": "code",
      "execution_count": null,
      "metadata": {
        "colab": {
          "base_uri": "https://localhost:8080/"
        },
        "id": "kGMwGD9tETJ8",
        "outputId": "c2e5e8eb-c0ac-43e8-95e3-f344028cba94"
      },
      "outputs": [
        {
          "name": "stdout",
          "output_type": "stream",
          "text": [
            "Trial 3 Complete [00h 00m 23s]\n",
            "val_mean_squared_error: 1.0276340246200562\n",
            "\n",
            "Best val_mean_squared_error So Far: 1.0276340246200562\n",
            "Total elapsed time: 00h 01m 32s\n"
          ]
        }
      ],
      "source": [
        "! pip install keras-tuner\n",
        "import keras_tuner\n",
        "tuner = keras_tuner.RandomSearch(\n",
        "    hypermodel=build_model,\n",
        "    objective=\"val_mean_squared_error\",\n",
        "    max_trials=3,\n",
        "    executions_per_trial=2,\n",
        "    overwrite=True,\n",
        "    project_name=\"helloworld\",\n",
        ")\n",
        "tuner.search(X_train_sd, y_train_sd, epochs=100, validation_data=(X_val_sd, y_val_sd))"
      ]
    },
    {
      "cell_type": "code",
      "execution_count": null,
      "metadata": {
        "colab": {
          "base_uri": "https://localhost:8080/",
          "height": 453
        },
        "id": "ikGNfKVSI2UN",
        "outputId": "429a91c6-4340-4e74-fe95-3666eabbfc7f"
      },
      "outputs": [
        {
          "name": "stderr",
          "output_type": "stream",
          "text": [
            "Exception ignored in: <function _xla_gc_callback at 0x7fced60dc9d0>\n",
            "Traceback (most recent call last):\n",
            "  File \"/usr/local/lib/python3.10/dist-packages/jax/_src/lib/__init__.py\", line 97, in _xla_gc_callback\n",
            "    def _xla_gc_callback(*args):\n",
            "KeyboardInterrupt: \n"
          ]
        },
        {
          "ename": "ValueError",
          "evalue": "ignored",
          "output_type": "error",
          "traceback": [
            "\u001b[0;31m---------------------------------------------------------------------------\u001b[0m",
            "\u001b[0;31mValueError\u001b[0m                                Traceback (most recent call last)",
            "\u001b[0;32m<ipython-input-265-8aa9fefac901>\u001b[0m in \u001b[0;36m<cell line: 3>\u001b[0;34m()\u001b[0m\n\u001b[1;32m      1\u001b[0m \u001b[0mmodels\u001b[0m \u001b[0;34m=\u001b[0m \u001b[0mtuner\u001b[0m\u001b[0;34m.\u001b[0m\u001b[0mget_best_models\u001b[0m\u001b[0;34m(\u001b[0m\u001b[0;34m)\u001b[0m\u001b[0;34m\u001b[0m\u001b[0;34m\u001b[0m\u001b[0m\n\u001b[1;32m      2\u001b[0m \u001b[0mbest_model\u001b[0m \u001b[0;34m=\u001b[0m \u001b[0mmodels\u001b[0m\u001b[0;34m[\u001b[0m\u001b[0;36m0\u001b[0m\u001b[0;34m]\u001b[0m\u001b[0;34m\u001b[0m\u001b[0;34m\u001b[0m\u001b[0m\n\u001b[0;32m----> 3\u001b[0;31m \u001b[0mbest_model\u001b[0m\u001b[0;34m.\u001b[0m\u001b[0msummary\u001b[0m\u001b[0;34m(\u001b[0m\u001b[0;34m)\u001b[0m\u001b[0;34m\u001b[0m\u001b[0;34m\u001b[0m\u001b[0m\n\u001b[0m",
            "\u001b[0;32m/usr/local/lib/python3.10/dist-packages/keras/src/engine/training.py\u001b[0m in \u001b[0;36msummary\u001b[0;34m(self, line_length, positions, print_fn, expand_nested, show_trainable, layer_range)\u001b[0m\n\u001b[1;32m   3480\u001b[0m         \"\"\"\n\u001b[1;32m   3481\u001b[0m         \u001b[0;32mif\u001b[0m \u001b[0;32mnot\u001b[0m \u001b[0mself\u001b[0m\u001b[0;34m.\u001b[0m\u001b[0mbuilt\u001b[0m\u001b[0;34m:\u001b[0m\u001b[0;34m\u001b[0m\u001b[0;34m\u001b[0m\u001b[0m\n\u001b[0;32m-> 3482\u001b[0;31m             raise ValueError(\n\u001b[0m\u001b[1;32m   3483\u001b[0m                 \u001b[0;34m\"This model has not yet been built. \"\u001b[0m\u001b[0;34m\u001b[0m\u001b[0;34m\u001b[0m\u001b[0m\n\u001b[1;32m   3484\u001b[0m                 \u001b[0;34m\"Build the model first by calling `build()` or by calling \"\u001b[0m\u001b[0;34m\u001b[0m\u001b[0;34m\u001b[0m\u001b[0m\n",
            "\u001b[0;31mValueError\u001b[0m: This model has not yet been built. Build the model first by calling `build()` or by calling the model on a batch of data."
          ]
        }
      ],
      "source": [
        "models = tuner.get_best_models()\n",
        "best_model = models[0]\n",
        "best_model.summary()\n"
      ]
    },
    {
      "cell_type": "code",
      "execution_count": null,
      "metadata": {
        "colab": {
          "base_uri": "https://localhost:8080/"
        },
        "id": "Qte4trZFFvGb",
        "outputId": "279fa40a-13cf-4f8a-8250-efa205357fe3"
      },
      "outputs": [
        {
          "name": "stdout",
          "output_type": "stream",
          "text": [
            "Epoch 1/2000\n",
            "1/1 [==============================] - 2s 2s/step - loss: 1.4833 - mean_squared_error: 1.4751 - val_loss: 2.1905 - val_mean_squared_error: 2.1824\n",
            "Epoch 2/2000\n",
            "1/1 [==============================] - 0s 69ms/step - loss: 0.8689 - mean_squared_error: 0.8608 - val_loss: 1.6911 - val_mean_squared_error: 1.6830\n",
            "Epoch 3/2000\n",
            "1/1 [==============================] - 0s 84ms/step - loss: 0.6458 - mean_squared_error: 0.6377 - val_loss: 1.7730 - val_mean_squared_error: 1.7648\n",
            "Epoch 4/2000\n",
            "1/1 [==============================] - 0s 222ms/step - loss: 0.6589 - mean_squared_error: 0.6508 - val_loss: 1.8803 - val_mean_squared_error: 1.8722\n",
            "Epoch 5/2000\n",
            "1/1 [==============================] - 0s 64ms/step - loss: 0.6466 - mean_squared_error: 0.6385 - val_loss: 1.8308 - val_mean_squared_error: 1.8227\n",
            "Epoch 6/2000\n",
            "1/1 [==============================] - 0s 82ms/step - loss: 0.6036 - mean_squared_error: 0.5955 - val_loss: 1.6881 - val_mean_squared_error: 1.6800\n",
            "Epoch 7/2000\n",
            "1/1 [==============================] - 0s 121ms/step - loss: 0.5500 - mean_squared_error: 0.5420 - val_loss: 1.5353 - val_mean_squared_error: 1.5273\n",
            "Epoch 8/2000\n",
            "1/1 [==============================] - 0s 140ms/step - loss: 0.4944 - mean_squared_error: 0.4864 - val_loss: 1.4265 - val_mean_squared_error: 1.4185\n",
            "Epoch 9/2000\n",
            "1/1 [==============================] - 0s 86ms/step - loss: 0.4776 - mean_squared_error: 0.4696 - val_loss: 1.3680 - val_mean_squared_error: 1.3600\n",
            "Epoch 10/2000\n",
            "1/1 [==============================] - 0s 64ms/step - loss: 0.4675 - mean_squared_error: 0.4596 - val_loss: 1.3519 - val_mean_squared_error: 1.3440\n",
            "Epoch 11/2000\n",
            "1/1 [==============================] - 0s 78ms/step - loss: 0.4573 - mean_squared_error: 0.4494 - val_loss: 1.3633 - val_mean_squared_error: 1.3554\n",
            "Epoch 12/2000\n",
            "1/1 [==============================] - 0s 77ms/step - loss: 0.4703 - mean_squared_error: 0.4624 - val_loss: 1.3806 - val_mean_squared_error: 1.3728\n",
            "Epoch 13/2000\n",
            "1/1 [==============================] - 0s 74ms/step - loss: 0.4625 - mean_squared_error: 0.4547 - val_loss: 1.3894 - val_mean_squared_error: 1.3816\n",
            "Epoch 14/2000\n",
            "1/1 [==============================] - 0s 87ms/step - loss: 0.4735 - mean_squared_error: 0.4657 - val_loss: 1.3857 - val_mean_squared_error: 1.3779\n",
            "Epoch 15/2000\n",
            "1/1 [==============================] - ETA: 0s - loss: 0.4334 - mean_squared_error: 0.4257Restoring model weights from the end of the best epoch: 10.\n",
            "1/1 [==============================] - 0s 97ms/step - loss: 0.4334 - mean_squared_error: 0.4257 - val_loss: 1.3742 - val_mean_squared_error: 1.3664\n",
            "Epoch 15: early stopping\n"
          ]
        }
      ],
      "source": [
        "best_hps = tuner.get_best_hyperparameters()\n",
        "# Build the model with the best hp.\n",
        "model = build_model(best_hps[0])\n",
        "early_stopping = EarlyStopping(monitor='val_loss', patience=5, verbose=1, restore_best_weights=True)\n",
        "history = model.fit(X_train_sd, y_train_sd, epochs=2000, batch_size=365, validation_data=(X_val_sd,y_val_sd), callbacks=[early_stopping])\n"
      ]
    },
    {
      "cell_type": "code",
      "execution_count": null,
      "metadata": {
        "colab": {
          "base_uri": "https://localhost:8080/",
          "height": 564
        },
        "id": "uR9VZN1UhGs_",
        "outputId": "cc4fc61a-33b5-4edb-f89e-903c9f7db89a"
      },
      "outputs": [
        {
          "data": {
            "image/png": "[encoded data removed]",
            "text/plain": [
              "<Figure size 1000x600 with 1 Axes>"
            ]
          },
          "metadata": {},
          "output_type": "display_data"
        }
      ],
      "source": [
        "training_loss = history.history['mean_squared_error']\n",
        "validation_loss = history.history['val_mean_squared_error']\n",
        "\n",
        "plt.figure(figsize=(10, 6))\n",
        "plt.plot(training_loss, label='Training Loss')\n",
        "plt.plot(validation_loss, label='Validation Loss')\n",
        "plt.title('Training and Validation Loss')\n",
        "plt.xlabel('Epoch')\n",
        "plt.ylabel('Mean Squared Error')\n",
        "plt.legend()\n",
        "plt.show()\n"
      ]
    },
    {
      "cell_type": "code",
      "execution_count": null,
      "metadata": {
        "colab": {
          "base_uri": "https://localhost:8080/"
        },
        "id": "J42uuYFnXCXM",
        "outputId": "5225360a-9016-48be-bbed-bcf222517fd9"
      },
      "outputs": [
        {
          "name": "stdout",
          "output_type": "stream",
          "text": [
            "2/2 [==============================] - 0s 11ms/step\n",
            "hour_1      376.0\n",
            "hour_2      171.0\n",
            "hour_3      116.0\n",
            "hour_4       62.0\n",
            "hour_5       93.0\n",
            "hour_6      315.0\n",
            "hour_7     1191.0\n",
            "hour_8     2560.0\n",
            "hour_9     4848.0\n",
            "hour_10    3609.0\n",
            "hour_11    2330.0\n",
            "hour_12    2190.0\n",
            "hour_13    2783.0\n",
            "hour_14    2936.0\n",
            "hour_15    3192.0\n",
            "hour_16    3398.0\n",
            "hour_17    4590.0\n",
            "hour_18    6068.0\n",
            "hour_19    4409.0\n",
            "hour_20    1690.0\n",
            "hour_21     993.0\n",
            "hour_22     648.0\n",
            "hour_23     513.0\n",
            "hour_24     570.0\n",
            "Name: 2018-11-02 00:00:00, dtype: float64\n",
            "[ 330.6849809   185.60107642   77.73838698   24.95119398   92.23348113\n",
            "  295.64684488 1108.27268067 2426.46291401 3138.42850989 1706.25083622\n",
            "  516.09699852 1459.06656254 2056.54433123 1935.26059001 2282.53191107\n",
            " 2266.88182623 2839.85936891 3939.79273707 4159.10381596 2220.17561593\n",
            " 1565.63617655 1131.96444129 1020.26053476  712.78372576]\n",
            "-0.11891211143769946\n"
          ]
        }
      ],
      "source": [
        "from sklearn.metrics import r2_score\n",
        "y_pred_test_sd = model.predict(X_test_sd)\n",
        "y_pred_un = y_pred_test_sd * np.array(y_std) + np.array(y_mean)\n",
        "\n",
        "print(y_test.iloc[0])\n",
        "print(y_pred_un[0])\n",
        "\n",
        "r_squared = r2_score(y_test, y_pred_un)\n",
        "print(r_squared)"
      ]
    },
    {
      "cell_type": "code",
      "execution_count": null,
      "metadata": {
        "id": "NNhyy_9IrK7w"
      },
      "outputs": [],
      "source": [
        "def multi_output_r2_score(y_true, y_pred):\n",
        "    n_targets = y_true.shape[1]\n",
        "    r2_scores = []\n",
        "\n",
        "    for target in range(n_targets):\n",
        "        r2 = r2_score(y_true[:, target], y_pred[:, target])\n",
        "        r2_scores.append(r2)\n",
        "\n",
        "    return r2_scores\n",
        "\n",
        "y_pred_test = model.predict(X_test)\n",
        "r_squared = multi_output_r2_score(y_test.to_numpy(), y_pred_test)\n",
        "print(r_squared)\n",
        "\n",
        "\n"
      ]
    },
    {
      "cell_type": "code",
      "execution_count": null,
      "metadata": {
        "id": "5Vxs1eNULSxN"
      },
      "outputs": [],
      "source": [
        "df = pd.read_csv('data_with_clusters.csv', index_col=0,\n",
        "                 dtype={\"tripduration\": \"int32\", \"start_station_id\" : \"category\", \"start_station_latitude\" : \"float64\",\n",
        "                        \"start_station_longitude\": \"float64\", \"end_station_id\": \"category\", \"end_station_latitude\": \"float64\",\n",
        "                        \"end_station_longitude\": \"float64\", \"bikeid\": \"category\", \"usertype\": \"string\", \"birth_year\": \"int64\", \"gender\": \"int64\"},\n",
        "                 parse_dates=[\"starttime\", \"stoptime\"])"
      ]
    },
    {
      "cell_type": "code",
      "execution_count": null,
      "metadata": {
        "id": "RtN75pYer6b4"
      },
      "outputs": [],
      "source": [
        "# select only the data belonging to the two clusters with largest demand\n",
        "# df_two_cluster = df.loc[(df[\"start_at_cluster\"] == 0) | (df[\"start_at_cluster\"] == 1)].copy()\n",
        "del df\n"
      ]
    },
    {
      "cell_type": "code",
      "execution_count": null,
      "metadata": {
        "id": "OAUzCO2fWCOV"
      },
      "outputs": [],
      "source": [
        "\"\"\"\n",
        "# Exctracting to what extent a trip took place on a weekday or a weekend and what day of the week\n",
        "# Extract weekday and weekend\n",
        "df_two_cluster[\"weekday\"] = df_two_cluster.starttime.dt.weekday\n",
        "df_two_cluster['weekend'] = df_two_cluster.weekday.isin([5, 6])\n",
        "\n",
        "days_of_week = [\"Monday\", \"Tuesday\", \"Wednesday\", \"Thursday\", \"Friday\", \"Saturday\", \"Sunday\"]\n",
        "df_two_cluster.loc[:,'week_day'] = df_two_cluster[\"weekday\"].map(lambda x: days_of_week[x])\n",
        "\n",
        "\n",
        "def time_of_day(hour):\n",
        "    h_thresholds = [7, 8, 12, 14, 17, 20, 23]\n",
        "    h_names = [\"night\", \"morning rush\", \"morning\", \"lunch time\", \"afternoon\", \"afternoon rush\", \"evening\", \"night\"]\n",
        "    return h_names[next((i for i, threshold in enumerate(h_thresholds) if hour <= threshold), -1)]\n",
        "\n",
        "df_two_cluster['time_of_day'] = df_two_cluster.starttime.dt.hour.map(time_of_day)\n",
        "\"\"\""
      ]
    },
    {
      "cell_type": "code",
      "execution_count": null,
      "metadata": {
        "id": "X28BNLTkbQ0A"
      },
      "outputs": [],
      "source": [
        "# We now convert some of our data into dummy variables, so that the models we have can use the data\n",
        "#df_two_cluster_dummies=pd.get_dummies(df_two_cluster, columns=['gender', 'week_day', 'time_of_day'])\n",
        "#df_two_cluster_dummies.columns"
      ]
    },
    {
      "cell_type": "code",
      "execution_count": null,
      "metadata": {
        "id": "EjSRbX_0r0gp"
      },
      "outputs": [],
      "source": [
        "# select only the data belonging to the two clusters with largest demand\n",
        "#df_1 = df_two_cluster_dummies[df_two_cluster_dummies[\"start_at_cluster\"] == 0]\n",
        "#df_2 = df_two_cluster_dummies[df_two_cluster_dummies[\"start_at_cluster\"] == 1]"
      ]
    },
    {
      "cell_type": "code",
      "execution_count": null,
      "metadata": {
        "id": "ALfJR7F4FRHv"
      },
      "outputs": [],
      "source": [
        "#df_1.head()\n",
        "#df_1.dtypes"
      ]
    },
    {
      "cell_type": "code",
      "execution_count": null,
      "metadata": {
        "id": "J-ZSMNFEOi4j"
      },
      "outputs": [],
      "source": [
        "def buildLaggedFeatures(s,columns, lag=2,dropna=True):\n",
        "    '''\n",
        "    From http://stackoverflow.com/questions/20410312/how-to-create-a-lagged-data-structure-using-pandas-dataframe\n",
        "    Builds a new DataFrame to facilitate regressing over all possible lagged features\n",
        "    '''\n",
        "    if type(s) is pd.DataFrame:\n",
        "        new_dict={}\n",
        "        for c in s.columns:\n",
        "            new_dict[c]=s[c]\n",
        "        for col_name in columns:\n",
        "            new_dict[col_name]=s[col_name]\n",
        "            # create lagged Series\n",
        "            for l in range(1,lag+1):\n",
        "                new_dict['%s_lag%d' %(col_name,l)]=s[col_name].shift(l)\n",
        "        res=pd.DataFrame(new_dict,index=s.index)\n",
        "\n",
        "    elif type(s) is pd.Series:\n",
        "        the_range=range(lag+1)\n",
        "        res=pd.concat([s.shift(i) for i in the_range],axis=1)\n",
        "        res.columns=['lag_%d' %i for i in the_range]\n",
        "    else:\n",
        "        print('Only works for DataFrame or Series')\n",
        "        return None\n",
        "    if dropna:\n",
        "        return res.dropna()\n",
        "    else:\n",
        "        return res"
      ]
    },
    {
      "cell_type": "code",
      "execution_count": null,
      "metadata": {
        "id": "oLjF8c7hPcNj"
      },
      "outputs": [],
      "source": [
        "df_f_1_lagged=buildLaggedFeatures(df_f_1, ['ride_count'], lag=24)\n",
        "\n",
        "df_f_1_lagged[\"weekday\"] = df_f_1_lagged.datetime.dt.weekday\n",
        "days_of_week = [\"Monday\", \"Tuesday\", \"Wednesday\", \"Thursday\", \"Friday\", \"Saturday\", \"Sunday\"]\n",
        "df_f_1_lagged.loc[:,'week_day'] = df_f_1_lagged[\"weekday\"].map(lambda x: days_of_week[x])\n",
        "df_f_1_lagged['time_of_day'] = df_f_1_lagged.datetime.dt.hour.map(time_of_day)\n",
        "df_f_1_lagged=pd.get_dummies(df_f_1_lagged, columns=['week_day', 'time_of_day'])\n",
        "df_f_1_lagged = df_f_1_lagged.set_index(\"datetime\")\n",
        "\n",
        "nov_dec_mask = (df_f_1_lagged.index.month == 11) | (df_f_1_lagged.index.month == 12)\n",
        "train_set = df_f_1_lagged[~nov_dec_mask]  # Rows not in November or December\n",
        "test_set = df_f_1_lagged[nov_dec_mask]"
      ]
    },
    {
      "cell_type": "code",
      "execution_count": null,
      "metadata": {
        "id": "49XuTAL7DZl6"
      },
      "outputs": [],
      "source": [
        "train_set.shape"
      ]
    },
    {
      "cell_type": "code",
      "execution_count": null,
      "metadata": {
        "id": "QCNhagi1PnG7"
      },
      "outputs": [],
      "source": [
        "df_f_1_lagged.columns\n",
        "y=np.array(train_set['ride_count'], ndmin=2).T\n",
        "df_selected = train_set.drop('ride_count', axis=1)\n",
        "x=np.c_[np.ones(len(train_set)), df_selected]\n",
        "\n",
        "y_test = np.array(test_set['ride_count'], ndmin=2).T\n",
        "df_selected = test_set.drop('ride_count', axis=1)\n",
        "x_test=np.c_[np.ones(len(test_set)), df_selected]"
      ]
    },
    {
      "cell_type": "code",
      "execution_count": null,
      "metadata": {
        "id": "yHmSC4lvHv-a"
      },
      "outputs": [],
      "source": [
        "x"
      ]
    },
    {
      "cell_type": "code",
      "execution_count": null,
      "metadata": {
        "id": "j0RIUK294Fxp"
      },
      "outputs": [],
      "source": [
        "from sklearn import datasets, linear_model\n",
        "from sklearn.metrics import r2_score\n",
        "regr=linear_model.LinearRegression(fit_intercept=False)\n",
        "regr.fit(x, y)"
      ]
    },
    {
      "cell_type": "markdown",
      "metadata": {
        "id": "2_hYY4ohJL3A"
      },
      "source": [
        "From here and down it is not correct and we need to do some changes"
      ]
    },
    {
      "cell_type": "code",
      "execution_count": null,
      "metadata": {
        "id": "dOT0efhv4i6m"
      },
      "outputs": [],
      "source": [
        "y_pred_test = regr.predict(x_test)\n",
        "r_squared = r2_score(y_pred_test, y_test)\n",
        "print(r_squared)"
      ]
    },
    {
      "cell_type": "code",
      "execution_count": null,
      "metadata": {
        "id": "wrCrNT1_5wbT"
      },
      "outputs": [],
      "source": [
        "def prediction_model (model, x_test):\n",
        "  for i in range(0, 24):\n",
        "    prediction = model.predict(np.hstack(([1], x_test[i: i + 40])).reshape(1, -1))\n",
        "    x_test = np.append(x_test, prediction)\n",
        "  return x_test[24:]"
      ]
    },
    {
      "cell_type": "markdown",
      "metadata": {
        "id": "hOK5EGeg7rI3"
      },
      "source": []
    },
    {
      "cell_type": "code",
      "execution_count": null,
      "metadata": {
        "id": "8kJZnlkW7NjB"
      },
      "outputs": [],
      "source": [
        "y_test_finished = y_test[25:25+24]\n",
        "df_selected = test_set.drop('ride_count', axis=1)\n",
        "x_test_finished = x_test[0]\n",
        "\n",
        "predicted_values = prediction_model(regr, x_test_finished)"
      ]
    },
    {
      "cell_type": "code",
      "execution_count": null,
      "metadata": {
        "id": "dXZZLf9o9_o9"
      },
      "outputs": [],
      "source": [
        "r_squared = r2_score(predicted_values, y_test_finished)\n",
        "print(y_test_finished)\n",
        "print(predicted_values)\n"
      ]
    }
  ],
  "metadata": {
    "colab": {
      "provenance": []
    },
    "kernelspec": {
      "display_name": "Python 3",
      "name": "python3"
    },
    "language_info": {
      "name": "python"
    }
  },
  "nbformat": 4,
  "nbformat_minor": 0
}
