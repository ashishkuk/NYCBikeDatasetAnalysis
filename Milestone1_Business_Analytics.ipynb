{
 "cells": [
  {
   "cell_type": "markdown",
   "id": "d3eb557a",
   "metadata": {},
   "source": [
    "# Milestone 1 - Introduction to Buisness Analytics"
   ]
  },
  {
   "cell_type": "markdown",
   "id": "57964620",
   "metadata": {},
   "source": [
    "Group:\n",
    "\n",
    "Ashish Rakesh Chandra Kukreti (s230134), Ashutosh Dhaka (s222374), Daniel Lihotský (s231868), Natsuki Sato (s231459) and Oskar Fusager (s204383)"
   ]
  },
  {
   "cell_type": "code",
   "execution_count": 1,
   "id": "e98c1303",
   "metadata": {},
   "outputs": [],
   "source": [
    "import pandas as pd"
   ]
  },
  {
   "cell_type": "code",
   "execution_count": 2,
   "id": "3037790e",
   "metadata": {},
   "outputs": [],
   "source": [
    "df=pd.read_csv('Trips_2018.csv')"
   ]
  },
  {
   "cell_type": "code",
   "execution_count": 3,
   "id": "dd719c54",
   "metadata": {
    "scrolled": false
   },
   "outputs": [
    {
     "data": {
      "text/html": [
       "<div>\n",
       "<style scoped>\n",
       "    .dataframe tbody tr th:only-of-type {\n",
       "        vertical-align: middle;\n",
       "    }\n",
       "\n",
       "    .dataframe tbody tr th {\n",
       "        vertical-align: top;\n",
       "    }\n",
       "\n",
       "    .dataframe thead th {\n",
       "        text-align: right;\n",
       "    }\n",
       "</style>\n",
       "<table border=\"1\" class=\"dataframe\">\n",
       "  <thead>\n",
       "    <tr style=\"text-align: right;\">\n",
       "      <th></th>\n",
       "      <th>Unnamed: 0</th>\n",
       "      <th>tripduration</th>\n",
       "      <th>starttime</th>\n",
       "      <th>stoptime</th>\n",
       "      <th>start_station_id</th>\n",
       "      <th>start_station_latitude</th>\n",
       "      <th>start_station_longitude</th>\n",
       "      <th>end_station_id</th>\n",
       "      <th>end_station_latitude</th>\n",
       "      <th>end_station_longitude</th>\n",
       "      <th>bikeid</th>\n",
       "      <th>usertype</th>\n",
       "      <th>birth_year</th>\n",
       "      <th>gender</th>\n",
       "    </tr>\n",
       "  </thead>\n",
       "  <tbody>\n",
       "    <tr>\n",
       "      <th>0</th>\n",
       "      <td>0</td>\n",
       "      <td>970</td>\n",
       "      <td>2018-01-01 13:50:57.4340</td>\n",
       "      <td>2018-01-01 14:07:08.1860</td>\n",
       "      <td>72.0</td>\n",
       "      <td>40.767272</td>\n",
       "      <td>-73.993929</td>\n",
       "      <td>505.0</td>\n",
       "      <td>40.749013</td>\n",
       "      <td>-73.988484</td>\n",
       "      <td>31956</td>\n",
       "      <td>Subscriber</td>\n",
       "      <td>1992</td>\n",
       "      <td>1</td>\n",
       "    </tr>\n",
       "    <tr>\n",
       "      <th>1</th>\n",
       "      <td>1</td>\n",
       "      <td>723</td>\n",
       "      <td>2018-01-01 15:33:30.1820</td>\n",
       "      <td>2018-01-01 15:45:33.3410</td>\n",
       "      <td>72.0</td>\n",
       "      <td>40.767272</td>\n",
       "      <td>-73.993929</td>\n",
       "      <td>3255.0</td>\n",
       "      <td>40.750585</td>\n",
       "      <td>-73.994685</td>\n",
       "      <td>32536</td>\n",
       "      <td>Subscriber</td>\n",
       "      <td>1969</td>\n",
       "      <td>1</td>\n",
       "    </tr>\n",
       "    <tr>\n",
       "      <th>2</th>\n",
       "      <td>2</td>\n",
       "      <td>496</td>\n",
       "      <td>2018-01-01 15:39:18.3370</td>\n",
       "      <td>2018-01-01 15:47:35.1720</td>\n",
       "      <td>72.0</td>\n",
       "      <td>40.767272</td>\n",
       "      <td>-73.993929</td>\n",
       "      <td>525.0</td>\n",
       "      <td>40.755942</td>\n",
       "      <td>-74.002116</td>\n",
       "      <td>16069</td>\n",
       "      <td>Subscriber</td>\n",
       "      <td>1956</td>\n",
       "      <td>1</td>\n",
       "    </tr>\n",
       "    <tr>\n",
       "      <th>3</th>\n",
       "      <td>3</td>\n",
       "      <td>306</td>\n",
       "      <td>2018-01-01 15:40:13.3720</td>\n",
       "      <td>2018-01-01 15:45:20.1910</td>\n",
       "      <td>72.0</td>\n",
       "      <td>40.767272</td>\n",
       "      <td>-73.993929</td>\n",
       "      <td>447.0</td>\n",
       "      <td>40.763707</td>\n",
       "      <td>-73.985162</td>\n",
       "      <td>31781</td>\n",
       "      <td>Subscriber</td>\n",
       "      <td>1974</td>\n",
       "      <td>1</td>\n",
       "    </tr>\n",
       "    <tr>\n",
       "      <th>4</th>\n",
       "      <td>4</td>\n",
       "      <td>306</td>\n",
       "      <td>2018-01-01 18:14:51.5680</td>\n",
       "      <td>2018-01-01 18:19:57.6420</td>\n",
       "      <td>72.0</td>\n",
       "      <td>40.767272</td>\n",
       "      <td>-73.993929</td>\n",
       "      <td>3356.0</td>\n",
       "      <td>40.774667</td>\n",
       "      <td>-73.984706</td>\n",
       "      <td>30319</td>\n",
       "      <td>Subscriber</td>\n",
       "      <td>1992</td>\n",
       "      <td>1</td>\n",
       "    </tr>\n",
       "    <tr>\n",
       "      <th>5</th>\n",
       "      <td>5</td>\n",
       "      <td>1602</td>\n",
       "      <td>2018-01-01 21:31:54.1920</td>\n",
       "      <td>2018-01-01 21:58:36.3530</td>\n",
       "      <td>72.0</td>\n",
       "      <td>40.767272</td>\n",
       "      <td>-73.993929</td>\n",
       "      <td>482.0</td>\n",
       "      <td>40.739355</td>\n",
       "      <td>-73.999318</td>\n",
       "      <td>30106</td>\n",
       "      <td>Subscriber</td>\n",
       "      <td>1968</td>\n",
       "      <td>1</td>\n",
       "    </tr>\n",
       "    <tr>\n",
       "      <th>6</th>\n",
       "      <td>6</td>\n",
       "      <td>722</td>\n",
       "      <td>2018-01-02 07:54:53.6460</td>\n",
       "      <td>2018-01-02 08:06:55.8720</td>\n",
       "      <td>72.0</td>\n",
       "      <td>40.767272</td>\n",
       "      <td>-73.993929</td>\n",
       "      <td>228.0</td>\n",
       "      <td>40.754601</td>\n",
       "      <td>-73.971879</td>\n",
       "      <td>32059</td>\n",
       "      <td>Subscriber</td>\n",
       "      <td>1978</td>\n",
       "      <td>1</td>\n",
       "    </tr>\n",
       "    <tr>\n",
       "      <th>7</th>\n",
       "      <td>7</td>\n",
       "      <td>434</td>\n",
       "      <td>2018-01-02 08:06:14.3310</td>\n",
       "      <td>2018-01-02 08:13:28.7670</td>\n",
       "      <td>72.0</td>\n",
       "      <td>40.767272</td>\n",
       "      <td>-73.993929</td>\n",
       "      <td>173.0</td>\n",
       "      <td>40.760683</td>\n",
       "      <td>-73.984527</td>\n",
       "      <td>30525</td>\n",
       "      <td>Subscriber</td>\n",
       "      <td>1983</td>\n",
       "      <td>1</td>\n",
       "    </tr>\n",
       "    <tr>\n",
       "      <th>8</th>\n",
       "      <td>8</td>\n",
       "      <td>366</td>\n",
       "      <td>2018-01-02 08:10:15.2550</td>\n",
       "      <td>2018-01-02 08:16:21.8960</td>\n",
       "      <td>72.0</td>\n",
       "      <td>40.767272</td>\n",
       "      <td>-73.993929</td>\n",
       "      <td>479.0</td>\n",
       "      <td>40.760193</td>\n",
       "      <td>-73.991255</td>\n",
       "      <td>27439</td>\n",
       "      <td>Subscriber</td>\n",
       "      <td>1974</td>\n",
       "      <td>1</td>\n",
       "    </tr>\n",
       "    <tr>\n",
       "      <th>9</th>\n",
       "      <td>9</td>\n",
       "      <td>324</td>\n",
       "      <td>2018-01-02 08:13:30.8960</td>\n",
       "      <td>2018-01-02 08:18:55.1200</td>\n",
       "      <td>72.0</td>\n",
       "      <td>40.767272</td>\n",
       "      <td>-73.993929</td>\n",
       "      <td>450.0</td>\n",
       "      <td>40.762272</td>\n",
       "      <td>-73.987882</td>\n",
       "      <td>30892</td>\n",
       "      <td>Subscriber</td>\n",
       "      <td>1947</td>\n",
       "      <td>1</td>\n",
       "    </tr>\n",
       "  </tbody>\n",
       "</table>\n",
       "</div>"
      ],
      "text/plain": [
       "   Unnamed: 0  tripduration                 starttime  \\\n",
       "0           0           970  2018-01-01 13:50:57.4340   \n",
       "1           1           723  2018-01-01 15:33:30.1820   \n",
       "2           2           496  2018-01-01 15:39:18.3370   \n",
       "3           3           306  2018-01-01 15:40:13.3720   \n",
       "4           4           306  2018-01-01 18:14:51.5680   \n",
       "5           5          1602  2018-01-01 21:31:54.1920   \n",
       "6           6           722  2018-01-02 07:54:53.6460   \n",
       "7           7           434  2018-01-02 08:06:14.3310   \n",
       "8           8           366  2018-01-02 08:10:15.2550   \n",
       "9           9           324  2018-01-02 08:13:30.8960   \n",
       "\n",
       "                   stoptime  start_station_id  start_station_latitude  \\\n",
       "0  2018-01-01 14:07:08.1860              72.0               40.767272   \n",
       "1  2018-01-01 15:45:33.3410              72.0               40.767272   \n",
       "2  2018-01-01 15:47:35.1720              72.0               40.767272   \n",
       "3  2018-01-01 15:45:20.1910              72.0               40.767272   \n",
       "4  2018-01-01 18:19:57.6420              72.0               40.767272   \n",
       "5  2018-01-01 21:58:36.3530              72.0               40.767272   \n",
       "6  2018-01-02 08:06:55.8720              72.0               40.767272   \n",
       "7  2018-01-02 08:13:28.7670              72.0               40.767272   \n",
       "8  2018-01-02 08:16:21.8960              72.0               40.767272   \n",
       "9  2018-01-02 08:18:55.1200              72.0               40.767272   \n",
       "\n",
       "   start_station_longitude  end_station_id  end_station_latitude  \\\n",
       "0               -73.993929           505.0             40.749013   \n",
       "1               -73.993929          3255.0             40.750585   \n",
       "2               -73.993929           525.0             40.755942   \n",
       "3               -73.993929           447.0             40.763707   \n",
       "4               -73.993929          3356.0             40.774667   \n",
       "5               -73.993929           482.0             40.739355   \n",
       "6               -73.993929           228.0             40.754601   \n",
       "7               -73.993929           173.0             40.760683   \n",
       "8               -73.993929           479.0             40.760193   \n",
       "9               -73.993929           450.0             40.762272   \n",
       "\n",
       "   end_station_longitude  bikeid    usertype  birth_year  gender  \n",
       "0             -73.988484   31956  Subscriber        1992       1  \n",
       "1             -73.994685   32536  Subscriber        1969       1  \n",
       "2             -74.002116   16069  Subscriber        1956       1  \n",
       "3             -73.985162   31781  Subscriber        1974       1  \n",
       "4             -73.984706   30319  Subscriber        1992       1  \n",
       "5             -73.999318   30106  Subscriber        1968       1  \n",
       "6             -73.971879   32059  Subscriber        1978       1  \n",
       "7             -73.984527   30525  Subscriber        1983       1  \n",
       "8             -73.991255   27439  Subscriber        1974       1  \n",
       "9             -73.987882   30892  Subscriber        1947       1  "
      ]
     },
     "execution_count": 3,
     "metadata": {},
     "output_type": "execute_result"
    }
   ],
   "source": [
    "df.head(10)"
   ]
  },
  {
   "cell_type": "markdown",
   "id": "8b8210f6",
   "metadata": {},
   "source": [
    "# Section 1 - Introduction + Data analysis and visualization:"
   ]
  },
  {
   "cell_type": "markdown",
   "id": "bb038308",
   "metadata": {},
   "source": [
    "\n",
    "\n",
    "Introduction:\n",
    "\n",
    "Citi Bike data has emerged as a valuable resource for analyzing urban mobility trends and understanding how people move through these bustling metropolises. The given data at hand can be clubbed into 4 categories and later can be used to address problems related to those sections.\n",
    "The 1st set of features that we’ll be using for the prediction challenge will be mainly the Trip information. The given features include the starttime and stopttime, The IDs of the starting and terminating stations and the bike ID. As mentioned the data requires some pre conditioning before use. We addressed the starttime and formatted it according to the datetime convention.\n",
    "Then we divided the dataset from January to October for training and the data for November and December is used for testing as mentioned.\n"
   ]
  },
  {
   "cell_type": "code",
   "execution_count": 4,
   "id": "b688188b",
   "metadata": {},
   "outputs": [
    {
     "name": "stdout",
     "output_type": "stream",
     "text": [
      "<class 'pandas.core.frame.DataFrame'>\n",
      "RangeIndex: 17548339 entries, 0 to 17548338\n",
      "Data columns (total 14 columns):\n",
      " #   Column                   Dtype  \n",
      "---  ------                   -----  \n",
      " 0   Unnamed: 0               int64  \n",
      " 1   tripduration             int64  \n",
      " 2   starttime                object \n",
      " 3   stoptime                 object \n",
      " 4   start_station_id         float64\n",
      " 5   start_station_latitude   float64\n",
      " 6   start_station_longitude  float64\n",
      " 7   end_station_id           float64\n",
      " 8   end_station_latitude     float64\n",
      " 9   end_station_longitude    float64\n",
      " 10  bikeid                   int64  \n",
      " 11  usertype                 object \n",
      " 12  birth_year               int64  \n",
      " 13  gender                   int64  \n",
      "dtypes: float64(6), int64(5), object(3)\n",
      "memory usage: 1.8+ GB\n"
     ]
    }
   ],
   "source": [
    "df.info()"
   ]
  },
  {
   "cell_type": "markdown",
   "id": "6f2de623",
   "metadata": {},
   "source": [
    "Start time and dat are : str\n"
   ]
  },
  {
   "cell_type": "code",
   "execution_count": 5,
   "id": "2c4e6f2b",
   "metadata": {},
   "outputs": [
    {
     "data": {
      "text/plain": [
       "str"
      ]
     },
     "execution_count": 5,
     "metadata": {},
     "output_type": "execute_result"
    }
   ],
   "source": [
    "type(df['starttime'].values[0])"
   ]
  },
  {
   "cell_type": "code",
   "execution_count": 6,
   "id": "44a0c14f",
   "metadata": {},
   "outputs": [
    {
     "data": {
      "text/plain": [
       "(17548339, 14)"
      ]
     },
     "execution_count": 6,
     "metadata": {},
     "output_type": "execute_result"
    }
   ],
   "source": [
    "df.shape"
   ]
  },
  {
   "cell_type": "markdown",
   "id": "c1b737a7",
   "metadata": {},
   "source": [
    "Questions to ask:\n",
    "Time of day people are riding bikes\n",
    "week people are riding bikes\n",
    "\n",
    "Look at the distribution of trip duration\n",
    "Convert start time and stop time to datetime object\n",
    "latitude and longitude ( geocoding)\n",
    "user type distribution \n",
    "birth year distriution \n"
   ]
  },
  {
   "cell_type": "markdown",
   "id": "f588602d",
   "metadata": {},
   "source": [
    "# Trip Duration"
   ]
  },
  {
   "cell_type": "code",
   "execution_count": 7,
   "id": "8b2070b2",
   "metadata": {},
   "outputs": [
    {
     "data": {
      "text/plain": [
       "<AxesSubplot:>"
      ]
     },
     "execution_count": 7,
     "metadata": {},
     "output_type": "execute_result"
    },
    {
     "data": {
      "image/png": "[encoded data removed]",
      "text/plain": [
       "<Figure size 640x480 with 1 Axes>"
      ]
     },
     "metadata": {},
     "output_type": "display_data"
    }
   ],
   "source": [
    "#in seconds\n",
    "#df.tripduration.hist()\n",
    "\n",
    "df['trip_minutes']=df.tripduration/60\n",
    "df.trip_minutes\n",
    "\n",
    "df.trip_minutes.hist()"
   ]
  },
  {
   "cell_type": "markdown",
   "id": "c9f7aa91",
   "metadata": {},
   "source": [
    "24 hours in mins= 1440\n",
    "48 hours in mins=2880\n",
    "mins in 7 days=10080\n",
    "mins in one month(30 days) = 43200\n"
   ]
  },
  {
   "cell_type": "code",
   "execution_count": 8,
   "id": "e1ffe8ac",
   "metadata": {},
   "outputs": [
    {
     "name": "stdout",
     "output_type": "stream",
     "text": [
      "maximum rented duration  225.81  days or 325167.48 mins\n",
      "minimum rented duration  1.0166666666666666  mins\n",
      "average trip duration:  16.479053295774552 mins\n"
     ]
    }
   ],
   "source": [
    "(df.trip_minutes.max()/60)/24\n",
    "print(\"maximum rented duration \",round(((df.trip_minutes.max()/60)/24),2),\" days\", \"or\" ,round((df.trip_minutes.max()),2),\"mins\" )\n",
    "(df.trip_minutes.min()/60)/24\n",
    "print(\"minimum rented duration \",(df.trip_minutes.min()),\" mins\")\n",
    "\n",
    "print(\"average trip duration: \",df.trip_minutes.mean(),\"mins\")"
   ]
  },
  {
   "cell_type": "markdown",
   "id": "82ec886d",
   "metadata": {},
   "source": [
    "distribution of less than 30 mins"
   ]
  },
  {
   "cell_type": "code",
   "execution_count": 9,
   "id": "506e2d9d",
   "metadata": {},
   "outputs": [
    {
     "data": {
      "text/plain": [
       "16174258"
      ]
     },
     "execution_count": 9,
     "metadata": {},
     "output_type": "execute_result"
    },
    {
     "data": {
      "image/png": "[encoded data removed]",
      "text/plain": [
       "<Figure size 640x480 with 1 Axes>"
      ]
     },
     "metadata": {},
     "output_type": "display_data"
    }
   ],
   "source": [
    "df[df.trip_minutes<30].trip_minutes.hist()\n",
    "len(df[df.trip_minutes<30])"
   ]
  },
  {
   "cell_type": "markdown",
   "id": "e97c99a5",
   "metadata": {},
   "source": [
    "distribution of less than 60 mins"
   ]
  },
  {
   "cell_type": "code",
   "execution_count": 10,
   "id": "fbb37e29",
   "metadata": {},
   "outputs": [
    {
     "data": {
      "text/plain": [
       "17381946"
      ]
     },
     "execution_count": 10,
     "metadata": {},
     "output_type": "execute_result"
    },
    {
     "data": {
      "image/png": "[encoded data removed]",
      "text/plain": [
       "<Figure size 640x480 with 1 Axes>"
      ]
     },
     "metadata": {},
     "output_type": "display_data"
    }
   ],
   "source": [
    "df[df.trip_minutes<60].trip_minutes.hist()\n",
    "len(df[df.trip_minutes<60])"
   ]
  },
  {
   "cell_type": "markdown",
   "id": "bfa66f5e",
   "metadata": {},
   "source": [
    "distribution of less than 24 hours"
   ]
  },
  {
   "cell_type": "code",
   "execution_count": 12,
   "id": "ffae1d21",
   "metadata": {},
   "outputs": [
    {
     "name": "stdout",
     "output_type": "stream",
     "text": [
      "17543815\n"
     ]
    },
    {
     "data": {
      "image/png": "[encoded data removed]",
      "text/plain": [
       "<Figure size 640x480 with 1 Axes>"
      ]
     },
     "metadata": {},
     "output_type": "display_data"
    }
   ],
   "source": [
    "df[df.trip_minutes<1440].trip_minutes.hist()\n",
    "onedaytd=len(df[df.trip_minutes<1440])\n",
    "print(onedaytd)"
   ]
  },
  {
   "cell_type": "code",
   "execution_count": 13,
   "id": "a0dff644",
   "metadata": {},
   "outputs": [
    {
     "name": "stdout",
     "output_type": "stream",
     "text": [
      "trip duration after one day 3564 mins\n"
     ]
    },
    {
     "data": {
      "image/png": "[encoded data removed]",
      "text/plain": [
       "<Figure size 640x480 with 1 Axes>"
      ]
     },
     "metadata": {},
     "output_type": "display_data"
    }
   ],
   "source": [
    "df[df.trip_minutes<10080].trip_minutes.hist()\n",
    "sevendaystd=len(df[df.trip_minutes<10080])\n",
    "#print(sevendaystd)\n",
    "print(\"trip duration after one day\" ,sevendaystd-onedaytd, \"mins\")"
   ]
  },
  {
   "cell_type": "code",
   "execution_count": 14,
   "id": "7ac39fd0",
   "metadata": {},
   "outputs": [
    {
     "name": "stdout",
     "output_type": "stream",
     "text": [
      "tripduration more than 7 days: 822  mins\n"
     ]
    },
    {
     "data": {
      "image/png": "[encoded data removed]",
      "text/plain": [
       "<Figure size 640x480 with 1 Axes>"
      ]
     },
     "metadata": {},
     "output_type": "display_data"
    }
   ],
   "source": [
    "df[df.trip_minutes<43200].trip_minutes.hist()\n",
    "thirtydaystd=len(df[df.trip_minutes<43200])\n",
    "print(\"tripduration more than 7 days:\",thirtydaystd-sevendaystd,\" mins\")"
   ]
  },
  {
   "cell_type": "code",
   "execution_count": 15,
   "id": "747d001f",
   "metadata": {},
   "outputs": [
    {
     "name": "stdout",
     "output_type": "stream",
     "text": [
      "trip duration more than 30 days: 138 mins\n"
     ]
    },
    {
     "data": {
      "image/png": "[encoded data removed]",
      "text/plain": [
       "<Figure size 640x480 with 1 Axes>"
      ]
     },
     "metadata": {},
     "output_type": "display_data"
    }
   ],
   "source": [
    "df[df.trip_minutes>43200].trip_minutes.hist()\n",
    "print(\"trip duration more than 30 days:\", len(df[df.trip_minutes>43200]),\"mins\")"
   ]
  },
  {
   "cell_type": "code",
   "execution_count": 17,
   "id": "dd5b7a72",
   "metadata": {},
   "outputs": [
    {
     "data": {
      "image/png": "[encoded data removed]",
      "text/plain": [
       "<Figure size 640x480 with 1 Axes>"
      ]
     },
     "metadata": {},
     "output_type": "display_data"
    }
   ],
   "source": [
    "import matplotlib.pyplot as plt\n",
    "plt.scatter(range(len(df.trip_minutes)),df.trip_minutes,s=0.7)\n",
    "plt.xlabel('number of data points')\n",
    "plt.show()"
   ]
  },
  {
   "cell_type": "markdown",
   "id": "e698e8d3",
   "metadata": {},
   "source": [
    "# Visualisation of the station ids"
   ]
  },
  {
   "cell_type": "code",
   "execution_count": 118,
   "id": "17e33712",
   "metadata": {},
   "outputs": [],
   "source": [
    "dfff = df.drop_duplicates(subset=['start_station_longitude', 'start_station_latitude', 'end_station_longitude', 'end_station_latitude'])"
   ]
  },
  {
   "cell_type": "code",
   "execution_count": 121,
   "id": "6a13fedf",
   "metadata": {},
   "outputs": [
    {
     "data": {
      "image/png": "[encoded data removed]",
      "text/plain": [
       "<Figure size 640x480 with 1 Axes>"
      ]
     },
     "metadata": {},
     "output_type": "display_data"
    },
    {
     "data": {
      "image/png": "[encoded data removed]",
      "text/plain": [
       "<Figure size 640x480 with 1 Axes>"
      ]
     },
     "metadata": {},
     "output_type": "display_data"
    }
   ],
   "source": [
    "dfff = dfff.query('end_station_longitude < -73.8 and end_station_latitude < 41')\n",
    "dfff.plot.scatter(x='end_station_longitude', y='end_station_latitude',s=0.4, alpha=0.5).set_aspect('equal')\n",
    "dfff.plot.scatter(x='start_station_longitude', y='start_station_latitude',s=0.4, alpha=0.5).set_aspect('equal')"
   ]
  },
  {
   "cell_type": "markdown",
   "id": "a3e79c11",
   "metadata": {},
   "source": [
    "It can be seen as the map of new york."
   ]
  },
  {
   "cell_type": "markdown",
   "id": "63326ec8",
   "metadata": {},
   "source": [
    "# Gender"
   ]
  },
  {
   "cell_type": "code",
   "execution_count": 18,
   "id": "744065f5",
   "metadata": {},
   "outputs": [
    {
     "name": "stdout",
     "output_type": "stream",
     "text": [
      "number of males:  11971322\n",
      "number of females:  4092462\n",
      "number of unknowns:  1484555\n",
      "percentage of males from known:  74.5236738741009  %\n",
      "percentage of females from known:  9.241627003948759  %\n",
      "percentage of unknown data :  8.45980351758648  %\n"
     ]
    },
    {
     "data": {
      "image/png": "[encoded data removed]",
      "text/plain": [
       "<Figure size 640x480 with 1 Axes>"
      ]
     },
     "metadata": {},
     "output_type": "display_data"
    }
   ],
   "source": [
    "males=df['gender'].value_counts()[1]\n",
    "females=df['gender'].value_counts()[2]\n",
    "unknown=df['gender'].value_counts()[0]\n",
    "\n",
    "print(\"number of males: \",df['gender'].value_counts()[1])\n",
    "print(\"number of females: \",df['gender'].value_counts()[2])\n",
    "print(\"number of unknowns: \",df['gender'].value_counts()[0])\n",
    "\n",
    "print(\"percentage of males from known: \",(df['gender'].value_counts()[1]/(df['gender'].value_counts()[1]+ df['gender'].value_counts()[2]))*100,\" %\")\n",
    "\n",
    "print(\"percentage of females from known: \",(df['gender'].value_counts()[0]/(df['gender'].value_counts()[1]+ df['gender'].value_counts()[2]))*100,\" %\")\n",
    "\n",
    "print(\"percentage of unknown data : \",(df['gender'].value_counts()[0]/(df['gender'].value_counts()[0]+df['gender'].value_counts()[1]+ df['gender'].value_counts()[2]))*100,\" %\")\n",
    "\n",
    "import matplotlib.pyplot as plt\n",
    "\n",
    "import matplotlib.pyplot as plt\n",
    "\n",
    "# Assuming 'gender' column contains categorical data like 'male', 'female', 'unknown'\n",
    "gender_counts = df['gender'].value_counts()\n",
    "\n",
    "# Create a bar chart to visualize the distribution of genders\n",
    "plt.bar(gender_counts.index, gender_counts.values)\n",
    "\n",
    "plt.xlabel('Gender')\n",
    "plt.ylabel('Count')\n",
    "plt.show()\n"
   ]
  },
  {
   "cell_type": "markdown",
   "id": "a07e5590",
   "metadata": {},
   "source": [
    "# Birth"
   ]
  },
  {
   "cell_type": "code",
   "execution_count": 19,
   "id": "f91e6605",
   "metadata": {},
   "outputs": [
    {
     "name": "stdout",
     "output_type": "stream",
     "text": [
      "oldest rider age:  133\n",
      "youngest rider age:  16\n"
     ]
    },
    {
     "data": {
      "text/html": [
       "<div>\n",
       "<style scoped>\n",
       "    .dataframe tbody tr th:only-of-type {\n",
       "        vertical-align: middle;\n",
       "    }\n",
       "\n",
       "    .dataframe tbody tr th {\n",
       "        vertical-align: top;\n",
       "    }\n",
       "\n",
       "    .dataframe thead th {\n",
       "        text-align: right;\n",
       "    }\n",
       "</style>\n",
       "<table border=\"1\" class=\"dataframe\">\n",
       "  <thead>\n",
       "    <tr style=\"text-align: right;\">\n",
       "      <th></th>\n",
       "      <th>Unnamed: 0</th>\n",
       "      <th>tripduration</th>\n",
       "      <th>starttime</th>\n",
       "      <th>stoptime</th>\n",
       "      <th>start_station_id</th>\n",
       "      <th>start_station_latitude</th>\n",
       "      <th>start_station_longitude</th>\n",
       "      <th>end_station_id</th>\n",
       "      <th>end_station_latitude</th>\n",
       "      <th>end_station_longitude</th>\n",
       "      <th>bikeid</th>\n",
       "      <th>usertype</th>\n",
       "      <th>birth_year</th>\n",
       "      <th>gender</th>\n",
       "      <th>trip_minutes</th>\n",
       "    </tr>\n",
       "  </thead>\n",
       "  <tbody>\n",
       "    <tr>\n",
       "      <th>2787</th>\n",
       "      <td>2787</td>\n",
       "      <td>944</td>\n",
       "      <td>2018-01-27 11:41:22.7260</td>\n",
       "      <td>2018-01-27 11:57:06.8930</td>\n",
       "      <td>82.0</td>\n",
       "      <td>40.711174</td>\n",
       "      <td>-74.000165</td>\n",
       "      <td>2008.0</td>\n",
       "      <td>40.705693</td>\n",
       "      <td>-74.016777</td>\n",
       "      <td>19760</td>\n",
       "      <td>Subscriber</td>\n",
       "      <td>1900</td>\n",
       "      <td>1</td>\n",
       "      <td>15.733333</td>\n",
       "    </tr>\n",
       "    <tr>\n",
       "      <th>14413</th>\n",
       "      <td>14413</td>\n",
       "      <td>595</td>\n",
       "      <td>2018-01-27 17:14:29.9340</td>\n",
       "      <td>2018-01-27 17:24:24.9360</td>\n",
       "      <td>151.0</td>\n",
       "      <td>40.722104</td>\n",
       "      <td>-73.997249</td>\n",
       "      <td>368.0</td>\n",
       "      <td>40.730386</td>\n",
       "      <td>-74.002150</td>\n",
       "      <td>14958</td>\n",
       "      <td>Subscriber</td>\n",
       "      <td>1918</td>\n",
       "      <td>1</td>\n",
       "      <td>9.916667</td>\n",
       "    </tr>\n",
       "    <tr>\n",
       "      <th>14489</th>\n",
       "      <td>14489</td>\n",
       "      <td>518</td>\n",
       "      <td>2018-01-28 14:32:51.2550</td>\n",
       "      <td>2018-01-28 14:41:29.2800</td>\n",
       "      <td>151.0</td>\n",
       "      <td>40.722104</td>\n",
       "      <td>-73.997249</td>\n",
       "      <td>361.0</td>\n",
       "      <td>40.716059</td>\n",
       "      <td>-73.991908</td>\n",
       "      <td>33390</td>\n",
       "      <td>Subscriber</td>\n",
       "      <td>1918</td>\n",
       "      <td>1</td>\n",
       "      <td>8.633333</td>\n",
       "    </tr>\n",
       "    <tr>\n",
       "      <th>17277</th>\n",
       "      <td>17277</td>\n",
       "      <td>663</td>\n",
       "      <td>2018-01-16 18:13:56.2490</td>\n",
       "      <td>2018-01-16 18:24:59.9440</td>\n",
       "      <td>161.0</td>\n",
       "      <td>40.729170</td>\n",
       "      <td>-73.998102</td>\n",
       "      <td>152.0</td>\n",
       "      <td>40.714740</td>\n",
       "      <td>-74.009106</td>\n",
       "      <td>31117</td>\n",
       "      <td>Subscriber</td>\n",
       "      <td>1912</td>\n",
       "      <td>0</td>\n",
       "      <td>11.050000</td>\n",
       "    </tr>\n",
       "    <tr>\n",
       "      <th>17404</th>\n",
       "      <td>17404</td>\n",
       "      <td>844</td>\n",
       "      <td>2018-01-18 16:04:22.0420</td>\n",
       "      <td>2018-01-18 16:18:26.8830</td>\n",
       "      <td>161.0</td>\n",
       "      <td>40.729170</td>\n",
       "      <td>-73.998102</td>\n",
       "      <td>534.0</td>\n",
       "      <td>40.702551</td>\n",
       "      <td>-74.012723</td>\n",
       "      <td>21654</td>\n",
       "      <td>Subscriber</td>\n",
       "      <td>1912</td>\n",
       "      <td>0</td>\n",
       "      <td>14.066667</td>\n",
       "    </tr>\n",
       "    <tr>\n",
       "      <th>...</th>\n",
       "      <td>...</td>\n",
       "      <td>...</td>\n",
       "      <td>...</td>\n",
       "      <td>...</td>\n",
       "      <td>...</td>\n",
       "      <td>...</td>\n",
       "      <td>...</td>\n",
       "      <td>...</td>\n",
       "      <td>...</td>\n",
       "      <td>...</td>\n",
       "      <td>...</td>\n",
       "      <td>...</td>\n",
       "      <td>...</td>\n",
       "      <td>...</td>\n",
       "      <td>...</td>\n",
       "    </tr>\n",
       "    <tr>\n",
       "      <th>17543778</th>\n",
       "      <td>17543778</td>\n",
       "      <td>523</td>\n",
       "      <td>2018-12-31 14:03:27.3290</td>\n",
       "      <td>2018-12-31 14:12:10.7260</td>\n",
       "      <td>3414.0</td>\n",
       "      <td>40.680945</td>\n",
       "      <td>-73.975673</td>\n",
       "      <td>3673.0</td>\n",
       "      <td>40.677592</td>\n",
       "      <td>-73.955637</td>\n",
       "      <td>33166</td>\n",
       "      <td>Subscriber</td>\n",
       "      <td>1895</td>\n",
       "      <td>1</td>\n",
       "      <td>8.716667</td>\n",
       "    </tr>\n",
       "    <tr>\n",
       "      <th>17544295</th>\n",
       "      <td>17544295</td>\n",
       "      <td>417</td>\n",
       "      <td>2018-12-31 14:25:45.6910</td>\n",
       "      <td>2018-12-31 14:32:43.4210</td>\n",
       "      <td>297.0</td>\n",
       "      <td>40.734232</td>\n",
       "      <td>-73.986923</td>\n",
       "      <td>3711.0</td>\n",
       "      <td>40.729667</td>\n",
       "      <td>-73.980680</td>\n",
       "      <td>35117</td>\n",
       "      <td>Subscriber</td>\n",
       "      <td>1890</td>\n",
       "      <td>2</td>\n",
       "      <td>6.950000</td>\n",
       "    </tr>\n",
       "    <tr>\n",
       "      <th>17546200</th>\n",
       "      <td>17546200</td>\n",
       "      <td>192</td>\n",
       "      <td>2018-12-31 16:11:30.2290</td>\n",
       "      <td>2018-12-31 16:14:43.2250</td>\n",
       "      <td>545.0</td>\n",
       "      <td>40.736502</td>\n",
       "      <td>-73.978095</td>\n",
       "      <td>487.0</td>\n",
       "      <td>40.733143</td>\n",
       "      <td>-73.975739</td>\n",
       "      <td>16285</td>\n",
       "      <td>Subscriber</td>\n",
       "      <td>1900</td>\n",
       "      <td>1</td>\n",
       "      <td>3.200000</td>\n",
       "    </tr>\n",
       "    <tr>\n",
       "      <th>17546343</th>\n",
       "      <td>17546343</td>\n",
       "      <td>626</td>\n",
       "      <td>2018-12-31 16:22:31.2100</td>\n",
       "      <td>2018-12-31 16:32:57.4530</td>\n",
       "      <td>267.0</td>\n",
       "      <td>40.750977</td>\n",
       "      <td>-73.987654</td>\n",
       "      <td>380.0</td>\n",
       "      <td>40.734011</td>\n",
       "      <td>-74.002939</td>\n",
       "      <td>35147</td>\n",
       "      <td>Subscriber</td>\n",
       "      <td>1917</td>\n",
       "      <td>1</td>\n",
       "      <td>10.433333</td>\n",
       "    </tr>\n",
       "    <tr>\n",
       "      <th>17546826</th>\n",
       "      <td>17546826</td>\n",
       "      <td>400</td>\n",
       "      <td>2018-12-31 17:00:43.1680</td>\n",
       "      <td>2018-12-31 17:07:23.5940</td>\n",
       "      <td>458.0</td>\n",
       "      <td>40.751396</td>\n",
       "      <td>-74.005226</td>\n",
       "      <td>470.0</td>\n",
       "      <td>40.743453</td>\n",
       "      <td>-74.000040</td>\n",
       "      <td>21616</td>\n",
       "      <td>Subscriber</td>\n",
       "      <td>1896</td>\n",
       "      <td>1</td>\n",
       "      <td>6.666667</td>\n",
       "    </tr>\n",
       "  </tbody>\n",
       "</table>\n",
       "<p>11369 rows × 15 columns</p>\n",
       "</div>"
      ],
      "text/plain": [
       "          Unnamed: 0  tripduration                 starttime  \\\n",
       "2787            2787           944  2018-01-27 11:41:22.7260   \n",
       "14413          14413           595  2018-01-27 17:14:29.9340   \n",
       "14489          14489           518  2018-01-28 14:32:51.2550   \n",
       "17277          17277           663  2018-01-16 18:13:56.2490   \n",
       "17404          17404           844  2018-01-18 16:04:22.0420   \n",
       "...              ...           ...                       ...   \n",
       "17543778    17543778           523  2018-12-31 14:03:27.3290   \n",
       "17544295    17544295           417  2018-12-31 14:25:45.6910   \n",
       "17546200    17546200           192  2018-12-31 16:11:30.2290   \n",
       "17546343    17546343           626  2018-12-31 16:22:31.2100   \n",
       "17546826    17546826           400  2018-12-31 17:00:43.1680   \n",
       "\n",
       "                          stoptime  start_station_id  start_station_latitude  \\\n",
       "2787      2018-01-27 11:57:06.8930              82.0               40.711174   \n",
       "14413     2018-01-27 17:24:24.9360             151.0               40.722104   \n",
       "14489     2018-01-28 14:41:29.2800             151.0               40.722104   \n",
       "17277     2018-01-16 18:24:59.9440             161.0               40.729170   \n",
       "17404     2018-01-18 16:18:26.8830             161.0               40.729170   \n",
       "...                            ...               ...                     ...   \n",
       "17543778  2018-12-31 14:12:10.7260            3414.0               40.680945   \n",
       "17544295  2018-12-31 14:32:43.4210             297.0               40.734232   \n",
       "17546200  2018-12-31 16:14:43.2250             545.0               40.736502   \n",
       "17546343  2018-12-31 16:32:57.4530             267.0               40.750977   \n",
       "17546826  2018-12-31 17:07:23.5940             458.0               40.751396   \n",
       "\n",
       "          start_station_longitude  end_station_id  end_station_latitude  \\\n",
       "2787                   -74.000165          2008.0             40.705693   \n",
       "14413                  -73.997249           368.0             40.730386   \n",
       "14489                  -73.997249           361.0             40.716059   \n",
       "17277                  -73.998102           152.0             40.714740   \n",
       "17404                  -73.998102           534.0             40.702551   \n",
       "...                           ...             ...                   ...   \n",
       "17543778               -73.975673          3673.0             40.677592   \n",
       "17544295               -73.986923          3711.0             40.729667   \n",
       "17546200               -73.978095           487.0             40.733143   \n",
       "17546343               -73.987654           380.0             40.734011   \n",
       "17546826               -74.005226           470.0             40.743453   \n",
       "\n",
       "          end_station_longitude  bikeid    usertype  birth_year  gender  \\\n",
       "2787                 -74.016777   19760  Subscriber        1900       1   \n",
       "14413                -74.002150   14958  Subscriber        1918       1   \n",
       "14489                -73.991908   33390  Subscriber        1918       1   \n",
       "17277                -74.009106   31117  Subscriber        1912       0   \n",
       "17404                -74.012723   21654  Subscriber        1912       0   \n",
       "...                         ...     ...         ...         ...     ...   \n",
       "17543778             -73.955637   33166  Subscriber        1895       1   \n",
       "17544295             -73.980680   35117  Subscriber        1890       2   \n",
       "17546200             -73.975739   16285  Subscriber        1900       1   \n",
       "17546343             -74.002939   35147  Subscriber        1917       1   \n",
       "17546826             -74.000040   21616  Subscriber        1896       1   \n",
       "\n",
       "          trip_minutes  \n",
       "2787         15.733333  \n",
       "14413         9.916667  \n",
       "14489         8.633333  \n",
       "17277        11.050000  \n",
       "17404        14.066667  \n",
       "...                ...  \n",
       "17543778      8.716667  \n",
       "17544295      6.950000  \n",
       "17546200      3.200000  \n",
       "17546343     10.433333  \n",
       "17546826      6.666667  \n",
       "\n",
       "[11369 rows x 15 columns]"
      ]
     },
     "execution_count": 19,
     "metadata": {},
     "output_type": "execute_result"
    },
    {
     "data": {
      "image/png": "[encoded data removed]",
      "text/plain": [
       "<Figure size 640x480 with 1 Axes>"
      ]
     },
     "metadata": {},
     "output_type": "display_data"
    }
   ],
   "source": [
    "df.birth_year.hist()\n",
    "year=2018\n",
    "print(\"oldest rider age: \", year-df.birth_year.min())\n",
    "print(\"youngest rider age: \", year-df.birth_year.max())\n",
    "\n",
    "min_birth_year = df['birth_year'].min()\n",
    "df[df['birth_year'] == min_birth_year]\n",
    "df[df['birth_year'] <1920]"
   ]
  },
  {
   "cell_type": "markdown",
   "id": "e0ca69eb",
   "metadata": {},
   "source": [
    "# User type"
   ]
  },
  {
   "cell_type": "code",
   "execution_count": 20,
   "id": "56729e3b",
   "metadata": {},
   "outputs": [
    {
     "name": "stdout",
     "output_type": "stream",
     "text": [
      "percentage of subscriber:  0.8898178340411591  %\n",
      "percentage of customer:  0.1101821659588409  %\n"
     ]
    }
   ],
   "source": [
    "subs=df.usertype.value_counts()['Subscriber']\n",
    "\n",
    "cus=df.usertype.value_counts()['Customer']\n",
    "\n",
    "total=subs+cus\n",
    "\n",
    "print(\"percentage of subscriber: \", subs/total,\" %\")\n",
    "print(\"percentage of customer: \", cus/total,\" %\")"
   ]
  },
  {
   "cell_type": "markdown",
   "id": "89b68bf6",
   "metadata": {},
   "source": [
    "# datetime"
   ]
  },
  {
   "cell_type": "code",
   "execution_count": 21,
   "id": "176b7bde",
   "metadata": {},
   "outputs": [],
   "source": [
    "df['starttime'] = pd.to_datetime(df['starttime'])\n",
    "df['stoptime'] = pd.to_datetime(df['stoptime'])\n",
    "\n",
    "df['start_date'] = df['starttime'].dt.date\n",
    "df['stop_date'] = df['stoptime'].dt.date\n"
   ]
  },
  {
   "cell_type": "code",
   "execution_count": 22,
   "id": "f27fe229",
   "metadata": {},
   "outputs": [
    {
     "data": {
      "text/plain": [
       "1      718994\n",
       "2      843114\n",
       "3      976672\n",
       "4     1307543\n",
       "5     1824710\n",
       "6     1953103\n",
       "7     1913625\n",
       "8     1977177\n",
       "9     1877884\n",
       "10    1878657\n",
       "11    1260355\n",
       "12    1016505\n",
       "Name: starttime, dtype: int64"
      ]
     },
     "execution_count": 22,
     "metadata": {},
     "output_type": "execute_result"
    }
   ],
   "source": [
    "df['starttime'].dt.month.value_counts().sort_index()"
   ]
  },
  {
   "cell_type": "code",
   "execution_count": 23,
   "id": "de758b78",
   "metadata": {},
   "outputs": [
    {
     "name": "stdout",
     "output_type": "stream",
     "text": [
      "[ 1  2  3  4  5  6  7  8  9 10 11 12]\n",
      "[ 718994  843114  976672 1307543 1824710 1953103 1913625 1977177 1877884\n",
      " 1878657 1260355 1016505]\n"
     ]
    }
   ],
   "source": [
    "names_list=df['starttime'].dt.month.value_counts().sort_index().index.values\n",
    "values_list=df['starttime'].dt.month.value_counts().sort_index().values\n",
    "print(names_list)\n",
    "print(values_list)"
   ]
  },
  {
   "cell_type": "code",
   "execution_count": 24,
   "id": "d0254a21",
   "metadata": {},
   "outputs": [
    {
     "data": {
      "text/plain": [
       "Text(0.5, 1.0, 'Rides per month')"
      ]
     },
     "execution_count": 24,
     "metadata": {},
     "output_type": "execute_result"
    },
    {
     "data": {
      "image/png": "[encoded data removed]",
      "text/plain": [
       "<Figure size 1200x1000 with 1 Axes>"
      ]
     },
     "metadata": {},
     "output_type": "display_data"
    }
   ],
   "source": [
    "import numpy as np\n",
    "fig,ax=plt.subplots(figsize=(12,10))\n",
    "plt.bar(np.arange(len(values_list)),values_list,align='center',alpha=0.8,color='blue')\n",
    "plt.xticks(np.arange(len(names_list)),names_list)\n",
    "plt.ylabel('Total rides')\n",
    "plt.xlabel('Month')\n",
    "plt.title('Rides per month')"
   ]
  },
  {
   "cell_type": "markdown",
   "id": "9b7058d0",
   "metadata": {},
   "source": [
    "Higher Trip duration in the months the months of May , June , July , August , September and October.\n",
    "Could be due to the warmer weather conditions as compared to the other colder months."
   ]
  },
  {
   "cell_type": "code",
   "execution_count": 25,
   "id": "d849800e",
   "metadata": {},
   "outputs": [
    {
     "data": {
      "text/plain": [
       "0      153529\n",
       "1       85853\n",
       "2       50145\n",
       "3       31128\n",
       "4       32763\n",
       "5      113229\n",
       "6      382833\n",
       "7      807766\n",
       "8     1412674\n",
       "9     1111877\n",
       "10     786065\n",
       "11     826532\n",
       "12     956564\n",
       "13    1000809\n",
       "14    1019691\n",
       "15    1073021\n",
       "16    1252798\n",
       "17    1707105\n",
       "18    1626014\n",
       "19    1131276\n",
       "20     770210\n",
       "21     543730\n",
       "22     404767\n",
       "23     267960\n",
       "Name: starttime, dtype: int64"
      ]
     },
     "execution_count": 25,
     "metadata": {},
     "output_type": "execute_result"
    }
   ],
   "source": [
    "df['starttime'].dt.hour.value_counts().sort_index()"
   ]
  },
  {
   "cell_type": "code",
   "execution_count": 26,
   "id": "cbe47760",
   "metadata": {},
   "outputs": [
    {
     "name": "stdout",
     "output_type": "stream",
     "text": [
      "[ 153529   85853   50145   31128   32763  113229  382833  807766 1412674\n",
      " 1111877  786065  826532  956564 1000809 1019691 1073021 1252798 1707105\n",
      " 1626014 1131276  770210  543730  404767  267960]\n"
     ]
    }
   ],
   "source": [
    "hname_list=df['starttime'].dt.hour.value_counts().sort_index().index.values\n",
    "hvalue_list=df['starttime'].dt.hour.value_counts().sort_index().values\n",
    "print(hvalue_list)"
   ]
  },
  {
   "cell_type": "code",
   "execution_count": 27,
   "id": "738a0dc5",
   "metadata": {},
   "outputs": [
    {
     "data": {
      "text/plain": [
       "Text(0.5, 1.0, 'hours vs rides')"
      ]
     },
     "execution_count": 27,
     "metadata": {},
     "output_type": "execute_result"
    },
    {
     "data": {
      "image/png": "[encoded data removed]",
      "text/plain": [
       "<Figure size 1200x800 with 1 Axes>"
      ]
     },
     "metadata": {},
     "output_type": "display_data"
    }
   ],
   "source": [
    "fig,ax=plt.subplots(figsize=(12,8))\n",
    "plt.bar(np.arange(len(hvalue_list)),hvalue_list,align='center',alpha=0.8,color='red')\n",
    "plt.xticks(np.arange(len(hname_list)),hname_list)\n",
    "plt.ylabel('total rides')\n",
    "plt.xlabel('hours')\n",
    "plt.title('hours vs rides')"
   ]
  },
  {
   "cell_type": "markdown",
   "id": "37614a48",
   "metadata": {},
   "source": [
    "Higher trip durations during peak hours from 8 am to 9 am and 5pm to 6 pm"
   ]
  },
  {
   "cell_type": "markdown",
   "id": "6d9ad443",
   "metadata": {},
   "source": [
    "Trip Duration (seconds)\n",
    "Start time and date\n",
    "Stop time and date\n",
    "Start station name\n",
    "End station name\n",
    "Station ID\n",
    "Customer(Subscriber/Customer)\n",
    "Gender( 0: Unknown, 1: male, 2:female)"
   ]
  },
  {
   "cell_type": "code",
   "execution_count": 95,
   "id": "ca80936f",
   "metadata": {},
   "outputs": [
    {
     "name": "stdout",
     "output_type": "stream",
     "text": [
      "819\n",
      "851\n",
      "15244\n"
     ]
    }
   ],
   "source": [
    "print(len(df['start_station_id'].unique()))\n",
    "\n",
    "print(len(df['end_station_id'].unique()))\n",
    "print(len(df['bikeid'].unique()))"
   ]
  },
  {
   "cell_type": "markdown",
   "id": "bb4b3321",
   "metadata": {},
   "source": [
    "# Section 2 - Prediction Challenge:"
   ]
  },
  {
   "cell_type": "markdown",
   "id": "e440a28d",
   "metadata": {},
   "source": [
    "For now we have used a k-means for the clustering"
   ]
  },
  {
   "cell_type": "markdown",
   "id": "1f728c5a",
   "metadata": {},
   "source": [
    "# Clustering "
   ]
  },
  {
   "cell_type": "markdown",
   "id": "27414331",
   "metadata": {},
   "source": [
    "latitude, longitude ( x, y coordinates) \n",
    "Identiy number of cluster needed- elbow diagram\n",
    "plot clusters\n"
   ]
  },
  {
   "cell_type": "code",
   "execution_count": 28,
   "id": "4c99e42a",
   "metadata": {},
   "outputs": [],
   "source": [
    "start_coordinates=df[['start_station_latitude','start_station_longitude']]\n",
    "end_coordinates=df[['end_station_latitude','end_station_longitude']]"
   ]
  },
  {
   "cell_type": "code",
   "execution_count": 29,
   "id": "b07dfcee",
   "metadata": {},
   "outputs": [],
   "source": [
    "from sklearn.cluster import KMeans"
   ]
  },
  {
   "cell_type": "code",
   "execution_count": 31,
   "id": "0d0a70af",
   "metadata": {},
   "outputs": [],
   "source": [
    "kmeans=KMeans(n_clusters=20,random_state=20)"
   ]
  },
  {
   "cell_type": "code",
   "execution_count": 32,
   "id": "5d319971",
   "metadata": {},
   "outputs": [
    {
     "data": {
      "text/plain": [
       "KMeans(n_clusters=20, random_state=20)"
      ]
     },
     "execution_count": 32,
     "metadata": {},
     "output_type": "execute_result"
    }
   ],
   "source": [
    "kmeans.fit(start_coordinates)"
   ]
  },
  {
   "cell_type": "code",
   "execution_count": 33,
   "id": "b001437f",
   "metadata": {},
   "outputs": [],
   "source": [
    "df['start_coordinates_cluster']=kmeans.labels_"
   ]
  },
  {
   "cell_type": "markdown",
   "id": "bdad0826",
   "metadata": {},
   "source": [
    "Pick up demands can be seen by looking at the start coordinates since this will be used for to predict the furture demand."
   ]
  },
  {
   "cell_type": "code",
   "execution_count": 34,
   "id": "e6a1a378",
   "metadata": {},
   "outputs": [
    {
     "data": {
      "text/html": [
       "<div>\n",
       "<style scoped>\n",
       "    .dataframe tbody tr th:only-of-type {\n",
       "        vertical-align: middle;\n",
       "    }\n",
       "\n",
       "    .dataframe tbody tr th {\n",
       "        vertical-align: top;\n",
       "    }\n",
       "\n",
       "    .dataframe thead th {\n",
       "        text-align: right;\n",
       "    }\n",
       "</style>\n",
       "<table border=\"1\" class=\"dataframe\">\n",
       "  <thead>\n",
       "    <tr style=\"text-align: right;\">\n",
       "      <th></th>\n",
       "      <th>Unnamed: 0</th>\n",
       "      <th>tripduration</th>\n",
       "      <th>starttime</th>\n",
       "      <th>stoptime</th>\n",
       "      <th>start_station_id</th>\n",
       "      <th>start_station_latitude</th>\n",
       "      <th>start_station_longitude</th>\n",
       "      <th>end_station_id</th>\n",
       "      <th>end_station_latitude</th>\n",
       "      <th>end_station_longitude</th>\n",
       "      <th>bikeid</th>\n",
       "      <th>usertype</th>\n",
       "      <th>birth_year</th>\n",
       "      <th>gender</th>\n",
       "      <th>trip_minutes</th>\n",
       "      <th>start_date</th>\n",
       "      <th>stop_date</th>\n",
       "      <th>start_coordinates_cluster</th>\n",
       "    </tr>\n",
       "  </thead>\n",
       "  <tbody>\n",
       "    <tr>\n",
       "      <th>0</th>\n",
       "      <td>0</td>\n",
       "      <td>970</td>\n",
       "      <td>2018-01-01 13:50:57.434</td>\n",
       "      <td>2018-01-01 14:07:08.186</td>\n",
       "      <td>72.0</td>\n",
       "      <td>40.767272</td>\n",
       "      <td>-73.993929</td>\n",
       "      <td>505.0</td>\n",
       "      <td>40.749013</td>\n",
       "      <td>-73.988484</td>\n",
       "      <td>31956</td>\n",
       "      <td>Subscriber</td>\n",
       "      <td>1992</td>\n",
       "      <td>1</td>\n",
       "      <td>16.166667</td>\n",
       "      <td>2018-01-01</td>\n",
       "      <td>2018-01-01</td>\n",
       "      <td>14</td>\n",
       "    </tr>\n",
       "    <tr>\n",
       "      <th>1</th>\n",
       "      <td>1</td>\n",
       "      <td>723</td>\n",
       "      <td>2018-01-01 15:33:30.182</td>\n",
       "      <td>2018-01-01 15:45:33.341</td>\n",
       "      <td>72.0</td>\n",
       "      <td>40.767272</td>\n",
       "      <td>-73.993929</td>\n",
       "      <td>3255.0</td>\n",
       "      <td>40.750585</td>\n",
       "      <td>-73.994685</td>\n",
       "      <td>32536</td>\n",
       "      <td>Subscriber</td>\n",
       "      <td>1969</td>\n",
       "      <td>1</td>\n",
       "      <td>12.050000</td>\n",
       "      <td>2018-01-01</td>\n",
       "      <td>2018-01-01</td>\n",
       "      <td>14</td>\n",
       "    </tr>\n",
       "    <tr>\n",
       "      <th>2</th>\n",
       "      <td>2</td>\n",
       "      <td>496</td>\n",
       "      <td>2018-01-01 15:39:18.337</td>\n",
       "      <td>2018-01-01 15:47:35.172</td>\n",
       "      <td>72.0</td>\n",
       "      <td>40.767272</td>\n",
       "      <td>-73.993929</td>\n",
       "      <td>525.0</td>\n",
       "      <td>40.755942</td>\n",
       "      <td>-74.002116</td>\n",
       "      <td>16069</td>\n",
       "      <td>Subscriber</td>\n",
       "      <td>1956</td>\n",
       "      <td>1</td>\n",
       "      <td>8.266667</td>\n",
       "      <td>2018-01-01</td>\n",
       "      <td>2018-01-01</td>\n",
       "      <td>14</td>\n",
       "    </tr>\n",
       "    <tr>\n",
       "      <th>3</th>\n",
       "      <td>3</td>\n",
       "      <td>306</td>\n",
       "      <td>2018-01-01 15:40:13.372</td>\n",
       "      <td>2018-01-01 15:45:20.191</td>\n",
       "      <td>72.0</td>\n",
       "      <td>40.767272</td>\n",
       "      <td>-73.993929</td>\n",
       "      <td>447.0</td>\n",
       "      <td>40.763707</td>\n",
       "      <td>-73.985162</td>\n",
       "      <td>31781</td>\n",
       "      <td>Subscriber</td>\n",
       "      <td>1974</td>\n",
       "      <td>1</td>\n",
       "      <td>5.100000</td>\n",
       "      <td>2018-01-01</td>\n",
       "      <td>2018-01-01</td>\n",
       "      <td>14</td>\n",
       "    </tr>\n",
       "    <tr>\n",
       "      <th>4</th>\n",
       "      <td>4</td>\n",
       "      <td>306</td>\n",
       "      <td>2018-01-01 18:14:51.568</td>\n",
       "      <td>2018-01-01 18:19:57.642</td>\n",
       "      <td>72.0</td>\n",
       "      <td>40.767272</td>\n",
       "      <td>-73.993929</td>\n",
       "      <td>3356.0</td>\n",
       "      <td>40.774667</td>\n",
       "      <td>-73.984706</td>\n",
       "      <td>30319</td>\n",
       "      <td>Subscriber</td>\n",
       "      <td>1992</td>\n",
       "      <td>1</td>\n",
       "      <td>5.100000</td>\n",
       "      <td>2018-01-01</td>\n",
       "      <td>2018-01-01</td>\n",
       "      <td>14</td>\n",
       "    </tr>\n",
       "  </tbody>\n",
       "</table>\n",
       "</div>"
      ],
      "text/plain": [
       "   Unnamed: 0  tripduration               starttime                stoptime  \\\n",
       "0           0           970 2018-01-01 13:50:57.434 2018-01-01 14:07:08.186   \n",
       "1           1           723 2018-01-01 15:33:30.182 2018-01-01 15:45:33.341   \n",
       "2           2           496 2018-01-01 15:39:18.337 2018-01-01 15:47:35.172   \n",
       "3           3           306 2018-01-01 15:40:13.372 2018-01-01 15:45:20.191   \n",
       "4           4           306 2018-01-01 18:14:51.568 2018-01-01 18:19:57.642   \n",
       "\n",
       "   start_station_id  start_station_latitude  start_station_longitude  \\\n",
       "0              72.0               40.767272               -73.993929   \n",
       "1              72.0               40.767272               -73.993929   \n",
       "2              72.0               40.767272               -73.993929   \n",
       "3              72.0               40.767272               -73.993929   \n",
       "4              72.0               40.767272               -73.993929   \n",
       "\n",
       "   end_station_id  end_station_latitude  end_station_longitude  bikeid  \\\n",
       "0           505.0             40.749013             -73.988484   31956   \n",
       "1          3255.0             40.750585             -73.994685   32536   \n",
       "2           525.0             40.755942             -74.002116   16069   \n",
       "3           447.0             40.763707             -73.985162   31781   \n",
       "4          3356.0             40.774667             -73.984706   30319   \n",
       "\n",
       "     usertype  birth_year  gender  trip_minutes  start_date   stop_date  \\\n",
       "0  Subscriber        1992       1     16.166667  2018-01-01  2018-01-01   \n",
       "1  Subscriber        1969       1     12.050000  2018-01-01  2018-01-01   \n",
       "2  Subscriber        1956       1      8.266667  2018-01-01  2018-01-01   \n",
       "3  Subscriber        1974       1      5.100000  2018-01-01  2018-01-01   \n",
       "4  Subscriber        1992       1      5.100000  2018-01-01  2018-01-01   \n",
       "\n",
       "   start_coordinates_cluster  \n",
       "0                         14  \n",
       "1                         14  \n",
       "2                         14  \n",
       "3                         14  \n",
       "4                         14  "
      ]
     },
     "execution_count": 34,
     "metadata": {},
     "output_type": "execute_result"
    }
   ],
   "source": [
    "df.head()"
   ]
  },
  {
   "cell_type": "code",
   "execution_count": 52,
   "id": "a88b7dca",
   "metadata": {},
   "outputs": [
    {
     "data": {
      "text/html": [
       "<div>\n",
       "<style scoped>\n",
       "    .dataframe tbody tr th:only-of-type {\n",
       "        vertical-align: middle;\n",
       "    }\n",
       "\n",
       "    .dataframe tbody tr th {\n",
       "        vertical-align: top;\n",
       "    }\n",
       "\n",
       "    .dataframe thead th {\n",
       "        text-align: right;\n",
       "    }\n",
       "</style>\n",
       "<table border=\"1\" class=\"dataframe\">\n",
       "  <thead>\n",
       "    <tr style=\"text-align: right;\">\n",
       "      <th></th>\n",
       "      <th>Unnamed: 0</th>\n",
       "      <th>tripduration</th>\n",
       "      <th>starttime</th>\n",
       "      <th>stoptime</th>\n",
       "      <th>start_station_id</th>\n",
       "      <th>start_station_latitude</th>\n",
       "      <th>start_station_longitude</th>\n",
       "      <th>end_station_id</th>\n",
       "      <th>end_station_latitude</th>\n",
       "      <th>end_station_longitude</th>\n",
       "      <th>bikeid</th>\n",
       "      <th>usertype</th>\n",
       "      <th>birth_year</th>\n",
       "      <th>gender</th>\n",
       "      <th>trip_minutes</th>\n",
       "      <th>start_date</th>\n",
       "      <th>stop_date</th>\n",
       "      <th>start_coordinates_cluster</th>\n",
       "      <th>date</th>\n",
       "    </tr>\n",
       "  </thead>\n",
       "  <tbody>\n",
       "    <tr>\n",
       "      <th>0</th>\n",
       "      <td>0</td>\n",
       "      <td>970</td>\n",
       "      <td>2018-01-01 13:50:57.434</td>\n",
       "      <td>2018-01-01 14:07:08.186</td>\n",
       "      <td>72.0</td>\n",
       "      <td>40.767272</td>\n",
       "      <td>-73.993929</td>\n",
       "      <td>505.0</td>\n",
       "      <td>40.749013</td>\n",
       "      <td>-73.988484</td>\n",
       "      <td>31956</td>\n",
       "      <td>Subscriber</td>\n",
       "      <td>1992</td>\n",
       "      <td>1</td>\n",
       "      <td>16.166667</td>\n",
       "      <td>2018-01-01</td>\n",
       "      <td>2018-01-01</td>\n",
       "      <td>14</td>\n",
       "      <td>2018-01-01</td>\n",
       "    </tr>\n",
       "    <tr>\n",
       "      <th>1</th>\n",
       "      <td>1</td>\n",
       "      <td>723</td>\n",
       "      <td>2018-01-01 15:33:30.182</td>\n",
       "      <td>2018-01-01 15:45:33.341</td>\n",
       "      <td>72.0</td>\n",
       "      <td>40.767272</td>\n",
       "      <td>-73.993929</td>\n",
       "      <td>3255.0</td>\n",
       "      <td>40.750585</td>\n",
       "      <td>-73.994685</td>\n",
       "      <td>32536</td>\n",
       "      <td>Subscriber</td>\n",
       "      <td>1969</td>\n",
       "      <td>1</td>\n",
       "      <td>12.050000</td>\n",
       "      <td>2018-01-01</td>\n",
       "      <td>2018-01-01</td>\n",
       "      <td>14</td>\n",
       "      <td>2018-01-01</td>\n",
       "    </tr>\n",
       "    <tr>\n",
       "      <th>2</th>\n",
       "      <td>2</td>\n",
       "      <td>496</td>\n",
       "      <td>2018-01-01 15:39:18.337</td>\n",
       "      <td>2018-01-01 15:47:35.172</td>\n",
       "      <td>72.0</td>\n",
       "      <td>40.767272</td>\n",
       "      <td>-73.993929</td>\n",
       "      <td>525.0</td>\n",
       "      <td>40.755942</td>\n",
       "      <td>-74.002116</td>\n",
       "      <td>16069</td>\n",
       "      <td>Subscriber</td>\n",
       "      <td>1956</td>\n",
       "      <td>1</td>\n",
       "      <td>8.266667</td>\n",
       "      <td>2018-01-01</td>\n",
       "      <td>2018-01-01</td>\n",
       "      <td>14</td>\n",
       "      <td>2018-01-01</td>\n",
       "    </tr>\n",
       "    <tr>\n",
       "      <th>3</th>\n",
       "      <td>3</td>\n",
       "      <td>306</td>\n",
       "      <td>2018-01-01 15:40:13.372</td>\n",
       "      <td>2018-01-01 15:45:20.191</td>\n",
       "      <td>72.0</td>\n",
       "      <td>40.767272</td>\n",
       "      <td>-73.993929</td>\n",
       "      <td>447.0</td>\n",
       "      <td>40.763707</td>\n",
       "      <td>-73.985162</td>\n",
       "      <td>31781</td>\n",
       "      <td>Subscriber</td>\n",
       "      <td>1974</td>\n",
       "      <td>1</td>\n",
       "      <td>5.100000</td>\n",
       "      <td>2018-01-01</td>\n",
       "      <td>2018-01-01</td>\n",
       "      <td>14</td>\n",
       "      <td>2018-01-01</td>\n",
       "    </tr>\n",
       "    <tr>\n",
       "      <th>4</th>\n",
       "      <td>4</td>\n",
       "      <td>306</td>\n",
       "      <td>2018-01-01 18:14:51.568</td>\n",
       "      <td>2018-01-01 18:19:57.642</td>\n",
       "      <td>72.0</td>\n",
       "      <td>40.767272</td>\n",
       "      <td>-73.993929</td>\n",
       "      <td>3356.0</td>\n",
       "      <td>40.774667</td>\n",
       "      <td>-73.984706</td>\n",
       "      <td>30319</td>\n",
       "      <td>Subscriber</td>\n",
       "      <td>1992</td>\n",
       "      <td>1</td>\n",
       "      <td>5.100000</td>\n",
       "      <td>2018-01-01</td>\n",
       "      <td>2018-01-01</td>\n",
       "      <td>14</td>\n",
       "      <td>2018-01-01</td>\n",
       "    </tr>\n",
       "    <tr>\n",
       "      <th>5</th>\n",
       "      <td>5</td>\n",
       "      <td>1602</td>\n",
       "      <td>2018-01-01 21:31:54.192</td>\n",
       "      <td>2018-01-01 21:58:36.353</td>\n",
       "      <td>72.0</td>\n",
       "      <td>40.767272</td>\n",
       "      <td>-73.993929</td>\n",
       "      <td>482.0</td>\n",
       "      <td>40.739355</td>\n",
       "      <td>-73.999318</td>\n",
       "      <td>30106</td>\n",
       "      <td>Subscriber</td>\n",
       "      <td>1968</td>\n",
       "      <td>1</td>\n",
       "      <td>26.700000</td>\n",
       "      <td>2018-01-01</td>\n",
       "      <td>2018-01-01</td>\n",
       "      <td>14</td>\n",
       "      <td>2018-01-01</td>\n",
       "    </tr>\n",
       "    <tr>\n",
       "      <th>6</th>\n",
       "      <td>6</td>\n",
       "      <td>722</td>\n",
       "      <td>2018-01-02 07:54:53.646</td>\n",
       "      <td>2018-01-02 08:06:55.872</td>\n",
       "      <td>72.0</td>\n",
       "      <td>40.767272</td>\n",
       "      <td>-73.993929</td>\n",
       "      <td>228.0</td>\n",
       "      <td>40.754601</td>\n",
       "      <td>-73.971879</td>\n",
       "      <td>32059</td>\n",
       "      <td>Subscriber</td>\n",
       "      <td>1978</td>\n",
       "      <td>1</td>\n",
       "      <td>12.033333</td>\n",
       "      <td>2018-01-02</td>\n",
       "      <td>2018-01-02</td>\n",
       "      <td>14</td>\n",
       "      <td>2018-01-02</td>\n",
       "    </tr>\n",
       "    <tr>\n",
       "      <th>7</th>\n",
       "      <td>7</td>\n",
       "      <td>434</td>\n",
       "      <td>2018-01-02 08:06:14.331</td>\n",
       "      <td>2018-01-02 08:13:28.767</td>\n",
       "      <td>72.0</td>\n",
       "      <td>40.767272</td>\n",
       "      <td>-73.993929</td>\n",
       "      <td>173.0</td>\n",
       "      <td>40.760683</td>\n",
       "      <td>-73.984527</td>\n",
       "      <td>30525</td>\n",
       "      <td>Subscriber</td>\n",
       "      <td>1983</td>\n",
       "      <td>1</td>\n",
       "      <td>7.233333</td>\n",
       "      <td>2018-01-02</td>\n",
       "      <td>2018-01-02</td>\n",
       "      <td>14</td>\n",
       "      <td>2018-01-02</td>\n",
       "    </tr>\n",
       "    <tr>\n",
       "      <th>8</th>\n",
       "      <td>8</td>\n",
       "      <td>366</td>\n",
       "      <td>2018-01-02 08:10:15.255</td>\n",
       "      <td>2018-01-02 08:16:21.896</td>\n",
       "      <td>72.0</td>\n",
       "      <td>40.767272</td>\n",
       "      <td>-73.993929</td>\n",
       "      <td>479.0</td>\n",
       "      <td>40.760193</td>\n",
       "      <td>-73.991255</td>\n",
       "      <td>27439</td>\n",
       "      <td>Subscriber</td>\n",
       "      <td>1974</td>\n",
       "      <td>1</td>\n",
       "      <td>6.100000</td>\n",
       "      <td>2018-01-02</td>\n",
       "      <td>2018-01-02</td>\n",
       "      <td>14</td>\n",
       "      <td>2018-01-02</td>\n",
       "    </tr>\n",
       "    <tr>\n",
       "      <th>9</th>\n",
       "      <td>9</td>\n",
       "      <td>324</td>\n",
       "      <td>2018-01-02 08:13:30.896</td>\n",
       "      <td>2018-01-02 08:18:55.120</td>\n",
       "      <td>72.0</td>\n",
       "      <td>40.767272</td>\n",
       "      <td>-73.993929</td>\n",
       "      <td>450.0</td>\n",
       "      <td>40.762272</td>\n",
       "      <td>-73.987882</td>\n",
       "      <td>30892</td>\n",
       "      <td>Subscriber</td>\n",
       "      <td>1947</td>\n",
       "      <td>1</td>\n",
       "      <td>5.400000</td>\n",
       "      <td>2018-01-02</td>\n",
       "      <td>2018-01-02</td>\n",
       "      <td>14</td>\n",
       "      <td>2018-01-02</td>\n",
       "    </tr>\n",
       "  </tbody>\n",
       "</table>\n",
       "</div>"
      ],
      "text/plain": [
       "   Unnamed: 0  tripduration               starttime                stoptime  \\\n",
       "0           0           970 2018-01-01 13:50:57.434 2018-01-01 14:07:08.186   \n",
       "1           1           723 2018-01-01 15:33:30.182 2018-01-01 15:45:33.341   \n",
       "2           2           496 2018-01-01 15:39:18.337 2018-01-01 15:47:35.172   \n",
       "3           3           306 2018-01-01 15:40:13.372 2018-01-01 15:45:20.191   \n",
       "4           4           306 2018-01-01 18:14:51.568 2018-01-01 18:19:57.642   \n",
       "5           5          1602 2018-01-01 21:31:54.192 2018-01-01 21:58:36.353   \n",
       "6           6           722 2018-01-02 07:54:53.646 2018-01-02 08:06:55.872   \n",
       "7           7           434 2018-01-02 08:06:14.331 2018-01-02 08:13:28.767   \n",
       "8           8           366 2018-01-02 08:10:15.255 2018-01-02 08:16:21.896   \n",
       "9           9           324 2018-01-02 08:13:30.896 2018-01-02 08:18:55.120   \n",
       "\n",
       "   start_station_id  start_station_latitude  start_station_longitude  \\\n",
       "0              72.0               40.767272               -73.993929   \n",
       "1              72.0               40.767272               -73.993929   \n",
       "2              72.0               40.767272               -73.993929   \n",
       "3              72.0               40.767272               -73.993929   \n",
       "4              72.0               40.767272               -73.993929   \n",
       "5              72.0               40.767272               -73.993929   \n",
       "6              72.0               40.767272               -73.993929   \n",
       "7              72.0               40.767272               -73.993929   \n",
       "8              72.0               40.767272               -73.993929   \n",
       "9              72.0               40.767272               -73.993929   \n",
       "\n",
       "   end_station_id  end_station_latitude  end_station_longitude  bikeid  \\\n",
       "0           505.0             40.749013             -73.988484   31956   \n",
       "1          3255.0             40.750585             -73.994685   32536   \n",
       "2           525.0             40.755942             -74.002116   16069   \n",
       "3           447.0             40.763707             -73.985162   31781   \n",
       "4          3356.0             40.774667             -73.984706   30319   \n",
       "5           482.0             40.739355             -73.999318   30106   \n",
       "6           228.0             40.754601             -73.971879   32059   \n",
       "7           173.0             40.760683             -73.984527   30525   \n",
       "8           479.0             40.760193             -73.991255   27439   \n",
       "9           450.0             40.762272             -73.987882   30892   \n",
       "\n",
       "     usertype  birth_year  gender  trip_minutes  start_date   stop_date  \\\n",
       "0  Subscriber        1992       1     16.166667  2018-01-01  2018-01-01   \n",
       "1  Subscriber        1969       1     12.050000  2018-01-01  2018-01-01   \n",
       "2  Subscriber        1956       1      8.266667  2018-01-01  2018-01-01   \n",
       "3  Subscriber        1974       1      5.100000  2018-01-01  2018-01-01   \n",
       "4  Subscriber        1992       1      5.100000  2018-01-01  2018-01-01   \n",
       "5  Subscriber        1968       1     26.700000  2018-01-01  2018-01-01   \n",
       "6  Subscriber        1978       1     12.033333  2018-01-02  2018-01-02   \n",
       "7  Subscriber        1983       1      7.233333  2018-01-02  2018-01-02   \n",
       "8  Subscriber        1974       1      6.100000  2018-01-02  2018-01-02   \n",
       "9  Subscriber        1947       1      5.400000  2018-01-02  2018-01-02   \n",
       "\n",
       "   start_coordinates_cluster        date  \n",
       "0                         14  2018-01-01  \n",
       "1                         14  2018-01-01  \n",
       "2                         14  2018-01-01  \n",
       "3                         14  2018-01-01  \n",
       "4                         14  2018-01-01  \n",
       "5                         14  2018-01-01  \n",
       "6                         14  2018-01-02  \n",
       "7                         14  2018-01-02  \n",
       "8                         14  2018-01-02  \n",
       "9                         14  2018-01-02  "
      ]
     },
     "execution_count": 52,
     "metadata": {},
     "output_type": "execute_result"
    }
   ],
   "source": [
    "df['starttime'].dt.day.count()\n",
    "df['date']=df['starttime'].dt.date\n",
    "df.head(10)"
   ]
  },
  {
   "cell_type": "code",
   "execution_count": 86,
   "id": "f205bf57",
   "metadata": {},
   "outputs": [
    {
     "name": "stdout",
     "output_type": "stream",
     "text": [
      "most number of pickups:  1661056  at cluster:  1\n",
      "most demand in cluster  1\n"
     ]
    },
    {
     "data": {
      "text/plain": [
       "<BarContainer object of 20 artists>"
      ]
     },
     "execution_count": 86,
     "metadata": {},
     "output_type": "execute_result"
    },
    {
     "data": {
      "image/png": "[encoded data removed]",
      "text/plain": [
       "<Figure size 640x480 with 1 Axes>"
      ]
     },
     "metadata": {},
     "output_type": "display_data"
    }
   ],
   "source": [
    "print('most number of pickups: ',df['start_coordinates_cluster'].value_counts().sort_index().max(),' at cluster: ',df['start_coordinates_cluster'].value_counts().idxmax())\n",
    "print('most demand in cluster ', df['start_coordinates_cluster'].value_counts().idxmax())\n",
    "values_listt=df['start_coordinates_cluster'].value_counts().sort_index().values\n",
    "index_listt=df['start_coordinates_cluster'].value_counts().sort_index().index\n",
    "\n",
    "plt.bar(range(len(index_listt)),values_listt)\n",
    "\n",
    "# most occurrences in cluster label used to see which cluster has most picksup according to start_time coordinates"
   ]
  },
  {
   "cell_type": "markdown",
   "id": "93b3a6aa",
   "metadata": {},
   "source": [
    "Can be seen from the graph , cluster 1 shows the highest number of pickups"
   ]
  },
  {
   "cell_type": "code",
   "execution_count": 92,
   "id": "ba371172",
   "metadata": {},
   "outputs": [
    {
     "name": "stdout",
     "output_type": "stream",
     "text": [
      "number of occurrences in cluster 1: 1661056\n"
     ]
    },
    {
     "data": {
      "text/html": [
       "<div>\n",
       "<style scoped>\n",
       "    .dataframe tbody tr th:only-of-type {\n",
       "        vertical-align: middle;\n",
       "    }\n",
       "\n",
       "    .dataframe tbody tr th {\n",
       "        vertical-align: top;\n",
       "    }\n",
       "\n",
       "    .dataframe thead th {\n",
       "        text-align: right;\n",
       "    }\n",
       "</style>\n",
       "<table border=\"1\" class=\"dataframe\">\n",
       "  <thead>\n",
       "    <tr style=\"text-align: right;\">\n",
       "      <th></th>\n",
       "      <th>Unnamed: 0</th>\n",
       "      <th>tripduration</th>\n",
       "      <th>starttime</th>\n",
       "      <th>stoptime</th>\n",
       "      <th>start_station_id</th>\n",
       "      <th>start_station_latitude</th>\n",
       "      <th>start_station_longitude</th>\n",
       "      <th>end_station_id</th>\n",
       "      <th>end_station_latitude</th>\n",
       "      <th>end_station_longitude</th>\n",
       "      <th>bikeid</th>\n",
       "      <th>usertype</th>\n",
       "      <th>birth_year</th>\n",
       "      <th>gender</th>\n",
       "      <th>trip_minutes</th>\n",
       "      <th>start_date</th>\n",
       "      <th>stop_date</th>\n",
       "      <th>start_coordinates_cluster</th>\n",
       "      <th>date</th>\n",
       "    </tr>\n",
       "  </thead>\n",
       "  <tbody>\n",
       "    <tr>\n",
       "      <th>27868</th>\n",
       "      <td>27868</td>\n",
       "      <td>314</td>\n",
       "      <td>2018-01-01 03:59:54.496</td>\n",
       "      <td>2018-01-01 04:05:09.049</td>\n",
       "      <td>174.0</td>\n",
       "      <td>40.738177</td>\n",
       "      <td>-73.977387</td>\n",
       "      <td>527.0</td>\n",
       "      <td>40.744023</td>\n",
       "      <td>-73.976056</td>\n",
       "      <td>19680</td>\n",
       "      <td>Subscriber</td>\n",
       "      <td>1988</td>\n",
       "      <td>2</td>\n",
       "      <td>5.233333</td>\n",
       "      <td>2018-01-01</td>\n",
       "      <td>2018-01-01</td>\n",
       "      <td>1</td>\n",
       "      <td>2018-01-01</td>\n",
       "    </tr>\n",
       "    <tr>\n",
       "      <th>27869</th>\n",
       "      <td>27869</td>\n",
       "      <td>246</td>\n",
       "      <td>2018-01-01 10:17:50.017</td>\n",
       "      <td>2018-01-01 10:21:56.715</td>\n",
       "      <td>174.0</td>\n",
       "      <td>40.738177</td>\n",
       "      <td>-73.977387</td>\n",
       "      <td>491.0</td>\n",
       "      <td>40.740964</td>\n",
       "      <td>-73.986022</td>\n",
       "      <td>28574</td>\n",
       "      <td>Subscriber</td>\n",
       "      <td>1975</td>\n",
       "      <td>1</td>\n",
       "      <td>4.100000</td>\n",
       "      <td>2018-01-01</td>\n",
       "      <td>2018-01-01</td>\n",
       "      <td>1</td>\n",
       "      <td>2018-01-01</td>\n",
       "    </tr>\n",
       "    <tr>\n",
       "      <th>27870</th>\n",
       "      <td>27870</td>\n",
       "      <td>1267</td>\n",
       "      <td>2018-01-01 11:34:04.432</td>\n",
       "      <td>2018-01-01 11:55:12.049</td>\n",
       "      <td>174.0</td>\n",
       "      <td>40.738177</td>\n",
       "      <td>-73.977387</td>\n",
       "      <td>161.0</td>\n",
       "      <td>40.729170</td>\n",
       "      <td>-73.998102</td>\n",
       "      <td>19692</td>\n",
       "      <td>Subscriber</td>\n",
       "      <td>1980</td>\n",
       "      <td>2</td>\n",
       "      <td>21.116667</td>\n",
       "      <td>2018-01-01</td>\n",
       "      <td>2018-01-01</td>\n",
       "      <td>1</td>\n",
       "      <td>2018-01-01</td>\n",
       "    </tr>\n",
       "    <tr>\n",
       "      <th>27871</th>\n",
       "      <td>27871</td>\n",
       "      <td>1263</td>\n",
       "      <td>2018-01-01 13:00:32.442</td>\n",
       "      <td>2018-01-01 13:21:36.081</td>\n",
       "      <td>174.0</td>\n",
       "      <td>40.738177</td>\n",
       "      <td>-73.977387</td>\n",
       "      <td>3288.0</td>\n",
       "      <td>40.778301</td>\n",
       "      <td>-73.948813</td>\n",
       "      <td>31282</td>\n",
       "      <td>Subscriber</td>\n",
       "      <td>1995</td>\n",
       "      <td>1</td>\n",
       "      <td>21.050000</td>\n",
       "      <td>2018-01-01</td>\n",
       "      <td>2018-01-01</td>\n",
       "      <td>1</td>\n",
       "      <td>2018-01-01</td>\n",
       "    </tr>\n",
       "    <tr>\n",
       "      <th>27872</th>\n",
       "      <td>27872</td>\n",
       "      <td>973</td>\n",
       "      <td>2018-01-01 15:56:18.426</td>\n",
       "      <td>2018-01-01 16:12:31.828</td>\n",
       "      <td>174.0</td>\n",
       "      <td>40.738177</td>\n",
       "      <td>-73.977387</td>\n",
       "      <td>311.0</td>\n",
       "      <td>40.717227</td>\n",
       "      <td>-73.988021</td>\n",
       "      <td>31579</td>\n",
       "      <td>Subscriber</td>\n",
       "      <td>1989</td>\n",
       "      <td>2</td>\n",
       "      <td>16.216667</td>\n",
       "      <td>2018-01-01</td>\n",
       "      <td>2018-01-01</td>\n",
       "      <td>1</td>\n",
       "      <td>2018-01-01</td>\n",
       "    </tr>\n",
       "    <tr>\n",
       "      <th>...</th>\n",
       "      <td>...</td>\n",
       "      <td>...</td>\n",
       "      <td>...</td>\n",
       "      <td>...</td>\n",
       "      <td>...</td>\n",
       "      <td>...</td>\n",
       "      <td>...</td>\n",
       "      <td>...</td>\n",
       "      <td>...</td>\n",
       "      <td>...</td>\n",
       "      <td>...</td>\n",
       "      <td>...</td>\n",
       "      <td>...</td>\n",
       "      <td>...</td>\n",
       "      <td>...</td>\n",
       "      <td>...</td>\n",
       "      <td>...</td>\n",
       "      <td>...</td>\n",
       "      <td>...</td>\n",
       "    </tr>\n",
       "    <tr>\n",
       "      <th>17548260</th>\n",
       "      <td>17548260</td>\n",
       "      <td>456</td>\n",
       "      <td>2018-12-31 22:50:57.840</td>\n",
       "      <td>2018-12-31 22:58:34.639</td>\n",
       "      <td>3463.0</td>\n",
       "      <td>40.735367</td>\n",
       "      <td>-73.987974</td>\n",
       "      <td>3660.0</td>\n",
       "      <td>40.741022</td>\n",
       "      <td>-74.001385</td>\n",
       "      <td>34137</td>\n",
       "      <td>Subscriber</td>\n",
       "      <td>1955</td>\n",
       "      <td>2</td>\n",
       "      <td>7.600000</td>\n",
       "      <td>2018-12-31</td>\n",
       "      <td>2018-12-31</td>\n",
       "      <td>1</td>\n",
       "      <td>2018-12-31</td>\n",
       "    </tr>\n",
       "    <tr>\n",
       "      <th>17548264</th>\n",
       "      <td>17548264</td>\n",
       "      <td>557</td>\n",
       "      <td>2018-12-31 22:55:40.778</td>\n",
       "      <td>2018-12-31 23:04:57.886</td>\n",
       "      <td>528.0</td>\n",
       "      <td>40.742909</td>\n",
       "      <td>-73.977061</td>\n",
       "      <td>3680.0</td>\n",
       "      <td>40.754121</td>\n",
       "      <td>-73.980252</td>\n",
       "      <td>30153</td>\n",
       "      <td>Subscriber</td>\n",
       "      <td>1987</td>\n",
       "      <td>1</td>\n",
       "      <td>9.283333</td>\n",
       "      <td>2018-12-31</td>\n",
       "      <td>2018-12-31</td>\n",
       "      <td>1</td>\n",
       "      <td>2018-12-31</td>\n",
       "    </tr>\n",
       "    <tr>\n",
       "      <th>17548281</th>\n",
       "      <td>17548281</td>\n",
       "      <td>1118</td>\n",
       "      <td>2018-12-31 23:10:04.187</td>\n",
       "      <td>2018-12-31 23:28:42.865</td>\n",
       "      <td>497.0</td>\n",
       "      <td>40.737050</td>\n",
       "      <td>-73.990093</td>\n",
       "      <td>518.0</td>\n",
       "      <td>40.747804</td>\n",
       "      <td>-73.973442</td>\n",
       "      <td>32348</td>\n",
       "      <td>Subscriber</td>\n",
       "      <td>1949</td>\n",
       "      <td>1</td>\n",
       "      <td>18.633333</td>\n",
       "      <td>2018-12-31</td>\n",
       "      <td>2018-12-31</td>\n",
       "      <td>1</td>\n",
       "      <td>2018-12-31</td>\n",
       "    </tr>\n",
       "    <tr>\n",
       "      <th>17548288</th>\n",
       "      <td>17548288</td>\n",
       "      <td>849</td>\n",
       "      <td>2018-12-31 23:15:39.911</td>\n",
       "      <td>2018-12-31 23:29:49.834</td>\n",
       "      <td>474.0</td>\n",
       "      <td>40.745168</td>\n",
       "      <td>-73.986831</td>\n",
       "      <td>281.0</td>\n",
       "      <td>40.764397</td>\n",
       "      <td>-73.973715</td>\n",
       "      <td>29995</td>\n",
       "      <td>Subscriber</td>\n",
       "      <td>1961</td>\n",
       "      <td>1</td>\n",
       "      <td>14.150000</td>\n",
       "      <td>2018-12-31</td>\n",
       "      <td>2018-12-31</td>\n",
       "      <td>1</td>\n",
       "      <td>2018-12-31</td>\n",
       "    </tr>\n",
       "    <tr>\n",
       "      <th>17548292</th>\n",
       "      <td>17548292</td>\n",
       "      <td>3918</td>\n",
       "      <td>2018-12-31 23:18:42.509</td>\n",
       "      <td>2019-01-01 00:24:01.413</td>\n",
       "      <td>526.0</td>\n",
       "      <td>40.747659</td>\n",
       "      <td>-73.984907</td>\n",
       "      <td>484.0</td>\n",
       "      <td>40.755003</td>\n",
       "      <td>-73.980144</td>\n",
       "      <td>34089</td>\n",
       "      <td>Subscriber</td>\n",
       "      <td>1975</td>\n",
       "      <td>1</td>\n",
       "      <td>65.300000</td>\n",
       "      <td>2018-12-31</td>\n",
       "      <td>2019-01-01</td>\n",
       "      <td>1</td>\n",
       "      <td>2018-12-31</td>\n",
       "    </tr>\n",
       "  </tbody>\n",
       "</table>\n",
       "<p>1661056 rows × 19 columns</p>\n",
       "</div>"
      ],
      "text/plain": [
       "          Unnamed: 0  tripduration               starttime  \\\n",
       "27868          27868           314 2018-01-01 03:59:54.496   \n",
       "27869          27869           246 2018-01-01 10:17:50.017   \n",
       "27870          27870          1267 2018-01-01 11:34:04.432   \n",
       "27871          27871          1263 2018-01-01 13:00:32.442   \n",
       "27872          27872           973 2018-01-01 15:56:18.426   \n",
       "...              ...           ...                     ...   \n",
       "17548260    17548260           456 2018-12-31 22:50:57.840   \n",
       "17548264    17548264           557 2018-12-31 22:55:40.778   \n",
       "17548281    17548281          1118 2018-12-31 23:10:04.187   \n",
       "17548288    17548288           849 2018-12-31 23:15:39.911   \n",
       "17548292    17548292          3918 2018-12-31 23:18:42.509   \n",
       "\n",
       "                        stoptime  start_station_id  start_station_latitude  \\\n",
       "27868    2018-01-01 04:05:09.049             174.0               40.738177   \n",
       "27869    2018-01-01 10:21:56.715             174.0               40.738177   \n",
       "27870    2018-01-01 11:55:12.049             174.0               40.738177   \n",
       "27871    2018-01-01 13:21:36.081             174.0               40.738177   \n",
       "27872    2018-01-01 16:12:31.828             174.0               40.738177   \n",
       "...                          ...               ...                     ...   \n",
       "17548260 2018-12-31 22:58:34.639            3463.0               40.735367   \n",
       "17548264 2018-12-31 23:04:57.886             528.0               40.742909   \n",
       "17548281 2018-12-31 23:28:42.865             497.0               40.737050   \n",
       "17548288 2018-12-31 23:29:49.834             474.0               40.745168   \n",
       "17548292 2019-01-01 00:24:01.413             526.0               40.747659   \n",
       "\n",
       "          start_station_longitude  end_station_id  end_station_latitude  \\\n",
       "27868                  -73.977387           527.0             40.744023   \n",
       "27869                  -73.977387           491.0             40.740964   \n",
       "27870                  -73.977387           161.0             40.729170   \n",
       "27871                  -73.977387          3288.0             40.778301   \n",
       "27872                  -73.977387           311.0             40.717227   \n",
       "...                           ...             ...                   ...   \n",
       "17548260               -73.987974          3660.0             40.741022   \n",
       "17548264               -73.977061          3680.0             40.754121   \n",
       "17548281               -73.990093           518.0             40.747804   \n",
       "17548288               -73.986831           281.0             40.764397   \n",
       "17548292               -73.984907           484.0             40.755003   \n",
       "\n",
       "          end_station_longitude  bikeid    usertype  birth_year  gender  \\\n",
       "27868                -73.976056   19680  Subscriber        1988       2   \n",
       "27869                -73.986022   28574  Subscriber        1975       1   \n",
       "27870                -73.998102   19692  Subscriber        1980       2   \n",
       "27871                -73.948813   31282  Subscriber        1995       1   \n",
       "27872                -73.988021   31579  Subscriber        1989       2   \n",
       "...                         ...     ...         ...         ...     ...   \n",
       "17548260             -74.001385   34137  Subscriber        1955       2   \n",
       "17548264             -73.980252   30153  Subscriber        1987       1   \n",
       "17548281             -73.973442   32348  Subscriber        1949       1   \n",
       "17548288             -73.973715   29995  Subscriber        1961       1   \n",
       "17548292             -73.980144   34089  Subscriber        1975       1   \n",
       "\n",
       "          trip_minutes  start_date   stop_date  start_coordinates_cluster  \\\n",
       "27868         5.233333  2018-01-01  2018-01-01                          1   \n",
       "27869         4.100000  2018-01-01  2018-01-01                          1   \n",
       "27870        21.116667  2018-01-01  2018-01-01                          1   \n",
       "27871        21.050000  2018-01-01  2018-01-01                          1   \n",
       "27872        16.216667  2018-01-01  2018-01-01                          1   \n",
       "...                ...         ...         ...                        ...   \n",
       "17548260      7.600000  2018-12-31  2018-12-31                          1   \n",
       "17548264      9.283333  2018-12-31  2018-12-31                          1   \n",
       "17548281     18.633333  2018-12-31  2018-12-31                          1   \n",
       "17548288     14.150000  2018-12-31  2018-12-31                          1   \n",
       "17548292     65.300000  2018-12-31  2019-01-01                          1   \n",
       "\n",
       "                date  \n",
       "27868     2018-01-01  \n",
       "27869     2018-01-01  \n",
       "27870     2018-01-01  \n",
       "27871     2018-01-01  \n",
       "27872     2018-01-01  \n",
       "...              ...  \n",
       "17548260  2018-12-31  \n",
       "17548264  2018-12-31  \n",
       "17548281  2018-12-31  \n",
       "17548288  2018-12-31  \n",
       "17548292  2018-12-31  \n",
       "\n",
       "[1661056 rows x 19 columns]"
      ]
     },
     "execution_count": 92,
     "metadata": {},
     "output_type": "execute_result"
    }
   ],
   "source": [
    "cluster1_data=df[df['start_coordinates_cluster']==1]\n",
    "print(\"number of occurrences in cluster 1:\",len(cluster1_data))\n",
    "cluster1_data"
   ]
  },
  {
   "cell_type": "code",
   "execution_count": 113,
   "id": "5219dee6",
   "metadata": {},
   "outputs": [
    {
     "data": {
      "text/plain": [
       "array([19680, 28574, 19692, ..., 32348, 29995, 34089], dtype=int64)"
      ]
     },
     "execution_count": 113,
     "metadata": {},
     "output_type": "execute_result"
    }
   ],
   "source": [
    "cluster1_data['bikeid'].values"
   ]
  },
  {
   "cell_type": "markdown",
   "id": "10f59537",
   "metadata": {},
   "source": [
    "age group of people in cluster 1 - min , max , mean\n",
    "gender ratio in cluster 1 \n",
    "\n",
    "month wise pickups distribution of cluster 1 \n",
    "hour wise pickups distribution of cluster 1\n",
    "\n",
    "trip duration , min ,max , mean \n",
    "user type distribution for cluster 1 \n"
   ]
  },
  {
   "cell_type": "code",
   "execution_count": 56,
   "id": "00ff3663",
   "metadata": {},
   "outputs": [
    {
     "name": "stdout",
     "output_type": "stream",
     "text": [
      "           date  starttime\n",
      "0    2018-01-01       5500\n",
      "1    2018-01-02      18818\n",
      "2    2018-01-03      24299\n",
      "3    2018-01-04       1922\n",
      "4    2018-01-05       4972\n",
      "..          ...        ...\n",
      "360  2018-12-27      30879\n",
      "361  2018-12-28      11921\n",
      "362  2018-12-29      28788\n",
      "363  2018-12-30      22329\n",
      "364  2018-12-31      18763\n",
      "\n",
      "[365 rows x 2 columns]\n"
     ]
    }
   ],
   "source": [
    "pickups_per_day=df.groupby('date')['starttime'].count().reset_index()\n",
    "\n",
    "print(pickups_per_day)"
   ]
  },
  {
   "cell_type": "code",
   "execution_count": 35,
   "id": "e8e4f223",
   "metadata": {},
   "outputs": [
    {
     "data": {
      "image/png": "[encoded data removed]",
      "text/plain": [
       "<Figure size 1000x800 with 1 Axes>"
      ]
     },
     "metadata": {},
     "output_type": "display_data"
    }
   ],
   "source": [
    "import matplotlib.pyplot as plt\n",
    "import pandas as pd\n",
    "\n",
    "# Assuming you have a DataFrame 'df' with cluster labels and start coordinates\n",
    "# df should have columns 'start station longitude', 'start station latitude', and 'cluster'\n",
    "\n",
    "# Scatter plot with different colors for each cluster\n",
    "plt.figure(figsize=(10, 8))\n",
    "\n",
    "# Loop through each cluster and plot points\n",
    "for cluster in df['start_coordinates_cluster'].unique():\n",
    "    cluster_data = df[df['start_coordinates_cluster'] == cluster]\n",
    "    plt.scatter(cluster_data['start_station_longitude'], cluster_data['start_station_latitude'], label=f'Cluster {cluster}')\n",
    "\n",
    "# Add labels and legend\n",
    "plt.xlabel('Longitude')\n",
    "plt.ylabel('Latitude')\n",
    "plt.title('Clusters Based on Starting Locations')\n",
    "plt.legend()\n",
    "plt.show()\n"
   ]
  },
  {
   "cell_type": "markdown",
   "id": "e6b29639",
   "metadata": {},
   "source": [
    "The scatter plot for clustering needs improvement but due to lack of time and computation power this is what we came up with. This was done for use to understand not to showcase resultls."
   ]
  },
  {
   "cell_type": "markdown",
   "id": "124f83aa",
   "metadata": {},
   "source": [
    "# Section 3 - Exploratory Component:"
   ]
  },
  {
   "cell_type": "markdown",
   "id": "67b8b28b",
   "metadata": {},
   "source": [
    "Here we some different ideas (We are not sure what to chose yet):\n",
    "\n",
    "One idea would be to examine how weather conditions, particularly precipitation, affects Citi Bike ridership in New York. By extending the dataset with weather data, we would aim to determine if there is a correlation between precipitation and the number of bike rides. This analysis will provide insights into whether rainy days discourage users from utilizing the bike-sharing system.\n",
    "\n",
    "Another idea would be to build a decision tree model to predict bike usage likelihood based on user demographics, including gender, age, and subscription status. The model will classify users into usage categories, helping identify demographic factors that influence bike usage."
   ]
  },
  {
   "cell_type": "markdown",
   "id": "251c538d",
   "metadata": {},
   "source": [
    "# Section 4 - Conclusions:"
   ]
  },
  {
   "cell_type": "markdown",
   "id": "af495d98",
   "metadata": {},
   "source": [
    "No conclusions yet"
   ]
  },
  {
   "cell_type": "markdown",
   "id": "41277f6b",
   "metadata": {},
   "source": [
    "Progress so far (milestone1):\n",
    "\n",
    "We showed a short introduction of the data as well as some visualization for the different features. We found some interesting inferences from the data such as the demographic and trip durations over months/hours.\n",
    "\n",
    "We began the predictive section by performing clustering. Initially started offtrying to figure out the ideal k value using the elmow graph, but due to lack of computation power ,we could not complete it. \n",
    "We use the k value as 20 ( as specified in the project descriptions) directly and identified 20 clusters and found that cluster 1 had the highest trip duration.\n",
    "\n",
    "Note: More work needs to be done in the exploratory section.\n",
    "Data cleaning was not really required so far.\n",
    "The data should also be cleaned a bit more ( remove outliers and missing values) before the predictive section is done further.\n"
   ]
  },
  {
   "cell_type": "code",
   "execution_count": null,
   "id": "1ace720e",
   "metadata": {},
   "outputs": [],
   "source": []
  }
 ],
 "metadata": {
  "kernelspec": {
   "display_name": "Python 3 (ipykernel)",
   "language": "python",
   "name": "python3"
  },
  "language_info": {
   "codemirror_mode": {
    "name": "ipython",
    "version": 3
   },
   "file_extension": ".py",
   "mimetype": "text/x-python",
   "name": "python",
   "nbconvert_exporter": "python",
   "pygments_lexer": "ipython3",
   "version": "3.9.13"
  }
 },
 "nbformat": 4,
 "nbformat_minor": 5
}
